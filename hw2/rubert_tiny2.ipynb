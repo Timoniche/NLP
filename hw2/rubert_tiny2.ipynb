{
 "cells": [
  {
   "cell_type": "markdown",
   "source": [
    "# Train and Validation Data Preparing"
   ],
   "metadata": {
    "collapsed": false
   },
   "id": "ca4f5a3e2d36a133"
  },
  {
   "cell_type": "code",
   "execution_count": 2,
   "outputs": [],
   "source": [
    "import torch\n",
    "import pandas as pd\n",
    "from torch.utils.data import TensorDataset\n",
    "from sklearn.model_selection import train_test_split\n",
    "from utils.common_utils import cur_dir"
   ],
   "metadata": {
    "collapsed": false,
    "ExecuteTime": {
     "end_time": "2024-03-21T12:42:57.318303Z",
     "start_time": "2024-03-21T12:42:55.975281Z"
    }
   },
   "id": "f8d00ce6c4d3a61b"
  },
  {
   "cell_type": "code",
   "execution_count": 3,
   "outputs": [
    {
     "name": "stdout",
     "output_type": "stream",
     "text": [
      "num_labels: 3\n"
     ]
    }
   ],
   "source": [
    "data = pd.read_json(cur_dir() + '/sentiment-analysis-in-russian/train.json')\n",
    "sentiment_to_label = {\n",
    "    'positive': 0,\n",
    "    'neutral': 1,\n",
    "    'negative': 2\n",
    "}\n",
    "num_labels = len(sentiment_to_label)\n",
    "print('num_labels:', num_labels)\n",
    "\n",
    "data['label'] = data['sentiment'].map(sentiment_to_label)"
   ],
   "metadata": {
    "collapsed": false,
    "ExecuteTime": {
     "end_time": "2024-03-21T12:42:57.638832Z",
     "start_time": "2024-03-21T12:42:57.319018Z"
    }
   },
   "id": "4d8d6be978fc391c"
  },
  {
   "cell_type": "code",
   "execution_count": 4,
   "outputs": [
    {
     "data": {
      "text/plain": "sentiment\nneutral     4034\npositive    2795\nnegative    1434\nName: count, dtype: int64"
     },
     "execution_count": 4,
     "metadata": {},
     "output_type": "execute_result"
    }
   ],
   "source": [
    "data['sentiment'].value_counts()"
   ],
   "metadata": {
    "collapsed": false,
    "ExecuteTime": {
     "end_time": "2024-03-21T12:42:57.648052Z",
     "start_time": "2024-03-21T12:42:57.638699Z"
    }
   },
   "id": "dc3b25a96a66b184"
  },
  {
   "cell_type": "code",
   "execution_count": 5,
   "outputs": [],
   "source": [
    "data['text_length'] = data['text'].apply(lambda x: len(x.split()))"
   ],
   "metadata": {
    "collapsed": false,
    "ExecuteTime": {
     "end_time": "2024-03-21T12:42:57.870064Z",
     "start_time": "2024-03-21T12:42:57.739653Z"
    }
   },
   "id": "b8ee12a37014cabf"
  },
  {
   "cell_type": "code",
   "execution_count": 6,
   "outputs": [
    {
     "data": {
      "text/plain": "<Figure size 1500x1000 with 1 Axes>",
      "image/png": "[encoded data removed]"
     },
     "metadata": {},
     "output_type": "display_data"
    }
   ],
   "source": [
    "import matplotlib.pyplot as plt\n",
    "import seaborn as sns\n",
    "\n",
    "plt.figure(figsize=(15, 10))\n",
    "sns.histplot(data=data['text_length'])\n",
    "plt.show()"
   ],
   "metadata": {
    "collapsed": false,
    "ExecuteTime": {
     "end_time": "2024-03-21T12:42:59.979015Z",
     "start_time": "2024-03-21T12:42:59.124619Z"
    }
   },
   "id": "207e926dde2b66be"
  },
  {
   "cell_type": "code",
   "execution_count": 7,
   "outputs": [],
   "source": [
    "train_data, val_data = train_test_split(data, test_size=0.2, random_state=42)"
   ],
   "metadata": {
    "collapsed": false,
    "ExecuteTime": {
     "end_time": "2024-03-21T12:43:00.081161Z",
     "start_time": "2024-03-21T12:43:00.074578Z"
    }
   },
   "id": "dd2f4a3073ca3391"
  },
  {
   "cell_type": "code",
   "execution_count": 8,
   "outputs": [
    {
     "name": "stdout",
     "output_type": "stream",
     "text": [
      "                                                   text    id sentiment  \\\n",
      "4410  *В Казахстане нет места для АЭС\\n* Казахстанск...  6464   neutral   \n",
      "6720  По итогам трех кварталов 2016 года АвтоВАЗ сни...  8774  negative   \n",
      "6753  \\n\\nВ Алматы состоялся запуск нового котлоагре...  8807  positive   \n",
      "3375  Более 25 млн собрано для детей с нарушениями Н...  5429  positive   \n",
      "3422  Ситуация на валютном рынке в настоящее время о...  5476   neutral   \n",
      "...                                                 ...   ...       ...   \n",
      "5734  \\n\\nВ рамках исполнения поручения Главы госуда...  7788  positive   \n",
      "5191  Глава МИР РК Женис Касымбек предложил разрешит...  7245   neutral   \n",
      "5390  Пассажирам \"Тулпар-Тальго\", встречающим нового...  7444  positive   \n",
      "860   На правительственном часе по налоговым и тамож...  2914   neutral   \n",
      "7270  Fitch Ratings-Москва-20 декабря 2016 г. \\n \\nF...  9324  positive   \n",
      "\n",
      "      label  text_length  \n",
      "4410      1          550  \n",
      "6720      2          464  \n",
      "6753      0          137  \n",
      "3375      0          173  \n",
      "3422      1          214  \n",
      "...     ...          ...  \n",
      "5734      0         1133  \n",
      "5191      1          197  \n",
      "5390      0          167  \n",
      "860       1          108  \n",
      "7270      0         2951  \n",
      "\n",
      "[6610 rows x 5 columns]\n"
     ]
    }
   ],
   "source": [
    "print(train_data)"
   ],
   "metadata": {
    "collapsed": false,
    "ExecuteTime": {
     "end_time": "2024-03-21T12:43:02.449862Z",
     "start_time": "2024-03-21T12:43:02.446211Z"
    }
   },
   "id": "c9a62e6c2984fceb"
  },
  {
   "cell_type": "markdown",
   "source": [
    "# Tokenizing With Rubert-Tiny2"
   ],
   "metadata": {
    "collapsed": false
   },
   "id": "cc6553b1cb5c7f0a"
  },
  {
   "cell_type": "code",
   "execution_count": 9,
   "outputs": [
    {
     "name": "stderr",
     "output_type": "stream",
     "text": [
      "/Users/timoniche/PycharmProjects/NLP/.venv/lib/python3.9/site-packages/urllib3/__init__.py:35: NotOpenSSLWarning: urllib3 v2 only supports OpenSSL 1.1.1+, currently the 'ssl' module is compiled with 'LibreSSL 2.8.3'. See: https://github.com/urllib3/urllib3/issues/3020\n",
      "  warnings.warn(\n"
     ]
    }
   ],
   "source": [
    "from transformers import BertForSequenceClassification, BertTokenizer\n",
    "\n",
    "tokenizer = BertTokenizer.from_pretrained('cointegrated/rubert-tiny2')\n",
    "\n",
    "\n",
    "def tokenize_data(data, max_length=512):\n",
    "    texts = data['text'].tolist()\n",
    "    tokens = tokenizer.batch_encode_plus(\n",
    "        texts,\n",
    "        max_length=max_length,\n",
    "        padding='max_length',\n",
    "        truncation=True,\n",
    "        return_tensors='pt'\n",
    "    )\n",
    "    return tokens\n",
    "\n",
    "\n",
    "train_tokens = tokenize_data(train_data)\n",
    "val_tokens = tokenize_data(val_data)"
   ],
   "metadata": {
    "collapsed": false,
    "ExecuteTime": {
     "end_time": "2024-03-21T12:43:55.947642Z",
     "start_time": "2024-03-21T12:43:04.948346Z"
    }
   },
   "id": "8cf06e97c36ff85e"
  },
  {
   "cell_type": "code",
   "execution_count": 10,
   "outputs": [
    {
     "name": "stdout",
     "output_type": "stream",
     "text": [
      "torch.Size([6610, 512])\n"
     ]
    }
   ],
   "source": [
    "print(train_tokens.input_ids.shape)"
   ],
   "metadata": {
    "collapsed": false,
    "ExecuteTime": {
     "end_time": "2024-03-21T12:44:18.161114Z",
     "start_time": "2024-03-21T12:44:18.155422Z"
    }
   },
   "id": "686f4cd9033c0938"
  },
  {
   "cell_type": "code",
   "execution_count": 11,
   "outputs": [],
   "source": [
    "train_dataset = TensorDataset(\n",
    "    train_tokens['input_ids'],\n",
    "    train_tokens['attention_mask'],\n",
    "    torch.tensor(train_data['label'].tolist(), dtype=torch.long),\n",
    ")\n",
    "\n",
    "val_dataset = TensorDataset(\n",
    "    val_tokens['input_ids'],\n",
    "    val_tokens['attention_mask'],\n",
    "    torch.tensor(val_data['label'].tolist(), dtype=torch.long),\n",
    ")"
   ],
   "metadata": {
    "collapsed": false,
    "ExecuteTime": {
     "end_time": "2024-03-21T12:44:18.829130Z",
     "start_time": "2024-03-21T12:44:18.825952Z"
    }
   },
   "id": "95db731373580f81"
  },
  {
   "cell_type": "markdown",
   "source": [
    "# Loading Rubert-Tiny2 Pretrained"
   ],
   "metadata": {
    "collapsed": false
   },
   "id": "e1600f8461f05f9d"
  },
  {
   "cell_type": "code",
   "execution_count": 12,
   "outputs": [
    {
     "name": "stdout",
     "output_type": "stream",
     "text": [
      "mps\n"
     ]
    }
   ],
   "source": [
    "device = 'mps' if torch.backends.mps.is_built() else 'cuda' if torch.cuda.is_available() else 'cpu'\n",
    "\n",
    "print(device)"
   ],
   "metadata": {
    "collapsed": false,
    "ExecuteTime": {
     "end_time": "2024-03-21T12:44:22.257753Z",
     "start_time": "2024-03-21T12:44:22.254735Z"
    }
   },
   "id": "8ac350ec82b2eca6"
  },
  {
   "cell_type": "code",
   "execution_count": 35,
   "outputs": [
    {
     "name": "stderr",
     "output_type": "stream",
     "text": [
      "Some weights of BertForSequenceClassification were not initialized from the model checkpoint at cointegrated/rubert-tiny2 and are newly initialized: ['classifier.bias', 'classifier.weight']\n",
      "You should probably TRAIN this model on a down-stream task to be able to use it for predictions and inference.\n"
     ]
    }
   ],
   "source": [
    "model = BertForSequenceClassification.from_pretrained('cointegrated/rubert-tiny2', num_labels=num_labels).to(device)"
   ],
   "metadata": {
    "collapsed": false,
    "ExecuteTime": {
     "end_time": "2024-03-20T00:09:38.206763Z",
     "start_time": "2024-03-20T00:09:37.299736Z"
    }
   },
   "id": "ca59bcf2d0b02e3a"
  },
  {
   "cell_type": "markdown",
   "source": [
    "# Fine-Tuning Rubert-Tiny2 with CLS token"
   ],
   "metadata": {
    "collapsed": false
   },
   "id": "81f3c2bc7b01dd48"
  },
  {
   "cell_type": "code",
   "execution_count": 15,
   "outputs": [],
   "source": [
    "from torch.utils.data import DataLoader\n",
    "\n",
    "\n",
    "def run_model_on_loader(\n",
    "        model,\n",
    "        loader: DataLoader,\n",
    "        epoch,\n",
    "        num_epochs,\n",
    "        optimizer,\n",
    "        mode,\n",
    "):\n",
    "    total_loss = 0\n",
    "\n",
    "    for input_ids, attention_mask, labels in tqdm(loader, desc=f'{mode} epoch {epoch}/{num_epochs}...'):\n",
    "        if mode == 'Training':\n",
    "            optimizer.zero_grad()\n",
    "\n",
    "        input_ids, attention_mask, labels = input_ids.to(device), attention_mask.to(device), labels.to(device)\n",
    "\n",
    "        outputs = model(\n",
    "            input_ids=input_ids,\n",
    "            attention_mask=attention_mask,\n",
    "            labels=labels\n",
    "        )\n",
    "\n",
    "        outputs_loss = outputs.loss\n",
    "        total_loss += outputs_loss.item()\n",
    "\n",
    "        if mode == 'Training':\n",
    "            outputs_loss.backward()\n",
    "            optimizer.step()\n",
    "\n",
    "    loss = total_loss / len(loader)\n",
    "    print(f'{mode} epoch {epoch + 1}/{num_epochs}: {mode} Loss: {loss:.4f}')"
   ],
   "metadata": {
    "collapsed": false,
    "ExecuteTime": {
     "end_time": "2024-03-21T12:44:54.699003Z",
     "start_time": "2024-03-21T12:44:54.694800Z"
    }
   },
   "id": "3671633331050732"
  },
  {
   "cell_type": "code",
   "execution_count": 16,
   "outputs": [],
   "source": [
    "from tqdm import tqdm\n",
    "\n",
    "\n",
    "def cls_train(\n",
    "        model,\n",
    "        train_loader,\n",
    "        val_loader,\n",
    "        optimizer,\n",
    "        num_epochs=5,\n",
    "):\n",
    "    for epoch in range(num_epochs):\n",
    "        model.train()\n",
    "\n",
    "        run_model_on_loader(model, train_loader, epoch, num_epochs, optimizer, mode='Training')\n",
    "\n",
    "        model.eval()\n",
    "\n",
    "        with torch.no_grad():\n",
    "            run_model_on_loader(model, val_loader, epoch, num_epochs, optimizer, mode='Validating')"
   ],
   "metadata": {
    "collapsed": false,
    "ExecuteTime": {
     "end_time": "2024-03-21T12:44:54.794643Z",
     "start_time": "2024-03-21T12:44:54.791471Z"
    }
   },
   "id": "1f2b17bac9377e5b"
  },
  {
   "cell_type": "code",
   "execution_count": 25,
   "outputs": [],
   "source": [
    "import torch\n",
    "from torch.utils.data import DataLoader, TensorDataset\n",
    "\n",
    "train_loader = DataLoader(train_dataset, batch_size=8, shuffle=True)\n",
    "val_loader = DataLoader(val_dataset, batch_size=8, shuffle=False)\n",
    "\n"
   ],
   "metadata": {
    "collapsed": false,
    "ExecuteTime": {
     "end_time": "2024-03-21T12:49:05.194238Z",
     "start_time": "2024-03-21T12:49:05.177718Z"
    }
   },
   "id": "b923c857b126087e"
  },
  {
   "cell_type": "code",
   "execution_count": null,
   "outputs": [],
   "source": [
    "optimizer = torch.optim.AdamW(model.parameters(), lr=5e-5)\n",
    "\n",
    "cls_train(model, train_loader, val_loader, optimizer)"
   ],
   "metadata": {
    "collapsed": false
   },
   "id": "114657f8336bd4ad"
  },
  {
   "cell_type": "markdown",
   "source": [
    "# Running on test json"
   ],
   "metadata": {
    "collapsed": false
   },
   "id": "f0179277e770e395"
  },
  {
   "cell_type": "code",
   "execution_count": 32,
   "outputs": [
    {
     "name": "stdout",
     "output_type": "stream",
     "text": [
      "                                                   text    id\n",
      "0     Как сообщает пресс-служба акимата Алматы, для ...     0\n",
      "1     Казахстанские авиакомпании перевозят 250 тысяч...     1\n",
      "2     На состоявшемся под председательством Касым-Жо...     2\n",
      "3     В ОАЭ состоялись переговоры между казахстанско...     3\n",
      "4     12 вагонов грузового поезда сошли с путей в Во...     4\n",
      "...                                                 ...   ...\n",
      "2051  На официальной странице общественного движения...  2079\n",
      "2052  официальный курс – 330,55 тенге за Доллар США ...  2083\n",
      "2053  «Базовая ставка, которая сейчас составляет 12%...  2084\n",
      "2054  На начальном этапе за неоплату парковки на при...  2087\n",
      "2055  Российский авторынок в октябре снизил темпы па...  2088\n",
      "\n",
      "[2056 rows x 2 columns]\n"
     ]
    }
   ],
   "source": [
    "df = pd.read_json(cur_dir() + '/sentiment-analysis-in-russian/test.json')\n",
    "\n",
    "print(df)"
   ],
   "metadata": {
    "collapsed": false,
    "ExecuteTime": {
     "end_time": "2024-03-21T18:59:14.105442Z",
     "start_time": "2024-03-21T18:59:14.001579Z"
    }
   },
   "id": "9e4bdbcf9c27126f"
  },
  {
   "cell_type": "code",
   "execution_count": 33,
   "outputs": [
    {
     "name": "stdout",
     "output_type": "stream",
     "text": [
      "Index(['text', 'id'], dtype='object')\n"
     ]
    }
   ],
   "source": [
    "print(df.keys())"
   ],
   "metadata": {
    "collapsed": false,
    "ExecuteTime": {
     "end_time": "2024-03-21T18:59:17.109724Z",
     "start_time": "2024-03-21T18:59:17.105853Z"
    }
   },
   "id": "b5f4e838a81cbee9"
  },
  {
   "cell_type": "code",
   "execution_count": 34,
   "outputs": [
    {
     "name": "stdout",
     "output_type": "stream",
     "text": [
      "{'input_ids': tensor([[    2,  7063, 29679,  ...,     0,     0,     0],\n",
      "        [    2, 11493,  3095,  ...,     0,     0,     0],\n",
      "        [    2,  1041, 79778,  ..., 72875,   613,     3],\n",
      "        ...,\n",
      "        [    2,   105, 27610,  ...,     0,     0,     0],\n",
      "        [    2,  1041, 63001,  ...,     0,     0,     0],\n",
      "        [    2, 33444, 17041,  ...,     0,     0,     0]]), 'token_type_ids': tensor([[0, 0, 0,  ..., 0, 0, 0],\n",
      "        [0, 0, 0,  ..., 0, 0, 0],\n",
      "        [0, 0, 0,  ..., 0, 0, 0],\n",
      "        ...,\n",
      "        [0, 0, 0,  ..., 0, 0, 0],\n",
      "        [0, 0, 0,  ..., 0, 0, 0],\n",
      "        [0, 0, 0,  ..., 0, 0, 0]]), 'attention_mask': tensor([[1, 1, 1,  ..., 0, 0, 0],\n",
      "        [1, 1, 1,  ..., 0, 0, 0],\n",
      "        [1, 1, 1,  ..., 1, 1, 1],\n",
      "        ...,\n",
      "        [1, 1, 1,  ..., 0, 0, 0],\n",
      "        [1, 1, 1,  ..., 0, 0, 0],\n",
      "        [1, 1, 1,  ..., 0, 0, 0]])}\n"
     ]
    }
   ],
   "source": [
    "tokens = tokenize_data(df)\n",
    "print(tokens)"
   ],
   "metadata": {
    "collapsed": false,
    "ExecuteTime": {
     "end_time": "2024-03-21T18:59:30.716681Z",
     "start_time": "2024-03-21T18:59:17.634011Z"
    }
   },
   "id": "58e0729f58fc1c1a"
  },
  {
   "cell_type": "code",
   "execution_count": 35,
   "outputs": [
    {
     "name": "stdout",
     "output_type": "stream",
     "text": [
      "2056\n",
      "512\n"
     ]
    }
   ],
   "source": [
    "a = tokens.input_ids\n",
    "print(len(a))\n",
    "print(len(a[0]))"
   ],
   "metadata": {
    "collapsed": false,
    "ExecuteTime": {
     "end_time": "2024-03-21T18:59:37.058706Z",
     "start_time": "2024-03-21T18:59:37.047661Z"
    }
   },
   "id": "57bab4b8d45eb9b0"
  },
  {
   "cell_type": "code",
   "execution_count": 36,
   "outputs": [],
   "source": [
    "dataset = TensorDataset(\n",
    "    tokens['input_ids'],\n",
    "    tokens['attention_mask'],\n",
    "    torch.tensor(df['id'].tolist(), dtype=torch.long),\n",
    ")"
   ],
   "metadata": {
    "collapsed": false,
    "ExecuteTime": {
     "end_time": "2024-03-21T18:59:38.451814Z",
     "start_time": "2024-03-21T18:59:38.442762Z"
    }
   },
   "id": "f696c2a4cb5206e0"
  },
  {
   "cell_type": "code",
   "execution_count": 37,
   "outputs": [],
   "source": [
    "loader = DataLoader(dataset, batch_size=8, shuffle=False)"
   ],
   "metadata": {
    "collapsed": false,
    "ExecuteTime": {
     "end_time": "2024-03-21T18:59:39.682444Z",
     "start_time": "2024-03-21T18:59:39.668749Z"
    }
   },
   "id": "441db8b2a153c248"
  },
  {
   "cell_type": "code",
   "execution_count": 29,
   "outputs": [],
   "source": [
    "def eval_model(model, loader):\n",
    "    sample = []\n",
    "    model.eval()\n",
    "    with torch.no_grad():\n",
    "        for input_ids, attention_mask, id in tqdm(loader):\n",
    "            outputs = model(\n",
    "                input_ids=input_ids.to(device),\n",
    "                attention_mask=attention_mask.to(device),\n",
    "            )\n",
    "            logits = outputs.logits\n",
    "            sentiment = torch.argmax(logits, dim=1).tolist()\n",
    "            for i in range(len(id)):\n",
    "                sample.append((id[i].item(), sentiment[i]))\n",
    "\n",
    "    return sample"
   ],
   "metadata": {
    "collapsed": false,
    "ExecuteTime": {
     "end_time": "2024-03-21T18:58:49.479353Z",
     "start_time": "2024-03-21T18:58:49.468676Z"
    }
   },
   "id": "795dba70169fbaf8"
  },
  {
   "cell_type": "code",
   "execution_count": 50,
   "outputs": [
    {
     "name": "stderr",
     "output_type": "stream",
     "text": [
      "100%|██████████| 257/257 [00:08<00:00, 31.04it/s]\n"
     ]
    }
   ],
   "source": [
    "sample = eval_model(model, loader)"
   ],
   "metadata": {
    "collapsed": false,
    "ExecuteTime": {
     "end_time": "2024-03-20T00:20:11.379510Z",
     "start_time": "2024-03-20T00:20:03.084831Z"
    }
   },
   "id": "4a0f5209378d2a45"
  },
  {
   "cell_type": "code",
   "execution_count": 51,
   "outputs": [
    {
     "name": "stdout",
     "output_type": "stream",
     "text": [
      "[(0, 2), (1, 0), (2, 2), (3, 0), (4, 2), (5, 1), (6, 0), (7, 0), (8, 1), (9, 1), (10, 2), (11, 0), (12, 2), (13, 1), (14, 1), (15, 2), (16, 0), (17, 1), (18, 1), (19, 0), (20, 0), (21, 2), (22, 2), (23, 1), (24, 1), (25, 2), (26, 2), (27, 0), (28, 1), (29, 0), (30, 1), (31, 0), (32, 1), (33, 2), (34, 1), (35, 1), (36, 0), (37, 0), (38, 2), (39, 1), (40, 0), (41, 2), (42, 1), (43, 0), (44, 1), (45, 1), (46, 0), (47, 1), (48, 1), (49, 2), (50, 1), (51, 1), (52, 0), (53, 2), (54, 0), (55, 1), (56, 1), (57, 1), (58, 1), (59, 1), (60, 1), (61, 1), (62, 0), (63, 0), (64, 1), (65, 0), (66, 2), (67, 1), (68, 0), (69, 2), (70, 0), (71, 0), (72, 1), (73, 1), (74, 1), (75, 0), (76, 1), (77, 0), (78, 0), (79, 0), (80, 1), (81, 2), (82, 0), (83, 0), (84, 0), (85, 1), (86, 0), (87, 2), (88, 1), (89, 0), (90, 0), (91, 1), (92, 1), (93, 1), (94, 0), (95, 0), (96, 2), (97, 0), (98, 2), (99, 0), (100, 0), (101, 1), (102, 1), (103, 2), (104, 1), (105, 2), (106, 1), (107, 0), (108, 2), (109, 1), (110, 0), (111, 1), (112, 0), (113, 1), (114, 1), (115, 0), (116, 0), (117, 0), (118, 1), (119, 0), (120, 1), (121, 1), (122, 1), (123, 2), (124, 0), (125, 1), (126, 2), (127, 2), (128, 1), (129, 1), (130, 0), (131, 0), (132, 0), (133, 1), (134, 0), (135, 0), (136, 1), (137, 1), (138, 1), (139, 2), (140, 0), (141, 1), (142, 1), (143, 1), (144, 0), (145, 2), (146, 0), (147, 0), (148, 0), (149, 1), (150, 2), (151, 0), (152, 1), (153, 1), (154, 0), (155, 1), (156, 1), (157, 0), (158, 0), (159, 2), (160, 0), (161, 2), (162, 0), (163, 0), (164, 1), (165, 1), (166, 1), (167, 1), (168, 2), (169, 1), (170, 2), (171, 2), (172, 2), (173, 0), (174, 2), (175, 1), (176, 0), (177, 0), (178, 1), (179, 2), (180, 2), (181, 1), (182, 1), (183, 1), (184, 1), (185, 1), (186, 1), (187, 0), (188, 2), (189, 0), (190, 0), (191, 0), (192, 1), (193, 2), (194, 0), (195, 2), (196, 1), (197, 1), (198, 1), (199, 1), (200, 0), (201, 1), (202, 1), (203, 0), (204, 0), (205, 2), (206, 0), (207, 0), (208, 0), (209, 0), (210, 0), (211, 1), (212, 0), (213, 1), (214, 1), (215, 1), (216, 2), (217, 2), (218, 0), (219, 0), (220, 0), (221, 0), (222, 1), (223, 1), (224, 1), (225, 1), (226, 0), (227, 1), (228, 0), (229, 0), (230, 0), (231, 1), (232, 0), (233, 1), (234, 2), (235, 1), (236, 0), (237, 1), (238, 1), (239, 2), (240, 1), (241, 0), (242, 1), (243, 1), (244, 2), (245, 0), (246, 1), (247, 2), (248, 0), (249, 1), (250, 1), (251, 1), (252, 0), (253, 1), (254, 0), (255, 0), (256, 1), (257, 2), (258, 0), (259, 0), (260, 1), (261, 0), (262, 2), (263, 2), (264, 2), (265, 1), (266, 1), (267, 2), (268, 0), (269, 2), (270, 0), (271, 1), (272, 1), (273, 1), (274, 0), (275, 0), (276, 1), (277, 2), (278, 1), (279, 1), (280, 2), (281, 1), (282, 2), (283, 1), (284, 0), (285, 1), (286, 0), (287, 0), (288, 2), (289, 1), (290, 0), (291, 2), (292, 1), (293, 1), (294, 1), (295, 0), (296, 0), (297, 1), (298, 1), (299, 0), (300, 2), (301, 1), (302, 2), (303, 2), (304, 0), (305, 1), (306, 0), (307, 1), (308, 1), (309, 2), (310, 0), (311, 1), (312, 1), (313, 1), (314, 1), (315, 0), (316, 1), (317, 2), (318, 0), (319, 1), (320, 1), (321, 2), (322, 1), (323, 1), (324, 1), (325, 1), (326, 0), (327, 0), (328, 1), (329, 1), (330, 0), (331, 1), (332, 0), (333, 2), (334, 2), (335, 0), (336, 1), (337, 0), (338, 2), (339, 0), (340, 0), (341, 1), (342, 0), (343, 1), (344, 1), (345, 1), (346, 1), (347, 1), (348, 1), (349, 2), (350, 1), (351, 0), (352, 1), (353, 1), (354, 2), (355, 1), (356, 1), (357, 1), (358, 1), (359, 1), (360, 1), (361, 1), (362, 1), (363, 1), (364, 1), (365, 1), (366, 0), (367, 1), (368, 0), (369, 1), (370, 1), (371, 0), (372, 0), (373, 2), (374, 0), (375, 1), (376, 2), (377, 1), (378, 1), (379, 1), (380, 0), (381, 1), (382, 0), (383, 1), (384, 1), (385, 0), (386, 1), (387, 1), (388, 0), (389, 0), (390, 2), (391, 0), (392, 2), (393, 2), (394, 0), (395, 2), (396, 0), (397, 0), (398, 0), (399, 1), (400, 0), (401, 1), (402, 1), (403, 1), (404, 2), (405, 2), (406, 1), (407, 0), (408, 1), (409, 0), (410, 0), (411, 0), (412, 0), (413, 0), (414, 0), (415, 0), (416, 1), (417, 2), (418, 2), (419, 0), (420, 2), (421, 1), (422, 1), (423, 1), (424, 0), (425, 1), (426, 1), (427, 2), (428, 2), (429, 1), (430, 1), (431, 0), (432, 0), (433, 1), (434, 1), (435, 0), (436, 1), (437, 2), (438, 1), (439, 1), (440, 0), (441, 1), (442, 0), (443, 0), (444, 1), (445, 1), (446, 2), (447, 1), (448, 1), (449, 1), (450, 1), (451, 1), (452, 1), (453, 0), (454, 2), (455, 1), (456, 2), (457, 2), (458, 1), (459, 1), (460, 1), (461, 1), (462, 2), (463, 0), (464, 0), (465, 0), (466, 0), (467, 1), (468, 2), (469, 1), (470, 0), (471, 1), (472, 0), (473, 1), (474, 0), (475, 0), (476, 1), (477, 1), (478, 1), (479, 0), (480, 1), (481, 0), (482, 1), (483, 1), (484, 0), (485, 0), (486, 0), (487, 2), (488, 0), (489, 0), (490, 2), (491, 2), (492, 2), (493, 0), (494, 0), (495, 0), (496, 0), (497, 1), (498, 0), (499, 1), (500, 2), (501, 0), (502, 0), (503, 2), (504, 0), (505, 0), (506, 1), (507, 1), (508, 2), (509, 0), (510, 2), (511, 1), (512, 0), (513, 1), (514, 0), (515, 1), (516, 1), (517, 1), (518, 1), (519, 0), (520, 0), (521, 0), (522, 1), (523, 0), (524, 0), (525, 1), (526, 0), (527, 1), (528, 1), (529, 0), (530, 1), (531, 2), (532, 1), (533, 1), (534, 1), (535, 1), (536, 1), (537, 0), (538, 2), (539, 0), (540, 1), (541, 0), (542, 1), (543, 0), (544, 1), (545, 2), (546, 1), (547, 2), (548, 0), (549, 0), (550, 1), (551, 0), (552, 0), (554, 0), (555, 0), (556, 1), (557, 1), (558, 0), (559, 1), (560, 2), (561, 1), (562, 0), (563, 1), (564, 2), (565, 1), (566, 1), (567, 2), (568, 0), (569, 1), (570, 1), (571, 0), (572, 2), (573, 1), (574, 1), (575, 0), (576, 1), (577, 2), (578, 0), (579, 1), (580, 0), (581, 1), (582, 1), (583, 0), (584, 1), (585, 1), (586, 2), (587, 1), (588, 1), (589, 0), (590, 2), (591, 1), (592, 1), (593, 0), (594, 2), (595, 1), (596, 1), (597, 1), (598, 2), (599, 0), (600, 1), (601, 0), (602, 1), (603, 2), (604, 0), (605, 1), (606, 2), (607, 1), (608, 1), (609, 1), (610, 2), (611, 0), (612, 0), (613, 0), (614, 0), (615, 1), (616, 0), (617, 0), (618, 0), (619, 1), (620, 1), (621, 1), (622, 1), (623, 2), (624, 1), (625, 1), (626, 0), (627, 1), (628, 1), (629, 1), (630, 1), (631, 2), (632, 1), (633, 1), (634, 1), (635, 0), (636, 1), (637, 1), (638, 2), (639, 1), (640, 1), (641, 1), (642, 1), (643, 1), (644, 1), (645, 1), (646, 1), (647, 0), (648, 0), (649, 1), (650, 0), (651, 0), (652, 0), (653, 0), (654, 0), (655, 2), (656, 1), (657, 1), (658, 0), (659, 1), (660, 0), (661, 1), (662, 2), (663, 2), (664, 1), (665, 0), (666, 1), (667, 0), (668, 1), (669, 2), (670, 1), (671, 2), (672, 2), (673, 1), (674, 1), (675, 0), (676, 1), (677, 0), (678, 2), (679, 1), (680, 1), (681, 0), (682, 0), (683, 0), (684, 0), (685, 1), (686, 2), (687, 0), (688, 2), (689, 0), (690, 1), (691, 1), (692, 1), (693, 1), (694, 1), (695, 2), (696, 0), (697, 0), (698, 1), (699, 1), (700, 2), (701, 1), (702, 0), (703, 1), (704, 1), (705, 2), (706, 0), (707, 1), (708, 0), (709, 1), (710, 1), (711, 2), (712, 1), (713, 0), (714, 1), (715, 0), (716, 0), (717, 1), (718, 0), (719, 1), (720, 1), (721, 1), (722, 1), (723, 1), (724, 1), (725, 0), (726, 1), (727, 2), (728, 1), (729, 0), (730, 1), (731, 0), (732, 2), (733, 1), (734, 2), (735, 2), (736, 0), (737, 1), (738, 1), (739, 2), (740, 1), (741, 2), (742, 0), (743, 1), (744, 2), (745, 2), (746, 1), (747, 0), (748, 1), (749, 2), (750, 1), (751, 0), (752, 0), (753, 1), (754, 1), (755, 1), (756, 1), (757, 1), (758, 2), (759, 1), (760, 0), (761, 0), (762, 2), (763, 1), (764, 0), (765, 0), (766, 2), (767, 0), (768, 0), (769, 0), (770, 0), (771, 0), (772, 1), (773, 1), (774, 0), (775, 1), (776, 0), (777, 0), (778, 1), (779, 1), (780, 1), (781, 0), (782, 0), (783, 1), (784, 1), (785, 2), (786, 0), (787, 1), (788, 1), (789, 0), (790, 2), (791, 0), (792, 0), (793, 1), (794, 1), (795, 0), (796, 2), (797, 1), (798, 1), (799, 1), (800, 0), (801, 2), (802, 1), (803, 0), (804, 1), (805, 0), (806, 0), (807, 2), (808, 0), (809, 1), (810, 2), (811, 1), (812, 0), (813, 1), (814, 0), (815, 1), (816, 1), (817, 1), (818, 2), (819, 1), (820, 0), (821, 1), (822, 1), (823, 1), (824, 2), (825, 1), (826, 1), (827, 1), (828, 1), (829, 0), (830, 1), (831, 2), (832, 1), (833, 1), (834, 1), (835, 1), (836, 1), (837, 0), (838, 1), (839, 1), (840, 0), (841, 1), (842, 1), (843, 1), (844, 2), (845, 0), (846, 0), (847, 1), (848, 1), (849, 1), (850, 1), (851, 2), (852, 0), (853, 2), (854, 0), (855, 1), (856, 1), (857, 0), (858, 1), (859, 0), (860, 1), (861, 1), (862, 0), (863, 1), (864, 2), (865, 0), (866, 1), (867, 1), (868, 1), (869, 0), (870, 1), (871, 2), (872, 1), (873, 1), (874, 0), (875, 0), (876, 1), (877, 0), (878, 0), (879, 1), (880, 1), (881, 2), (882, 1), (883, 1), (884, 1), (885, 1), (886, 2), (887, 1), (888, 2), (889, 1), (890, 0), (891, 1), (892, 1), (893, 1), (894, 0), (895, 2), (896, 0), (897, 1), (898, 1), (899, 2), (900, 1), (901, 0), (902, 0), (903, 2), (904, 1), (905, 0), (906, 0), (907, 2), (908, 0), (909, 1), (910, 1), (911, 1), (912, 1), (913, 0), (914, 0), (915, 2), (916, 0), (917, 2), (918, 0), (919, 0), (920, 0), (921, 1), (922, 1), (923, 1), (924, 2), (925, 1), (926, 1), (927, 0), (928, 1), (929, 1), (930, 2), (931, 1), (932, 0), (933, 1), (934, 2), (935, 0), (936, 1), (937, 1), (938, 1), (939, 1), (940, 0), (941, 2), (942, 1), (943, 2), (944, 1), (945, 2), (946, 2), (947, 1), (948, 2), (949, 1), (950, 0), (951, 0), (952, 2), (953, 0), (954, 2), (955, 1), (956, 0), (957, 1), (958, 1), (959, 0), (960, 1), (961, 0), (962, 1), (963, 1), (964, 1), (965, 0), (966, 0), (967, 1), (968, 1), (969, 2), (970, 0), (971, 2), (972, 0), (973, 0), (974, 2), (975, 2), (976, 2), (977, 1), (978, 0), (979, 0), (980, 2), (981, 1), (982, 1), (983, 0), (984, 0), (985, 1), (986, 2), (987, 1), (988, 1), (989, 1), (990, 2), (991, 1), (992, 0), (993, 0), (994, 1), (995, 0), (996, 0), (997, 0), (998, 1), (999, 1), (1000, 1), (1001, 0), (1002, 0), (1003, 0), (1004, 1), (1005, 0), (1006, 1), (1007, 2), (1008, 1), (1009, 0), (1010, 2), (1011, 1), (1012, 1), (1013, 2), (1014, 0), (1015, 1), (1016, 1), (1017, 0), (1018, 0), (1019, 1), (1020, 2), (1021, 1), (1022, 0), (1023, 1), (1024, 0), (1025, 1), (1026, 2), (1027, 0), (1028, 2), (1029, 0), (1030, 1), (1031, 1), (1032, 0), (1033, 1), (1034, 1), (1035, 2), (1036, 1), (1037, 1), (1038, 0), (1039, 1), (1040, 0), (1041, 2), (1042, 1), (1043, 2), (1044, 2), (1045, 0), (1046, 1), (1047, 0), (1048, 0), (1049, 1), (1050, 2), (1051, 1), (1052, 1), (1053, 1), (1054, 1), (1055, 1), (1056, 1), (1057, 2), (1058, 1), (1059, 0), (1060, 2), (1061, 0), (1062, 1), (1063, 0), (1064, 0), (1065, 0), (1066, 1), (1067, 2), (1068, 1), (1069, 2), (1070, 1), (1071, 2), (1072, 0), (1073, 0), (1074, 2), (1075, 2), (1076, 0), (1077, 0), (1078, 0), (1079, 0), (1080, 1), (1081, 1), (1082, 1), (1083, 0), (1084, 1), (1085, 1), (1086, 0), (1087, 2), (1088, 0), (1089, 0), (1090, 0), (1091, 0), (1092, 0), (1093, 1), (1094, 1), (1095, 0), (1096, 1), (1097, 2), (1098, 2), (1099, 2), (1100, 1), (1101, 0), (1102, 1), (1103, 2), (1104, 2), (1105, 2), (1106, 0), (1107, 1), (1108, 1), (1109, 1), (1110, 1), (1111, 1), (1112, 1), (1113, 1), (1114, 1), (1115, 1), (1116, 1), (1117, 0), (1118, 1), (1119, 0), (1120, 1), (1121, 1), (1122, 0), (1123, 2), (1124, 2), (1125, 0), (1126, 1), (1127, 2), (1128, 1), (1129, 1), (1130, 0), (1131, 1), (1132, 1), (1133, 1), (1134, 0), (1135, 0), (1136, 2), (1137, 0), (1138, 0), (1139, 1), (1140, 1), (1141, 1), (1142, 2), (1143, 2), (1144, 1), (1145, 0), (1146, 2), (1147, 0), (1148, 0), (1149, 0), (1150, 0), (1151, 0), (1152, 0), (1153, 2), (1154, 1), (1155, 2), (1156, 1), (1157, 0), (1158, 0), (1159, 2), (1160, 0), (1161, 2), (1162, 0), (1163, 2), (1164, 1), (1165, 1), (1166, 1), (1167, 0), (1168, 0), (1169, 1), (1170, 0), (1171, 2), (1172, 2), (1173, 1), (1174, 2), (1175, 0), (1176, 1), (1177, 2), (1178, 0), (1179, 0), (1180, 1), (1181, 0), (1182, 1), (1183, 0), (1184, 1), (1185, 0), (1186, 2), (1187, 1), (1188, 2), (1189, 2), (1190, 1), (1191, 1), (1192, 0), (1193, 1), (1194, 1), (1195, 1), (1196, 0), (1197, 2), (1198, 2), (1199, 0), (1200, 1), (1201, 1), (1202, 2), (1203, 2), (1204, 2), (1205, 0), (1206, 2), (1207, 0), (1208, 0), (1209, 0), (1210, 2), (1211, 0), (1212, 1), (1213, 0), (1214, 2), (1215, 1), (1216, 0), (1217, 1), (1218, 1), (1219, 1), (1220, 2), (1221, 2), (1222, 1), (1223, 1), (1224, 2), (1225, 1), (1226, 1), (1227, 2), (1228, 1), (1229, 0), (1230, 1), (1231, 1), (1232, 2), (1233, 1), (1234, 2), (1235, 1), (1236, 2), (1237, 1), (1238, 0), (1239, 0), (1240, 1), (1241, 0), (1242, 2), (1243, 0), (1244, 0), (1245, 1), (1246, 1), (1247, 1), (1248, 2), (1249, 1), (1250, 2), (1251, 0), (1252, 1), (1253, 1), (1254, 0), (1255, 1), (1256, 1), (1257, 2), (1258, 1), (1259, 1), (1260, 1), (1261, 1), (1262, 0), (1263, 1), (1264, 1), (1265, 1), (1266, 2), (1267, 0), (1268, 2), (1269, 2), (1270, 1), (1271, 1), (1272, 1), (1273, 0), (1274, 0), (1275, 2), (1276, 1), (1277, 0), (1278, 1), (1279, 1), (1280, 0), (1281, 1), (1282, 2), (1283, 1), (1284, 0), (1285, 0), (1286, 2), (1287, 1), (1288, 1), (1289, 2), (1290, 2), (1291, 0), (1292, 1), (1293, 2), (1294, 0), (1295, 2), (1296, 0), (1297, 0), (1298, 1), (1299, 1), (1300, 1), (1301, 2), (1302, 1), (1303, 1), (1304, 0), (1305, 0), (1306, 2), (1307, 2), (1308, 2), (1309, 0), (1310, 1), (1311, 2), (1312, 2), (1313, 1), (1314, 1), (1315, 2), (1316, 0), (1317, 0), (1318, 1), (1319, 0), (1320, 0), (1321, 2), (1322, 1), (1323, 1), (1324, 0), (1325, 2), (1326, 0), (1327, 0), (1328, 2), (1329, 2), (1330, 0), (1331, 1), (1332, 1), (1333, 1), (1334, 2), (1335, 0), (1336, 1), (1337, 0), (1338, 1), (1339, 0), (1340, 2), (1341, 1), (1342, 2), (1343, 1), (1344, 0), (1345, 0), (1346, 1), (1347, 1), (1348, 2), (1349, 0), (1350, 0), (1351, 2), (1352, 0), (1353, 0), (1354, 1), (1355, 2), (1356, 0), (1357, 0), (1358, 0), (1359, 0), (1360, 1), (1361, 1), (1362, 0), (1363, 0), (1364, 1), (1365, 2), (1366, 0), (1367, 2), (1368, 0), (1369, 1), (1370, 1), (1371, 0), (1372, 0), (1373, 1), (1374, 0), (1375, 0), (1376, 0), (1377, 0), (1378, 0), (1379, 1), (1380, 0), (1381, 1), (1382, 1), (1383, 1), (1384, 1), (1385, 2), (1386, 0), (1387, 1), (1388, 2), (1389, 2), (1390, 0), (1391, 1), (1392, 1), (1393, 1), (1394, 1), (1395, 1), (1396, 2), (1397, 0), (1398, 1), (1399, 2), (1400, 1), (1401, 1), (1402, 2), (1403, 1), (1404, 0), (1405, 2), (1406, 1), (1407, 0), (1408, 0), (1409, 1), (1410, 0), (1411, 2), (1412, 1), (1413, 0), (1414, 0), (1415, 0), (1416, 1), (1417, 2), (1418, 0), (1419, 2), (1420, 1), (1421, 1), (1422, 0), (1423, 1), (1424, 0), (1425, 0), (1426, 1), (1427, 1), (1428, 0), (1429, 2), (1430, 1), (1431, 1), (1432, 1), (1433, 1), (1434, 1), (1435, 0), (1436, 0), (1437, 1), (1438, 1), (1439, 1), (1440, 1), (1441, 0), (1442, 2), (1443, 0), (1444, 0), (1445, 1), (1446, 0), (1447, 1), (1448, 1), (1449, 1), (1450, 0), (1451, 0), (1452, 1), (1453, 0), (1454, 1), (1455, 1), (1456, 0), (1457, 1), (1458, 2), (1459, 1), (1460, 1), (1461, 2), (1462, 1), (1463, 1), (1464, 1), (1465, 0), (1466, 1), (1467, 0), (1468, 0), (1469, 0), (1470, 1), (1471, 0), (1472, 1), (1473, 0), (1474, 0), (1475, 1), (1476, 0), (1477, 1), (1478, 1), (1479, 0), (1480, 1), (1481, 0), (1482, 2), (1483, 1), (1484, 1), (1485, 0), (1486, 0), (1487, 1), (1488, 2), (1489, 1), (1490, 0), (1491, 2), (1492, 2), (1493, 0), (1494, 0), (1495, 1), (1496, 0), (1497, 2), (1498, 1), (1499, 1), (1500, 0), (1501, 2), (1502, 1), (1503, 1), (1504, 2), (1505, 0), (1506, 1), (1507, 0), (1508, 1), (1509, 0), (1510, 0), (1511, 2), (1512, 1), (1513, 2), (1514, 1), (1515, 1), (1516, 1), (1517, 0), (1518, 1), (1519, 2), (1520, 2), (1521, 1), (1522, 0), (1523, 1), (1524, 1), (1525, 2), (1526, 1), (1527, 1), (1528, 2), (1529, 2), (1530, 2), (1531, 2), (1532, 0), (1533, 1), (1534, 0), (1535, 1), (1536, 2), (1537, 1), (1538, 1), (1539, 1), (1540, 1), (1541, 1), (1542, 2), (1543, 0), (1544, 1), (1545, 0), (1546, 1), (1547, 1), (1548, 1), (1549, 1), (1550, 1), (1551, 1), (1552, 0), (1553, 1), (1554, 0), (1555, 2), (1556, 1), (1557, 0), (1558, 2), (1559, 1), (1560, 1), (1561, 1), (1562, 0), (1563, 2), (1564, 1), (1565, 2), (1566, 1), (1567, 2), (1568, 2), (1569, 2), (1570, 2), (1571, 0), (1572, 1), (1573, 1), (1574, 2), (1575, 1), (1576, 1), (1577, 1), (1578, 1), (1579, 1), (1580, 0), (1581, 1), (1582, 2), (1583, 1), (1584, 0), (1585, 1), (1586, 1), (1587, 0), (1588, 0), (1589, 0), (1590, 1), (1591, 0), (1592, 0), (1593, 1), (1594, 1), (1595, 0), (1596, 1), (1597, 0), (1598, 0), (1599, 1), (1600, 2), (1601, 1), (1602, 1), (1603, 0), (1604, 1), (1605, 0), (1606, 1), (1607, 0), (1608, 2), (1609, 2), (1610, 2), (1611, 2), (1612, 1), (1613, 1), (1614, 0), (1615, 1), (1616, 0), (1617, 1), (1618, 2), (1619, 1), (1620, 1), (1621, 1), (1622, 1), (1623, 2), (1624, 0), (1625, 1), (1626, 1), (1627, 1), (1628, 2), (1629, 1), (1630, 1), (1631, 2), (1632, 1), (1633, 1), (1634, 1), (1635, 1), (1636, 1), (1637, 0), (1638, 1), (1639, 0), (1640, 1), (1641, 1), (1642, 0), (1643, 1), (1644, 1), (1645, 1), (1646, 1), (1647, 0), (1648, 0), (1649, 0), (1650, 1), (1651, 0), (1652, 2), (1653, 1), (1654, 1), (1655, 0), (1656, 1), (1657, 2), (1658, 1), (1659, 2), (1660, 1), (1661, 1), (1662, 0), (1663, 1), (1664, 2), (1665, 1), (1666, 0), (1667, 1), (1668, 1), (1669, 1), (1670, 1), (1671, 0), (1672, 1), (1673, 1), (1674, 1), (1675, 1), (1676, 1), (1677, 1), (1678, 0), (1679, 0), (1680, 1), (1681, 0), (1682, 2), (1683, 1), (1684, 2), (1685, 2), (1686, 1), (1687, 2), (1688, 2), (1689, 0), (1690, 2), (1691, 2), (1692, 1), (1693, 2), (1694, 2), (1695, 1), (1696, 2), (1697, 0), (1698, 1), (1699, 0), (1700, 1), (1701, 1), (1702, 0), (1703, 1), (1704, 0), (1705, 1), (1706, 0), (1707, 0), (1708, 1), (1709, 2), (1710, 0), (1711, 2), (1712, 0), (1713, 1), (1714, 1), (1715, 0), (1716, 1), (1717, 1), (1718, 0), (1719, 0), (1720, 1), (1721, 0), (1722, 1), (1723, 1), (1724, 2), (1725, 0), (1726, 0), (1727, 1), (1728, 2), (1729, 2), (1730, 1), (1731, 2), (1732, 1), (1733, 2), (1734, 0), (1735, 0), (1736, 1), (1737, 2), (1738, 1), (1739, 1), (1740, 0), (1741, 1), (1742, 0), (1743, 2), (1744, 0), (1745, 0), (1746, 1), (1747, 0), (1748, 0), (1749, 1), (1750, 1), (1751, 1), (1752, 2), (1753, 1), (1754, 0), (1755, 2), (1756, 1), (1757, 0), (1758, 1), (1759, 0), (1760, 1), (1761, 1), (1762, 1), (1763, 1), (1764, 1), (1765, 2), (1766, 2), (1767, 0), (1768, 0), (1769, 0), (1770, 1), (1771, 2), (1772, 2), (1773, 1), (1774, 2), (1775, 1), (1776, 1), (1777, 0), (1778, 1), (1779, 1), (1780, 0), (1781, 1), (1782, 0), (1783, 1), (1784, 2), (1785, 0), (1786, 2), (1787, 0), (1788, 2), (1789, 1), (1790, 1), (1791, 0), (1792, 1), (1793, 2), (1794, 2), (1795, 1), (1796, 2), (1797, 1), (1798, 2), (1799, 2), (1800, 1), (1801, 0), (1802, 2), (1803, 1), (1804, 0), (1805, 1), (1806, 1), (1807, 2), (1808, 0), (1809, 0), (1810, 1), (1811, 0), (1812, 1), (1813, 2), (1814, 1), (1815, 1), (1816, 1), (1817, 1), (1818, 1), (1819, 0), (1820, 1), (1821, 1), (1822, 0), (1823, 1), (1824, 1), (1825, 2), (1826, 1), (1827, 0), (1828, 1), (1829, 2), (1830, 1), (1831, 0), (1832, 0), (1833, 2), (1834, 2), (1835, 1), (1836, 1), (1837, 2), (1838, 0), (1839, 0), (1840, 2), (1841, 0), (1842, 0), (1843, 1), (1844, 2), (1845, 1), (1846, 2), (1847, 1), (1848, 2), (1849, 2), (1850, 0), (1851, 2), (1852, 1), (1853, 1), (1854, 2), (1855, 1), (1856, 1), (1857, 1), (1858, 2), (1859, 2), (1860, 0), (1861, 2), (1862, 1), (1863, 1), (1864, 1), (1865, 1), (1866, 0), (1867, 2), (1868, 0), (1869, 0), (1870, 1), (1871, 0), (1872, 0), (1873, 1), (1874, 1), (1875, 1), (1876, 2), (1877, 2), (1878, 1), (1879, 1), (1880, 0), (1881, 1), (1882, 1), (1883, 1), (1884, 0), (1885, 0), (1886, 2), (1887, 1), (1888, 1), (1889, 1), (1890, 0), (1891, 0), (1892, 0), (1893, 1), (1894, 0), (1895, 0), (1896, 1), (1897, 0), (1898, 0), (1899, 1), (1900, 0), (1901, 0), (1902, 1), (1903, 0), (1904, 0), (1905, 1), (1906, 0), (1907, 0), (1908, 1), (1909, 1), (1910, 1), (1911, 0), (1912, 0), (1913, 2), (1914, 2), (1915, 2), (1916, 0), (1917, 1), (1918, 1), (1919, 0), (1920, 0), (1921, 1), (1922, 0), (1923, 2), (1924, 2), (1925, 1), (1926, 0), (1927, 1), (1928, 1), (1929, 1), (1930, 1), (1931, 1), (1932, 1), (1933, 1), (1934, 0), (1935, 0), (1936, 2), (1937, 1), (1938, 2), (1939, 1), (1940, 0), (1941, 1), (1942, 1), (1943, 0), (1944, 1), (1945, 2), (1946, 0), (1947, 1), (1948, 0), (1949, 0), (1950, 0), (1951, 1), (1952, 0), (1953, 1), (1954, 1), (1955, 1), (1956, 0), (1958, 1), (1959, 1), (1960, 0), (1961, 1), (1962, 0), (1963, 1), (1964, 2), (1965, 1), (1966, 1), (1967, 1), (1968, 1), (1970, 0), (1971, 0), (1972, 0), (1974, 1), (1976, 1), (1977, 1), (1978, 0), (1979, 1), (1981, 1), (1984, 0), (1986, 1), (1987, 1), (1989, 1), (1990, 0), (1991, 0), (1992, 1), (1993, 0), (1994, 1), (1995, 0), (1996, 0), (1997, 2), (1998, 0), (1999, 0), (2000, 1), (2001, 1), (2002, 0), (2003, 0), (2004, 1), (2005, 1), (2006, 0), (2007, 0), (2008, 0), (2009, 1), (2010, 1), (2011, 1), (2013, 1), (2014, 0), (2015, 0), (2016, 1), (2017, 0), (2018, 2), (2019, 0), (2021, 0), (2022, 2), (2023, 1), (2024, 1), (2025, 1), (2026, 0), (2027, 2), (2028, 1), (2029, 1), (2030, 1), (2031, 1), (2033, 1), (2034, 0), (2035, 0), (2036, 0), (2037, 1), (2038, 1), (2040, 1), (2041, 2), (2042, 1), (2043, 2), (2044, 2), (2045, 0), (2047, 0), (2048, 1), (2049, 0), (2052, 0), (2057, 0), (2058, 1), (2060, 1), (2061, 1), (2062, 0), (2064, 0), (2065, 2), (2066, 2), (2067, 1), (2070, 1), (2073, 1), (2075, 1), (2076, 1), (2077, 1), (2078, 2), (2079, 1), (2083, 1), (2084, 0), (2087, 1), (2088, 1)]\n"
     ]
    }
   ],
   "source": [
    "print(sample)"
   ],
   "metadata": {
    "collapsed": false,
    "ExecuteTime": {
     "end_time": "2024-03-20T00:20:13.726744Z",
     "start_time": "2024-03-20T00:20:13.722092Z"
    }
   },
   "id": "b4a65d3190bce5fe"
  },
  {
   "cell_type": "code",
   "execution_count": 40,
   "outputs": [],
   "source": [
    "label_to_sentiment = {v: k for k, v in sentiment_to_label.items()}\n",
    "\n",
    "\n",
    "def write_sample_to_file(file, sample):\n",
    "    with open(file, 'w') as f:\n",
    "        header = 'id,sentiment'\n",
    "        print(header, file=f)\n",
    "        for id, sentiment in sample:\n",
    "            line = str(id) + ',' + label_to_sentiment[sentiment]\n",
    "            print(line, file=f)"
   ],
   "metadata": {
    "collapsed": false,
    "ExecuteTime": {
     "end_time": "2024-03-21T19:00:01.591560Z",
     "start_time": "2024-03-21T19:00:01.581143Z"
    }
   },
   "id": "185779454de1bdde"
  },
  {
   "cell_type": "code",
   "execution_count": 52,
   "outputs": [],
   "source": [
    "file = cur_dir() + '/rubert_tiny2.csv'\n",
    "write_sample_to_file(file, sample)"
   ],
   "metadata": {
    "collapsed": false,
    "ExecuteTime": {
     "end_time": "2024-03-20T00:20:19.899507Z",
     "start_time": "2024-03-20T00:20:19.895394Z"
    }
   },
   "id": "1daa95d88ca54a1e"
  },
  {
   "cell_type": "markdown",
   "source": [
    "# Fine-Tuning Rubert-Tiny2 with Avg Aggregation"
   ],
   "metadata": {
    "collapsed": false
   },
   "id": "3b8169ae31421c3e"
  },
  {
   "cell_type": "code",
   "execution_count": 19,
   "outputs": [],
   "source": [
    "def mean_pooling(\n",
    "        token_embeddings: torch.Tensor,\n",
    "        attention_mask: torch.Tensor\n",
    "):\n",
    "    input_mask_expanded = (\n",
    "        attention_mask.unsqueeze(-1).expand(token_embeddings.shape).float()\n",
    "    )\n",
    "    return torch.sum(token_embeddings * input_mask_expanded, 1) / torch.clamp(\n",
    "        input_mask_expanded.sum(1), min=1e-9\n",
    "    )"
   ],
   "metadata": {
    "collapsed": false,
    "ExecuteTime": {
     "end_time": "2024-03-21T12:46:29.501982Z",
     "start_time": "2024-03-21T12:46:29.496317Z"
    }
   },
   "id": "1c6b4135e38e055f"
  },
  {
   "cell_type": "code",
   "execution_count": 78,
   "outputs": [],
   "source": [
    "import torch.nn.functional as F\n",
    "\n",
    "\n",
    "def avg_train_and_val(\n",
    "        model,\n",
    "        loader: DataLoader,\n",
    "        epoch,\n",
    "        num_epochs,\n",
    "        optimizer,\n",
    "        mode,\n",
    "):\n",
    "    total_loss = 0\n",
    "\n",
    "    for input_ids, attention_mask, labels in tqdm(loader, desc=f'{mode} epoch {epoch}/{num_epochs}...'):\n",
    "        if mode == 'Training':\n",
    "            optimizer.zero_grad()\n",
    "\n",
    "        input_ids, attention_mask, labels = input_ids.to(device), attention_mask.to(device), labels.to(device)\n",
    "\n",
    "        outputs = model(\n",
    "            input_ids=input_ids,\n",
    "            attention_mask=attention_mask,\n",
    "            labels=labels\n",
    "        )\n",
    "        hidden_states = outputs.hidden_states  # 4 x 8 x 512 x 312, encoder_layers_cnt x batch_sz, max_sentence_len, emb_sz\n",
    "        token_embeddings = hidden_states[-1]  # 8 x 512 x 312, retrieving last encoder layer\n",
    "        mean_embeddings = mean_pooling(token_embeddings, attention_mask)  # 8 x 312\n",
    "        logits = model.classifier(mean_embeddings)  # 8 x 3\n",
    "\n",
    "        outputs_loss = F.cross_entropy(logits, labels)\n",
    "\n",
    "        total_loss += outputs_loss.item()\n",
    "\n",
    "        if mode == 'Training':\n",
    "            outputs_loss.backward()\n",
    "            optimizer.step()\n",
    "\n",
    "    loss = total_loss / len(loader)\n",
    "    print(f'{mode} epoch {epoch + 1}/{num_epochs}: {mode} Loss: {loss:.4f}')"
   ],
   "metadata": {
    "collapsed": false,
    "ExecuteTime": {
     "end_time": "2024-03-21T20:57:21.354748Z",
     "start_time": "2024-03-21T20:57:21.346114Z"
    }
   },
   "id": "ba4166e3d8e85c28"
  },
  {
   "cell_type": "code",
   "execution_count": 79,
   "outputs": [],
   "source": [
    "def avg_train(\n",
    "        model,\n",
    "        train_loader,\n",
    "        val_loader,\n",
    "        optimizer,\n",
    "        num_epochs=5,\n",
    "):\n",
    "    for epoch in range(num_epochs):\n",
    "        model.train()\n",
    "\n",
    "        avg_train_and_val(model, train_loader, epoch, num_epochs, optimizer, mode='Training')\n",
    "\n",
    "        model.eval()\n",
    "\n",
    "        with torch.no_grad():\n",
    "            avg_train_and_val(model, val_loader, epoch, num_epochs, optimizer, mode='Validating')"
   ],
   "metadata": {
    "collapsed": false,
    "ExecuteTime": {
     "end_time": "2024-03-21T20:57:26.485248Z",
     "start_time": "2024-03-21T20:57:26.474828Z"
    }
   },
   "id": "341712d002f895f7"
  },
  {
   "cell_type": "code",
   "execution_count": 80,
   "outputs": [
    {
     "name": "stderr",
     "output_type": "stream",
     "text": [
      "Some weights of BertForSequenceClassification were not initialized from the model checkpoint at cointegrated/rubert-tiny2 and are newly initialized: ['classifier.bias', 'classifier.weight']\n",
      "You should probably TRAIN this model on a down-stream task to be able to use it for predictions and inference.\n"
     ]
    }
   ],
   "source": [
    "model = BertForSequenceClassification.from_pretrained(\n",
    "    'cointegrated/rubert-tiny2',\n",
    "    num_labels=num_labels,\n",
    "    output_hidden_states=True,\n",
    ").to(device)\n",
    "\n",
    "optimizer = torch.optim.AdamW(model.parameters(), lr=5e-5)"
   ],
   "metadata": {
    "collapsed": false,
    "ExecuteTime": {
     "end_time": "2024-03-21T20:57:29.971249Z",
     "start_time": "2024-03-21T20:57:26.915464Z"
    }
   },
   "id": "59cd58a27d99a031"
  },
  {
   "cell_type": "code",
   "execution_count": 81,
   "outputs": [
    {
     "name": "stderr",
     "output_type": "stream",
     "text": [
      "Training epoch 0/5...: 100%|██████████| 827/827 [01:39<00:00,  8.32it/s]\n"
     ]
    },
    {
     "name": "stdout",
     "output_type": "stream",
     "text": [
      "Training epoch 1/5: Training Loss: 0.7912\n"
     ]
    },
    {
     "name": "stderr",
     "output_type": "stream",
     "text": [
      "Validating epoch 0/5...: 100%|██████████| 207/207 [00:05<00:00, 35.13it/s]\n"
     ]
    },
    {
     "name": "stdout",
     "output_type": "stream",
     "text": [
      "Validating epoch 1/5: Validating Loss: 0.6870\n"
     ]
    },
    {
     "name": "stderr",
     "output_type": "stream",
     "text": [
      "Training epoch 1/5...: 100%|██████████| 827/827 [01:37<00:00,  8.51it/s]\n"
     ]
    },
    {
     "name": "stdout",
     "output_type": "stream",
     "text": [
      "Training epoch 2/5: Training Loss: 0.5567\n"
     ]
    },
    {
     "name": "stderr",
     "output_type": "stream",
     "text": [
      "Validating epoch 1/5...: 100%|██████████| 207/207 [00:05<00:00, 35.32it/s]\n"
     ]
    },
    {
     "name": "stdout",
     "output_type": "stream",
     "text": [
      "Validating epoch 2/5: Validating Loss: 0.6552\n"
     ]
    },
    {
     "name": "stderr",
     "output_type": "stream",
     "text": [
      "Training epoch 2/5...: 100%|██████████| 827/827 [01:36<00:00,  8.54it/s]\n"
     ]
    },
    {
     "name": "stdout",
     "output_type": "stream",
     "text": [
      "Training epoch 3/5: Training Loss: 0.3507\n"
     ]
    },
    {
     "name": "stderr",
     "output_type": "stream",
     "text": [
      "Validating epoch 2/5...: 100%|██████████| 207/207 [00:05<00:00, 35.30it/s]\n"
     ]
    },
    {
     "name": "stdout",
     "output_type": "stream",
     "text": [
      "Validating epoch 3/5: Validating Loss: 0.7544\n"
     ]
    },
    {
     "name": "stderr",
     "output_type": "stream",
     "text": [
      "Training epoch 3/5...: 100%|██████████| 827/827 [01:36<00:00,  8.53it/s]\n"
     ]
    },
    {
     "name": "stdout",
     "output_type": "stream",
     "text": [
      "Training epoch 4/5: Training Loss: 0.2343\n"
     ]
    },
    {
     "name": "stderr",
     "output_type": "stream",
     "text": [
      "Validating epoch 3/5...: 100%|██████████| 207/207 [00:05<00:00, 35.07it/s]\n"
     ]
    },
    {
     "name": "stdout",
     "output_type": "stream",
     "text": [
      "Validating epoch 4/5: Validating Loss: 0.8343\n"
     ]
    },
    {
     "name": "stderr",
     "output_type": "stream",
     "text": [
      "Training epoch 4/5...: 100%|██████████| 827/827 [01:36<00:00,  8.54it/s]\n"
     ]
    },
    {
     "name": "stdout",
     "output_type": "stream",
     "text": [
      "Training epoch 5/5: Training Loss: 0.1835\n"
     ]
    },
    {
     "name": "stderr",
     "output_type": "stream",
     "text": [
      "Validating epoch 4/5...: 100%|██████████| 207/207 [00:05<00:00, 35.00it/s]"
     ]
    },
    {
     "name": "stdout",
     "output_type": "stream",
     "text": [
      "Validating epoch 5/5: Validating Loss: 0.9723\n"
     ]
    },
    {
     "name": "stderr",
     "output_type": "stream",
     "text": [
      "\n"
     ]
    }
   ],
   "source": [
    "avg_train(model, train_loader, val_loader, optimizer)"
   ],
   "metadata": {
    "collapsed": false,
    "ExecuteTime": {
     "end_time": "2024-03-21T21:06:06.512246Z",
     "start_time": "2024-03-21T20:57:29.970692Z"
    }
   },
   "id": "bf84224e6d8828a9"
  },
  {
   "cell_type": "code",
   "execution_count": 82,
   "outputs": [
    {
     "name": "stderr",
     "output_type": "stream",
     "text": [
      "100%|██████████| 257/257 [00:07<00:00, 34.92it/s]\n"
     ]
    }
   ],
   "source": [
    "sample = eval_model(model, loader)"
   ],
   "metadata": {
    "collapsed": false,
    "ExecuteTime": {
     "end_time": "2024-03-21T21:06:13.879378Z",
     "start_time": "2024-03-21T21:06:06.513691Z"
    }
   },
   "id": "c410ff9c4f724b56"
  },
  {
   "cell_type": "code",
   "execution_count": 83,
   "outputs": [],
   "source": [
    "file = cur_dir() + '/meanpooling_rubert_tiny2.csv'\n",
    "write_sample_to_file(file, sample)"
   ],
   "metadata": {
    "collapsed": false,
    "ExecuteTime": {
     "end_time": "2024-03-21T21:06:13.890069Z",
     "start_time": "2024-03-21T21:06:13.880538Z"
    }
   },
   "id": "93eabb8387aaaf4e"
  },
  {
   "cell_type": "code",
   "execution_count": null,
   "outputs": [],
   "source": [],
   "metadata": {
    "collapsed": false
   },
   "id": "e9d83239dc54c521"
  }
 ],
 "metadata": {
  "kernelspec": {
   "display_name": "Python 3",
   "language": "python",
   "name": "python3"
  },
  "language_info": {
   "codemirror_mode": {
    "name": "ipython",
    "version": 2
   },
   "file_extension": ".py",
   "mimetype": "text/x-python",
   "name": "python",
   "nbconvert_exporter": "python",
   "pygments_lexer": "ipython2",
   "version": "2.7.6"
  }
 },
 "nbformat": 4,
 "nbformat_minor": 5
}
