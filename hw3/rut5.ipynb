{
 "cells": [
  {
   "cell_type": "markdown",
   "source": [
    "# Loading rut5 model"
   ],
   "metadata": {
    "collapsed": false
   },
   "id": "5cd6bd1e29330f4b"
  },
  {
   "cell_type": "code",
   "execution_count": 9,
   "outputs": [],
   "source": [
    "from transformers import T5Tokenizer, T5ForConditionalGeneration\n",
    "import torch"
   ],
   "metadata": {
    "collapsed": true,
    "ExecuteTime": {
     "end_time": "2024-03-24T18:42:22.474575Z",
     "start_time": "2024-03-24T18:42:22.468904Z"
    }
   },
   "id": "initial_id"
  },
  {
   "cell_type": "code",
   "execution_count": 10,
   "outputs": [
    {
     "name": "stdout",
     "output_type": "stream",
     "text": [
      "Requirement already satisfied: sentencepiece in /Users/timoniche/PycharmProjects/NLP/.venv/lib/python3.9/site-packages (0.2.0)\r\n"
     ]
    }
   ],
   "source": [
    "!pip install sentencepiece"
   ],
   "metadata": {
    "collapsed": false,
    "ExecuteTime": {
     "end_time": "2024-03-24T18:42:24.334555Z",
     "start_time": "2024-03-24T18:42:23.172435Z"
    }
   },
   "id": "6ed966429eee10ce"
  },
  {
   "cell_type": "code",
   "execution_count": 11,
   "outputs": [],
   "source": [
    "from_pkl_file = True\n",
    "\n",
    "tokenizer_file = 't5_tokenizer.pkl'\n",
    "model_file = 't5_model.pkl'"
   ],
   "metadata": {
    "collapsed": false,
    "ExecuteTime": {
     "end_time": "2024-03-24T18:42:24.409759Z",
     "start_time": "2024-03-24T18:42:24.406953Z"
    }
   },
   "id": "b963db1a60836bf7"
  },
  {
   "cell_type": "code",
   "execution_count": 12,
   "outputs": [],
   "source": [
    "import pickle\n",
    "\n",
    "if from_pkl_file:\n",
    "    with open(tokenizer_file, 'rb') as f:\n",
    "        tokenizer = pickle.load(f)\n",
    "else:        \n",
    "    tokenizer = T5Tokenizer.from_pretrained(\n",
    "        'cointegrated/rut5-small-chitchat2'\n",
    "    )\n",
    "    with open(tokenizer_file, 'wb') as f:\n",
    "        pickle.dump(tokenizer, f)"
   ],
   "metadata": {
    "collapsed": false,
    "ExecuteTime": {
     "end_time": "2024-03-24T18:42:25.045586Z",
     "start_time": "2024-03-24T18:42:25.022470Z"
    }
   },
   "id": "70aa2bcd0ce59da6"
  },
  {
   "cell_type": "code",
   "execution_count": 13,
   "outputs": [],
   "source": [
    "if from_pkl_file:\n",
    "    with open(model_file, 'rb') as f:\n",
    "        model = pickle.load(f)\n",
    "else:        \n",
    "    model = T5ForConditionalGeneration.from_pretrained('cointegrated/rut5-small-chitchat2')\n",
    "    with open(model_file, 'wb') as f:\n",
    "        pickle.dump(model, f)"
   ],
   "metadata": {
    "collapsed": false,
    "ExecuteTime": {
     "end_time": "2024-03-24T18:42:26.006932Z",
     "start_time": "2024-03-24T18:42:25.826496Z"
    }
   },
   "id": "343887db7d04bbcb"
  },
  {
   "cell_type": "code",
   "execution_count": 14,
   "outputs": [],
   "source": [
    "model: T5ForConditionalGeneration"
   ],
   "metadata": {
    "collapsed": false,
    "ExecuteTime": {
     "end_time": "2024-03-24T18:42:27.633927Z",
     "start_time": "2024-03-24T18:42:27.630610Z"
    }
   },
   "id": "f60c21cc19f23d34"
  },
  {
   "cell_type": "markdown",
   "source": [
    "# Test run"
   ],
   "metadata": {
    "collapsed": false
   },
   "id": "e92b8c495dc023a3"
  },
  {
   "cell_type": "code",
   "execution_count": 22,
   "outputs": [],
   "source": [
    "text = 'Привет! Расскажи, как твои дела?'\n",
    "inputs = tokenizer(text, return_tensors='pt')"
   ],
   "metadata": {
    "collapsed": false,
    "ExecuteTime": {
     "end_time": "2024-03-24T18:42:46.275374Z",
     "start_time": "2024-03-24T18:42:46.270616Z"
    }
   },
   "id": "7498ec4c868c47ee"
  },
  {
   "cell_type": "code",
   "execution_count": 23,
   "outputs": [],
   "source": [
    "with torch.no_grad():\n",
    "    # https://huggingface.co/docs/transformers/main/en/main_classes/text_generation\n",
    "    hypotheses = model.generate(\n",
    "        **inputs,\n",
    "        temperature=0.9,\n",
    "        do_sample=True,  # sampling or greedy decoding \n",
    "        # (at each decoding step selects the token with the highest prob without considering the impact on future tokens)\n",
    "        top_p=0.7,\n",
    "        num_return_sequences=3,\n",
    "        repetition_penalty=2.5,  # https://arxiv.org/pdf/1909.05858.pdf\n",
    "        max_length=32,\n",
    "    )"
   ],
   "metadata": {
    "collapsed": false,
    "ExecuteTime": {
     "end_time": "2024-03-24T18:42:46.764902Z",
     "start_time": "2024-03-24T18:42:46.658139Z"
    }
   },
   "id": "464c0de2783e0fd"
  },
  {
   "cell_type": "code",
   "execution_count": 24,
   "outputs": [
    {
     "name": "stdout",
     "output_type": "stream",
     "text": [
      "Что это?\n",
      "Это что?\n",
      "Мне нравится.\n"
     ]
    }
   ],
   "source": [
    "for h in hypotheses:\n",
    "    print(tokenizer.decode(h, skip_special_tokens=True))"
   ],
   "metadata": {
    "collapsed": false,
    "ExecuteTime": {
     "end_time": "2024-03-24T18:42:47.113554Z",
     "start_time": "2024-03-24T18:42:47.109509Z"
    }
   },
   "id": "cce7e0932103996a"
  },
  {
   "cell_type": "markdown",
   "source": [
    "# Dialogue loop"
   ],
   "metadata": {
    "collapsed": false
   },
   "id": "511bcf33b7dc60a3"
  },
  {
   "cell_type": "code",
   "execution_count": 45,
   "outputs": [
    {
     "name": "stdout",
     "output_type": "stream",
     "text": [
      "['Это так?', 'Что это?', 'Что это такое?', 'Что это?', 'Что это такое?']\n",
      "['Это так!', 'Что это такое?', 'Что это?', 'Что это такое?', 'Это так, но ты самый.']\n",
      "['Что это такое?', 'Что это такое?', 'Это так!', 'Это так, как в первый раз?', 'Что это такое?']\n",
      "['Это так, это ты', 'Это так!', 'Это это так', 'Это тот, что ты имеешь ввиду.', 'Это такая вещь, которую ты хотела сказать...']\n",
      "['Это так.', 'Это ты, миа...', 'Это тот, который сейчас делает.', 'Что это такое?', 'Это ты такой!']\n",
      "history: <user>я Дима<bot>Это так?<user>кто я<bot>Это так!<user>как меня зовут<bot>Что это такое?<user>КТО Я<bot>Это так, это ты<user>КАКОЕ ИМЯ У МЕНЯ<bot>Это так.\n",
      "verbose history:\n",
      "<user>я Дима\n",
      "<bot>Это так?\n",
      "<user>кто я\n",
      "<bot>Это так!\n",
      "<user>как меня зовут\n",
      "<bot>Что это такое?\n",
      "<user>КТО Я\n",
      "<bot>Это так, это ты\n",
      "<user>КАКОЕ ИМЯ У МЕНЯ\n",
      "<bot>Это так.\n"
     ]
    }
   ],
   "source": [
    "import time\n",
    "\n",
    "user_prefix = '<user>'\n",
    "bot_prefix = '<bot>'\n",
    "user_input = input('Talk to bot<3')\n",
    "history = ''\n",
    "verbose_history = []\n",
    "while user_input != 'q':\n",
    "    user_input = user_prefix + user_input\n",
    "    history += user_input\n",
    "    inputs = tokenizer(history, return_tensors='pt')\n",
    "    with torch.no_grad():\n",
    "        hypotheses = model.generate(\n",
    "            **inputs,\n",
    "            temperature=0.9,\n",
    "            do_sample=True, \n",
    "            top_p=0.7,\n",
    "            num_return_sequences=5,\n",
    "            repetition_penalty=2.5,\n",
    "            max_length=32,\n",
    "        )\n",
    "        bot_utterances = []\n",
    "        for h in hypotheses:\n",
    "            bot_utterances.append(tokenizer.decode(h, skip_special_tokens=True))\n",
    "        history += bot_prefix + bot_utterances[0]\n",
    "        print(bot_utterances)\n",
    "        verbose_history.append((user_input, bot_prefix + bot_utterances[0]))\n",
    "    time.sleep(1)\n",
    "    user_input = input('Talk to bot<3')\n",
    "\n",
    "print('history:', history)    \n",
    "print('verbose history:')\n",
    "for user, bot in verbose_history:\n",
    "    print(user)\n",
    "    print(bot)"
   ],
   "metadata": {
    "collapsed": false,
    "ExecuteTime": {
     "end_time": "2024-03-24T19:15:02.164429Z",
     "start_time": "2024-03-24T19:14:37.098378Z"
    }
   },
   "id": "bf53ba9b57be0f93"
  },
  {
   "cell_type": "code",
   "execution_count": null,
   "outputs": [],
   "source": [],
   "metadata": {
    "collapsed": false
   },
   "id": "9609d9b14852c50"
  }
 ],
 "metadata": {
  "kernelspec": {
   "display_name": "Python 3",
   "language": "python",
   "name": "python3"
  },
  "language_info": {
   "codemirror_mode": {
    "name": "ipython",
    "version": 2
   },
   "file_extension": ".py",
   "mimetype": "text/x-python",
   "name": "python",
   "nbconvert_exporter": "python",
   "pygments_lexer": "ipython2",
   "version": "2.7.6"
  }
 },
 "nbformat": 4,
 "nbformat_minor": 5
}
