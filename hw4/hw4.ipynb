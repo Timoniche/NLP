{
 "cells": [
  {
   "cell_type": "markdown",
   "source": [
    "# Asymetric semantic search\n",
    "## Bi-encoder (RuBert) Fine-tuning using Sentence-Transformers library\n",
    "\n",
    "dataset: https://huggingface.co/datasets/sberquad\n",
    "training overview: https://www.sbert.net/docs/training/overview.html"
   ],
   "metadata": {
    "collapsed": false
   },
   "id": "bed717de4dd09091"
  },
  {
   "cell_type": "code",
   "execution_count": 6,
   "outputs": [
    {
     "name": "stdout",
     "output_type": "stream",
     "text": [
      "mps\n"
     ]
    }
   ],
   "source": [
    "import torch\n",
    "\n",
    "device = 'mps' if torch.backends.mps.is_built() else 'cuda' if torch.cuda.is_available() else 'cpu'\n",
    "\n",
    "print(device)"
   ],
   "metadata": {
    "collapsed": false,
    "ExecuteTime": {
     "end_time": "2024-04-02T21:12:05.977924Z",
     "start_time": "2024-04-02T21:12:05.975005Z"
    }
   },
   "id": "c41ef37d62d2f1e4"
  },
  {
   "cell_type": "code",
   "execution_count": 7,
   "outputs": [],
   "source": [
    "from sentence_transformers import SentenceTransformer, models\n",
    "\n",
    "\n",
    "def raw_bi_encoder():\n",
    "    word_embedding_model = models.Transformer('cointegrated/rubert-tiny2', max_seq_length=256)\n",
    "    pooling_model = models.Pooling(word_embedding_model.get_word_embedding_dimension())\n",
    "\n",
    "    bi_encoder = SentenceTransformer(\n",
    "        modules=[word_embedding_model, pooling_model],\n",
    "        device=device,\n",
    "    )\n",
    "\n",
    "    return bi_encoder"
   ],
   "metadata": {
    "collapsed": false,
    "ExecuteTime": {
     "end_time": "2024-04-02T21:12:06.698794Z",
     "start_time": "2024-04-02T21:12:06.693776Z"
    }
   },
   "id": "4f79ea949682a4bf"
  },
  {
   "cell_type": "code",
   "execution_count": 8,
   "outputs": [
    {
     "name": "stdout",
     "output_type": "stream",
     "text": [
      "SentenceTransformer(\n",
      "  (0): Transformer({'max_seq_length': 256, 'do_lower_case': False}) with Transformer model: BertModel \n",
      "  (1): Pooling({'word_embedding_dimension': 312, 'pooling_mode_cls_token': False, 'pooling_mode_mean_tokens': True, 'pooling_mode_max_tokens': False, 'pooling_mode_mean_sqrt_len_tokens': False, 'pooling_mode_weightedmean_tokens': False, 'pooling_mode_lasttoken': False, 'include_prompt': True})\n",
      ")\n"
     ]
    }
   ],
   "source": [
    "bi_encoder = raw_bi_encoder()\n",
    "\n",
    "print(bi_encoder)"
   ],
   "metadata": {
    "collapsed": false,
    "ExecuteTime": {
     "end_time": "2024-04-02T21:12:09.219259Z",
     "start_time": "2024-04-02T21:12:07.396024Z"
    }
   },
   "id": "8b2f3319e1d0d330"
  },
  {
   "cell_type": "markdown",
   "source": [
    "# Let's make sure it works"
   ],
   "metadata": {
    "collapsed": false
   },
   "id": "293cd2ca419c64c4"
  },
  {
   "cell_type": "code",
   "execution_count": 9,
   "outputs": [
    {
     "data": {
      "text/plain": "0.8660254037844387"
     },
     "execution_count": 9,
     "metadata": {},
     "output_type": "execute_result"
    }
   ],
   "source": [
    "from sentence_transformers import evaluation\n",
    "\n",
    "document_context = [\n",
    "    'Город Байконур и космодром Байконур вместе образуют комплекс Байконур , арендованный Россией у Казахстана на период до 2050 года. Эксплуатация космодрома стоит около 9 млрд рублей в год (стоимость аренды комплекса Байконур составляет 115 млн долларов — около 7,4 млрд рублей в год; ещё около 1,5 млрд рублей в год Россия тратит на поддержание объектов космодрома), что составляет 4,2 % от общего бюджета Роскосмоса на 2012 год. Кроме того, из федерального бюджета России в бюджет города Байконура ежегодно осуществляется безвозмездное поступление в размере 1,16 млрд рублей (по состоянию на 2012 год). В общей сложности космодром и город обходятся бюджету России в 10,16 млрд рублей в год.',\n",
    "\n",
    "    'Скорость света в вакууме — абсолютная величина скорости распространения электромагнитных волн в вакууме. Традиционно обозначается латинской буквой c (произносится как [це]). Скорость света в вакууме — фундаментальная постоянная, не зависящая от выбора инерциальной системы отсчёта (ИСО). Она относится к фундаментальным физическим постоянным, которые характеризуют не просто отдельные тела или поля, а свойства пространства-времени в целом. По современным представлениям, скорость света в вакууме — предельная скорость движения частиц и распространения взаимодействий.',\n",
    "\n",
    "    'Первый троллейбус был создан в Германии инженером Вернером фон Сименсом, вероятно, под влиянием идеи его брата, проживавшего в Англии доктора Вильгельма Сименса, высказанной 18 мая 1881 года на двадцать втором заседании Королевского научного общества. Электросъём осуществлялся восьмиколёсной тележкой (Kontaktwagen), катившейся по двум параллельным контактным проводам. Провода располагались достаточно близко друг от друга, и при сильном ветре нередко перехлёстывались, что приводило к коротким замыканиям. Экспериментальная троллейбусная линия протяжённостью 540 м (591 ярд), открытая компанией Siemens & Halske в предместье Берлина Галензе (Halensee), действовала с 29 апреля по 13 июня 1882.',\n",
    "]\n",
    "\n",
    "question = [\n",
    "    'На какой период был арендован Россией комплекс Байконур',\n",
    "\n",
    "    'Как называется абсолютная величина скорости распространения электромагнитных волн в вакууме?',\n",
    "\n",
    "    'Кем был ослеплен князь Василий Тёмный?',\n",
    "]\n",
    "\n",
    "label = [\n",
    "    1.0,\n",
    "    1.0,\n",
    "    0.0,\n",
    "]\n",
    "\n",
    "evaluator = evaluation.EmbeddingSimilarityEvaluator(question, document_context, label)\n",
    "bi_encoder.evaluate(evaluator)"
   ],
   "metadata": {
    "collapsed": false,
    "ExecuteTime": {
     "end_time": "2024-04-02T21:12:14.650430Z",
     "start_time": "2024-04-02T21:12:12.744579Z"
    }
   },
   "id": "9bd9034e7ec6c06c"
  },
  {
   "cell_type": "markdown",
   "source": [
    "# Evaluate on train-val without Fine-Tuning"
   ],
   "metadata": {
    "collapsed": false
   },
   "id": "48e670125c9e2fd8"
  },
  {
   "cell_type": "code",
   "execution_count": 10,
   "outputs": [],
   "source": [
    "from hw4.data_preparer import trainval_shuffled_data\n",
    "\n",
    "trainval = trainval_shuffled_data(from_file=True)\n",
    "\n",
    "n_samples = 1000\n",
    "questions, document_contexts, coss = zip(*trainval[:n_samples])"
   ],
   "metadata": {
    "collapsed": false,
    "ExecuteTime": {
     "end_time": "2024-04-02T21:12:18.091262Z",
     "start_time": "2024-04-02T21:12:18.018272Z"
    }
   },
   "id": "bd6028294010f8db"
  },
  {
   "cell_type": "code",
   "execution_count": 11,
   "outputs": [],
   "source": [
    "evaluator = evaluation.EmbeddingSimilarityEvaluator(questions, document_contexts, coss)"
   ],
   "metadata": {
    "collapsed": false,
    "ExecuteTime": {
     "end_time": "2024-04-02T21:12:18.636693Z",
     "start_time": "2024-04-02T21:12:18.628372Z"
    }
   },
   "id": "b826e1853b2f3296"
  },
  {
   "cell_type": "code",
   "execution_count": 12,
   "outputs": [],
   "source": [
    "bi_encoder = raw_bi_encoder()"
   ],
   "metadata": {
    "collapsed": false,
    "ExecuteTime": {
     "end_time": "2024-04-02T21:12:19.717659Z",
     "start_time": "2024-04-02T21:12:19.168176Z"
    }
   },
   "id": "8a88b3b4d5cf962d"
  },
  {
   "cell_type": "code",
   "execution_count": 19,
   "outputs": [
    {
     "data": {
      "text/plain": "0.7866959794370026"
     },
     "execution_count": 19,
     "metadata": {},
     "output_type": "execute_result"
    }
   ],
   "source": [
    "bi_encoder.evaluate(evaluator)"
   ],
   "metadata": {
    "collapsed": false,
    "ExecuteTime": {
     "end_time": "2024-04-02T19:40:14.549523Z",
     "start_time": "2024-04-02T19:39:23.705283Z"
    }
   },
   "id": "265a39fd09c9c754"
  },
  {
   "cell_type": "markdown",
   "source": [
    "# Evaluate on test without Fine-Tuning"
   ],
   "metadata": {
    "collapsed": false
   },
   "id": "515bb4fa04e6d00d"
  },
  {
   "cell_type": "code",
   "execution_count": 13,
   "outputs": [],
   "source": [
    "from hw4.data_preparer import test_shuffled_data\n",
    "\n",
    "n_test_samples = 1000\n",
    "test = test_shuffled_data(from_file=True)\n",
    "test_questions, test_document_contexts, test_coss = zip(*test[:n_test_samples])"
   ],
   "metadata": {
    "collapsed": false,
    "ExecuteTime": {
     "end_time": "2024-04-02T21:12:23.404986Z",
     "start_time": "2024-04-02T21:12:23.375038Z"
    }
   },
   "id": "16736fde11f92ec3"
  },
  {
   "cell_type": "code",
   "execution_count": 14,
   "outputs": [],
   "source": [
    "evaluator = evaluation.EmbeddingSimilarityEvaluator(test_questions, test_document_contexts, test_coss)"
   ],
   "metadata": {
    "collapsed": false,
    "ExecuteTime": {
     "end_time": "2024-04-02T21:12:24.515331Z",
     "start_time": "2024-04-02T21:12:24.500432Z"
    }
   },
   "id": "772bd352fc7064b5"
  },
  {
   "cell_type": "code",
   "execution_count": 15,
   "outputs": [],
   "source": [
    "bi_encoder = raw_bi_encoder()"
   ],
   "metadata": {
    "collapsed": false,
    "ExecuteTime": {
     "end_time": "2024-04-02T21:12:25.533403Z",
     "start_time": "2024-04-02T21:12:24.991530Z"
    }
   },
   "id": "cfcf15bf481fccf8"
  },
  {
   "cell_type": "code",
   "execution_count": 12,
   "outputs": [
    {
     "data": {
      "text/plain": "0.8064889530877336"
     },
     "execution_count": 12,
     "metadata": {},
     "output_type": "execute_result"
    }
   ],
   "source": [
    "bi_encoder.evaluate(evaluator)"
   ],
   "metadata": {
    "collapsed": false,
    "ExecuteTime": {
     "end_time": "2024-04-01T17:40:17.833261Z",
     "start_time": "2024-04-01T17:39:41.720228Z"
    }
   },
   "id": "20da8e9aba824094"
  },
  {
   "cell_type": "markdown",
   "source": [
    "# Fine-Tuning"
   ],
   "metadata": {
    "collapsed": false
   },
   "id": "795e93f2090efad5"
  },
  {
   "cell_type": "code",
   "execution_count": 9,
   "outputs": [
    {
     "name": "stdout",
     "output_type": "stream",
     "text": [
      "{'guid': '', 'texts': ['что оказала Заметное, хотя и менее значительное влияние на воззрения Локка', 'Заметное, хотя и менее значительное влияние на воззрения Локка оказала психология Гоббса, у которого заимствован, например, порядок изложения Опыта . Описывая процессы сравнения, Локк следует за Гоббсом; вместе с ним он утверждает, что отношения не принадлежат вещам, а составляют результат сравнения, что отношений бесчисленное множество, что более важные отношения суть тождество и различие, равенство и неравенство, сходство и несходство, смежность по пространству и времени, причина и действие. В трактате о языке, то есть в третьей книге Опыта , Локк развивает мысли Гоббса. В учении о воле Локк находится в сильнейшей зависимости от Гоббса; вместе с последним он учит, что стремление к удовольствию есть единственное проходящее через всю нашу психическую жизнь и что понятие о добре и зле у различных людей совершенно различно. В учении о свободе воли Локк вместе с Гоббсом утверждает, что воля склоняется в сторону сильнейшего желания и что свобода есть сила, принадлежащая душе, а не воле[6].'], 'label': 1.0}\n"
     ]
    }
   ],
   "source": [
    "from hw4.data_preparer import trainval_examples\n",
    "\n",
    "trainval_examples = trainval_examples()[:n_samples]\n",
    "print(trainval_examples[0].__dict__)"
   ],
   "metadata": {
    "collapsed": false,
    "ExecuteTime": {
     "end_time": "2024-04-01T16:39:05.154136Z",
     "start_time": "2024-04-01T16:39:04.846025Z"
    }
   },
   "id": "c9fe58494b846c84"
  },
  {
   "cell_type": "code",
   "execution_count": 10,
   "outputs": [],
   "source": [
    "from torch.utils.data import DataLoader\n",
    "\n",
    "trainval_dataloader_set = DataLoader(trainval_examples, shuffle=True, batch_size=32,\n",
    "                                     collate_fn=bi_encoder.smart_batching_collate)"
   ],
   "metadata": {
    "collapsed": false,
    "ExecuteTime": {
     "end_time": "2024-04-01T16:39:07.385687Z",
     "start_time": "2024-04-01T16:39:07.382911Z"
    }
   },
   "id": "b480dcdedbe1672e"
  },
  {
   "cell_type": "code",
   "execution_count": 11,
   "outputs": [],
   "source": [
    "from sentence_transformers import losses\n",
    "\n",
    "trainval_loss_set = losses.CosineSimilarityLoss(bi_encoder)"
   ],
   "metadata": {
    "collapsed": false,
    "ExecuteTime": {
     "end_time": "2024-04-01T16:39:09.592740Z",
     "start_time": "2024-04-01T16:39:09.575227Z"
    }
   },
   "id": "cbac197651973353"
  },
  {
   "cell_type": "code",
   "execution_count": 12,
   "outputs": [
    {
     "data": {
      "text/plain": "CosineSimilarityLoss(\n  (model): SentenceTransformer(\n    (0): Transformer({'max_seq_length': 256, 'do_lower_case': False}) with Transformer model: BertModel \n    (1): Pooling({'word_embedding_dimension': 312, 'pooling_mode_cls_token': False, 'pooling_mode_mean_tokens': True, 'pooling_mode_max_tokens': False, 'pooling_mode_mean_sqrt_len_tokens': False, 'pooling_mode_weightedmean_tokens': False, 'pooling_mode_lasttoken': False, 'include_prompt': True})\n  )\n  (loss_fct): MSELoss()\n  (cos_score_transformation): Identity()\n)"
     },
     "execution_count": 12,
     "metadata": {},
     "output_type": "execute_result"
    }
   ],
   "source": [
    "trainval_loss_set"
   ],
   "metadata": {
    "collapsed": false,
    "ExecuteTime": {
     "end_time": "2024-04-01T16:39:10.065684Z",
     "start_time": "2024-04-01T16:39:10.063874Z"
    }
   },
   "id": "e70cdccdc091412f"
  },
  {
   "cell_type": "code",
   "execution_count": 13,
   "outputs": [
    {
     "data": {
      "text/plain": "(torch.Size([32, 33]), torch.Size([32, 256]), torch.Size([32]))"
     },
     "execution_count": 13,
     "metadata": {},
     "output_type": "execute_result"
    }
   ],
   "source": [
    "(query_batch, context_batch), labels = next(iter(trainval_dataloader_set))\n",
    "query_batch['input_ids'].shape, context_batch['input_ids'].shape, labels.shape"
   ],
   "metadata": {
    "collapsed": false,
    "ExecuteTime": {
     "end_time": "2024-04-01T16:39:12.677047Z",
     "start_time": "2024-04-01T16:39:12.663427Z"
    }
   },
   "id": "d5172b90c66dfb0b"
  },
  {
   "cell_type": "code",
   "execution_count": 17,
   "outputs": [
    {
     "data": {
      "text/plain": "Epoch:   0%|          | 0/5 [00:00<?, ?it/s]",
      "application/vnd.jupyter.widget-view+json": {
       "version_major": 2,
       "version_minor": 0,
       "model_id": "9057de821cd44cb0b93581071095cd5c"
      }
     },
     "metadata": {},
     "output_type": "display_data"
    },
    {
     "data": {
      "text/plain": "Iteration:   0%|          | 0/32 [00:00<?, ?it/s]",
      "application/vnd.jupyter.widget-view+json": {
       "version_major": 2,
       "version_minor": 0,
       "model_id": "4811a76f6ab34b13966a69c53dc8d6a4"
      }
     },
     "metadata": {},
     "output_type": "display_data"
    },
    {
     "data": {
      "text/plain": "Iteration:   0%|          | 0/32 [00:00<?, ?it/s]",
      "application/vnd.jupyter.widget-view+json": {
       "version_major": 2,
       "version_minor": 0,
       "model_id": "b7afacc7d5b4482890477c11576e438f"
      }
     },
     "metadata": {},
     "output_type": "display_data"
    },
    {
     "data": {
      "text/plain": "Iteration:   0%|          | 0/32 [00:00<?, ?it/s]",
      "application/vnd.jupyter.widget-view+json": {
       "version_major": 2,
       "version_minor": 0,
       "model_id": "da1f9bbeec5e43bab0131513d197642c"
      }
     },
     "metadata": {},
     "output_type": "display_data"
    },
    {
     "data": {
      "text/plain": "Iteration:   0%|          | 0/32 [00:00<?, ?it/s]",
      "application/vnd.jupyter.widget-view+json": {
       "version_major": 2,
       "version_minor": 0,
       "model_id": "e51c660e38254db29004a2e335c66405"
      }
     },
     "metadata": {},
     "output_type": "display_data"
    },
    {
     "data": {
      "text/plain": "Iteration:   0%|          | 0/32 [00:00<?, ?it/s]",
      "application/vnd.jupyter.widget-view+json": {
       "version_major": 2,
       "version_minor": 0,
       "model_id": "32da6f1222844c0b892dd5ffdeae764a"
      }
     },
     "metadata": {},
     "output_type": "display_data"
    }
   ],
   "source": [
    "bi_encoder.fit(\n",
    "    train_objectives=[(trainval_dataloader_set, trainval_loss_set)],\n",
    "    output_path='qa/results',\n",
    "    epochs=5,\n",
    "    evaluator=evaluator,\n",
    ")"
   ],
   "metadata": {
    "collapsed": false,
    "ExecuteTime": {
     "end_time": "2024-04-01T16:43:45.695483Z",
     "start_time": "2024-04-01T16:42:20.415723Z"
    }
   },
   "id": "4199e3da5dbbb45c"
  },
  {
   "cell_type": "markdown",
   "source": [
    "# Loading model from checkpoint"
   ],
   "metadata": {
    "collapsed": false
   },
   "id": "59870fbb589855a"
  },
  {
   "cell_type": "code",
   "execution_count": 16,
   "outputs": [],
   "source": [
    "from sentence_transformers import SentenceTransformer\n",
    "\n",
    "finetuned_bi_encoder = SentenceTransformer('qa/results')"
   ],
   "metadata": {
    "collapsed": false,
    "ExecuteTime": {
     "end_time": "2024-04-02T21:12:29.929938Z",
     "start_time": "2024-04-02T21:12:29.835241Z"
    }
   },
   "id": "cf41141f94c86ed9"
  },
  {
   "cell_type": "code",
   "execution_count": 17,
   "outputs": [
    {
     "data": {
      "text/plain": "0.8099115488020344"
     },
     "execution_count": 17,
     "metadata": {},
     "output_type": "execute_result"
    }
   ],
   "source": [
    "finetuned_bi_encoder.evaluate(evaluator)"
   ],
   "metadata": {
    "collapsed": false,
    "ExecuteTime": {
     "end_time": "2024-04-02T21:13:28.917662Z",
     "start_time": "2024-04-02T21:12:31.675664Z"
    }
   },
   "id": "cc4e88e82db653a0"
  },
  {
   "cell_type": "markdown",
   "source": [
    "# Evaluating on metrics"
   ],
   "metadata": {
    "collapsed": false
   },
   "id": "69064f6f28013986"
  },
  {
   "cell_type": "code",
   "execution_count": 18,
   "outputs": [],
   "source": [
    "from hw4.data_preparer import test_shuffled_data\n",
    "\n",
    "data = test_shuffled_data(from_file=True)"
   ],
   "metadata": {
    "collapsed": false,
    "ExecuteTime": {
     "end_time": "2024-04-02T21:14:01.884100Z",
     "start_time": "2024-04-02T21:14:01.858931Z"
    }
   },
   "id": "d180ba1217f9697f"
  },
  {
   "cell_type": "code",
   "execution_count": 19,
   "outputs": [],
   "source": [
    "n_test_samples = 1000\n",
    "queries, docs, labels = zip(*data[:n_test_samples])"
   ],
   "metadata": {
    "collapsed": false,
    "ExecuteTime": {
     "end_time": "2024-04-02T21:14:02.398122Z",
     "start_time": "2024-04-02T21:14:02.388516Z"
    }
   },
   "id": "78cd4a5b1e62f085"
  },
  {
   "cell_type": "code",
   "execution_count": 20,
   "outputs": [
    {
     "name": "stdout",
     "output_type": "stream",
     "text": [
      "docs count before shrinking:  1000\n"
     ]
    }
   ],
   "source": [
    "print('docs count before shrinking: ', len(docs))"
   ],
   "metadata": {
    "collapsed": false,
    "ExecuteTime": {
     "end_time": "2024-04-02T21:14:03.025279Z",
     "start_time": "2024-04-02T21:14:03.017596Z"
    }
   },
   "id": "cebd3729f023bed6"
  },
  {
   "cell_type": "code",
   "execution_count": 21,
   "outputs": [],
   "source": [
    "docs = list(set(docs))"
   ],
   "metadata": {
    "collapsed": false,
    "ExecuteTime": {
     "end_time": "2024-04-02T21:14:03.481183Z",
     "start_time": "2024-04-02T21:14:03.476257Z"
    }
   },
   "id": "754e4207bf197a60"
  },
  {
   "cell_type": "code",
   "execution_count": 22,
   "outputs": [
    {
     "name": "stdout",
     "output_type": "stream",
     "text": [
      "docs count without duplicates:  891\n"
     ]
    }
   ],
   "source": [
    "print('docs count without duplicates: ', len(docs))"
   ],
   "metadata": {
    "collapsed": false,
    "ExecuteTime": {
     "end_time": "2024-04-02T21:14:04.501858Z",
     "start_time": "2024-04-02T21:14:04.494528Z"
    }
   },
   "id": "50ceb1c1b234955f"
  },
  {
   "cell_type": "code",
   "execution_count": 23,
   "outputs": [
    {
     "data": {
      "text/plain": "Batches:   0%|          | 0/28 [00:00<?, ?it/s]",
      "application/vnd.jupyter.widget-view+json": {
       "version_major": 2,
       "version_minor": 0,
       "model_id": "9215d63946764eeea7b864a5d5887c81"
      }
     },
     "metadata": {},
     "output_type": "display_data"
    }
   ],
   "source": [
    "doc_embs = finetuned_bi_encoder.encode(\n",
    "    docs,\n",
    "    convert_to_tensor=True,\n",
    "    show_progress_bar=True,\n",
    ")"
   ],
   "metadata": {
    "collapsed": false,
    "ExecuteTime": {
     "end_time": "2024-04-02T21:14:22.873981Z",
     "start_time": "2024-04-02T21:14:05.063920Z"
    }
   },
   "id": "7db87e33514e66d"
  },
  {
   "cell_type": "code",
   "execution_count": 24,
   "outputs": [
    {
     "data": {
      "text/plain": "Batches:   0%|          | 0/32 [00:00<?, ?it/s]",
      "application/vnd.jupyter.widget-view+json": {
       "version_major": 2,
       "version_minor": 0,
       "model_id": "9b7df18107504fbbb4daaeaf4fcf9f5e"
      }
     },
     "metadata": {},
     "output_type": "display_data"
    }
   ],
   "source": [
    "query_embs = finetuned_bi_encoder.encode(\n",
    "    queries,\n",
    "    convert_to_tensor=True,\n",
    "    show_progress_bar=True,\n",
    ")"
   ],
   "metadata": {
    "collapsed": false,
    "ExecuteTime": {
     "end_time": "2024-04-02T21:14:40.479801Z",
     "start_time": "2024-04-02T21:14:22.871804Z"
    }
   },
   "id": "bac6843d69ee87d7"
  },
  {
   "cell_type": "code",
   "execution_count": 25,
   "outputs": [],
   "source": [
    "from sentence_transformers import util"
   ],
   "metadata": {
    "collapsed": false,
    "ExecuteTime": {
     "end_time": "2024-04-02T21:14:56.031885Z",
     "start_time": "2024-04-02T21:14:56.024579Z"
    }
   },
   "id": "78ab3b4b0affec85"
  },
  {
   "cell_type": "code",
   "execution_count": 26,
   "outputs": [],
   "source": [
    "cos_sim_score = util.semantic_search(query_embs, doc_embs, top_k=3)"
   ],
   "metadata": {
    "collapsed": false,
    "ExecuteTime": {
     "end_time": "2024-04-02T21:14:56.868028Z",
     "start_time": "2024-04-02T21:14:56.469576Z"
    }
   },
   "id": "c77d5208c1bee93"
  },
  {
   "cell_type": "code",
   "execution_count": 27,
   "outputs": [
    {
     "name": "stdout",
     "output_type": "stream",
     "text": [
      "[{'corpus_id': 592, 'score': 0.5318310856819153}, {'corpus_id': 770, 'score': 0.5177189111709595}, {'corpus_id': 420, 'score': 0.5000532269477844}]\n"
     ]
    }
   ],
   "source": [
    "for_first_query = cos_sim_score[0]\n",
    "print(for_first_query)"
   ],
   "metadata": {
    "collapsed": false,
    "ExecuteTime": {
     "end_time": "2024-04-02T21:14:56.915916Z",
     "start_time": "2024-04-02T21:14:56.913179Z"
    }
   },
   "id": "ec5bdf4b4bbcbae5"
  },
  {
   "cell_type": "code",
   "execution_count": 28,
   "outputs": [
    {
     "name": "stdout",
     "output_type": "stream",
     "text": [
      "Question:  Какое содержание селена в морской воде?\n",
      "\n",
      "corpus id:  592\n",
      "Document 1: Cosine Similarity is 0.532:\n",
      "\n",
      "Содержание селена в земной коре — около 500 мг/т. Основные черты геохимии селена в земной коре определяются близостью его ионного радиуса к ионному радиусу серы. Селен образует 37 минералов, среди которых в первую очередь должны быть отмечены ашавалит FeSe, клаусталит PbSe, тиманнит HgSe, гуанахуатит Bi2(Se, S)3, хастит CoSe2, платинит PbBi2(S, Se)3, ассоциирующие с различными сульфидами, а иногда также с касситеритом. Изредка встречается самородный селен. Главное промышленное значение на селен имеют сульфидные месторождения. Содержание селена в сульфидах колеблется от 7 до 110 г/т. Концентрация селена в морской воде 4·10−4 мг/л[15]. На территории Кавказских Минеральных Вод встречаются источники с содержанием Se от 50 мкг/дм3.\n",
      "\n",
      "corpus id:  770\n",
      "Document 2: Cosine Similarity is 0.518:\n",
      "\n",
      "К хлоридно-гидрокарбонатно-натриевому типу относится закарпатская вода Драговская с минерализацией 9,6 г/л и краснодарская Горячий ключ с общим содержанием солей в литре 4,5 г солей, но в них хлориды в виде поваренной соли (соответственно 59 и 67 %) превалируют над гидрокарбонатами, которые представлены содой (38 и 32 %). Обе воды безсульфатные. Преобладанием хлоридов над гидрокарбонатами отличается и вода того же типа Челкарская с минерализацией 2,2 г/л. Гидрокарбонаты в виде соды составляют 32, а хлоридов (поваренная соль) — 48 %. Кроме того, в Челкарской есть сульфаты в виде глауберовой соли (20 %).\n",
      "\n",
      "corpus id:  420\n",
      "Document 3: Cosine Similarity is 0.500:\n",
      "\n",
      "Хлоридно-кальциевые воды (горькие и горько-солёные) снижают проницаемость стенок сосудов и оказывают кровоостанавливающее действие. Известны они и в качестве отхаркивающего средства. Назначают эти воды и при лечении органов пищеварения, они повышают ферментативную силу желудочного сока, улучшают белковую функцию печени, усиливают образование мочевины и её выделение с мочой. Благоприятно влияют такие воды и на нервную систему. Чисто хлоридно-кальциевые воды встречаются в природе редко. Среди лечебно-питьевых вод бутылочного разлива этот тип воды представлен источником Лугела , содержащим 5%-ный раствор хлористого кальция.\n"
     ]
    }
   ],
   "source": [
    "print('Question: ', queries[0])\n",
    "print()\n",
    "for no, ir in enumerate(cos_sim_score[0]):\n",
    "    corpus_id = ir[\"corpus_id\"]\n",
    "    print('corpus id: ', corpus_id)\n",
    "    print(f'Document {no + 1}: Cosine Similarity is {ir[\"score\"]:.3f}:\\n\\n{docs[corpus_id]}')\n",
    "    print()"
   ],
   "metadata": {
    "collapsed": false,
    "ExecuteTime": {
     "end_time": "2024-04-02T21:14:57.579307Z",
     "start_time": "2024-04-02T21:14:57.572648Z"
    }
   },
   "id": "91acde8789134491"
  },
  {
   "cell_type": "code",
   "execution_count": 30,
   "outputs": [
    {
     "name": "stdout",
     "output_type": "stream",
     "text": [
      "891\n"
     ]
    }
   ],
   "source": [
    "from hw4.data_preparer import shrink_repeated_samples\n",
    "\n",
    "data = test_shuffled_data(from_file=True)\n",
    "n_test_samples = 1000\n",
    "queries, docs, labels = zip(*data[:n_test_samples])\n",
    "\n",
    "queries, docs, labels = shrink_repeated_samples(\n",
    "    queries=queries,\n",
    "    docs=docs,\n",
    "    labels=labels,\n",
    ")\n",
    "print(len(docs))"
   ],
   "metadata": {
    "collapsed": false,
    "ExecuteTime": {
     "end_time": "2024-04-02T21:15:39.728890Z",
     "start_time": "2024-04-02T21:15:39.674590Z"
    }
   },
   "id": "156488993b1a6063"
  },
  {
   "cell_type": "markdown",
   "source": [
    "# Recall@k usage example"
   ],
   "metadata": {
    "collapsed": false
   },
   "id": "f6613ebeef7c2844"
  },
  {
   "cell_type": "code",
   "execution_count": 107,
   "outputs": [
    {
     "name": "stdout",
     "output_type": "stream",
     "text": [
      "tensor(0.5000)\n"
     ]
    }
   ],
   "source": [
    "from torch import tensor\n",
    "from torchmetrics.functional.retrieval.recall import retrieval_recall\n",
    "\n",
    "preds = tensor([0.2, 0.3, 0.5])\n",
    "target = tensor([True, False, True])\n",
    "r2 = retrieval_recall(\n",
    "    preds=preds,\n",
    "    target=target,\n",
    "    top_k=2\n",
    ")\n",
    "print(r2)"
   ],
   "metadata": {
    "collapsed": false,
    "ExecuteTime": {
     "end_time": "2024-04-02T22:00:57.016118Z",
     "start_time": "2024-04-02T22:00:56.992600Z"
    }
   },
   "id": "b1fb0370e73bf80c"
  },
  {
   "cell_type": "markdown",
   "source": [
    "# Obtain preds and targets, Evaluate metrics"
   ],
   "metadata": {
    "collapsed": false
   },
   "id": "1f52aaa19b97faa1"
  },
  {
   "cell_type": "code",
   "execution_count": 34,
   "outputs": [
    {
     "data": {
      "text/plain": "Batches:   0%|          | 0/28 [00:00<?, ?it/s]",
      "application/vnd.jupyter.widget-view+json": {
       "version_major": 2,
       "version_minor": 0,
       "model_id": "a5bef75b7f9148ceb79575e9ff4b3f3b"
      }
     },
     "metadata": {},
     "output_type": "display_data"
    }
   ],
   "source": [
    "doc_embs = finetuned_bi_encoder.encode(\n",
    "    docs,\n",
    "    convert_to_tensor=True,\n",
    "    show_progress_bar=True,\n",
    ")"
   ],
   "metadata": {
    "collapsed": false,
    "ExecuteTime": {
     "end_time": "2024-04-02T21:19:14.257286Z",
     "start_time": "2024-04-02T21:19:11.895624Z"
    }
   },
   "id": "923373b81f184c72"
  },
  {
   "cell_type": "code",
   "execution_count": 35,
   "outputs": [
    {
     "data": {
      "text/plain": "Batches:   0%|          | 0/28 [00:00<?, ?it/s]",
      "application/vnd.jupyter.widget-view+json": {
       "version_major": 2,
       "version_minor": 0,
       "model_id": "f1c49377c14b481d8bfc379a9f92d02e"
      }
     },
     "metadata": {},
     "output_type": "display_data"
    }
   ],
   "source": [
    "query_embs = finetuned_bi_encoder.encode(\n",
    "    queries,\n",
    "    convert_to_tensor=True,\n",
    "    show_progress_bar=True,\n",
    ")"
   ],
   "metadata": {
    "collapsed": false,
    "ExecuteTime": {
     "end_time": "2024-04-02T21:19:17.350414Z",
     "start_time": "2024-04-02T21:19:14.255099Z"
    }
   },
   "id": "be10f0082cbb744d"
  },
  {
   "cell_type": "code",
   "execution_count": 57,
   "outputs": [],
   "source": [
    "cos_scores = util.semantic_search(query_embs, doc_embs, top_k=1e9)"
   ],
   "metadata": {
    "collapsed": false,
    "ExecuteTime": {
     "end_time": "2024-04-02T21:35:47.975751Z",
     "start_time": "2024-04-02T21:35:47.323200Z"
    }
   },
   "id": "e90a38ca75bedebb"
  },
  {
   "cell_type": "code",
   "execution_count": 58,
   "outputs": [
    {
     "name": "stdout",
     "output_type": "stream",
     "text": [
      "891\n"
     ]
    }
   ],
   "source": [
    "print(len(cos_scores))"
   ],
   "metadata": {
    "collapsed": false,
    "ExecuteTime": {
     "end_time": "2024-04-02T21:35:48.782284Z",
     "start_time": "2024-04-02T21:35:48.771793Z"
    }
   },
   "id": "dd9ebb6e3ebc4773"
  },
  {
   "cell_type": "code",
   "execution_count": 59,
   "outputs": [
    {
     "name": "stdout",
     "output_type": "stream",
     "text": [
      "[{'corpus_id': 0, 'score': 0.5318310856819153}, {'corpus_id': 582, 'score': 0.5177189111709595}, {'corpus_id': 178, 'score': 0.5000532269477844}, {'corpus_id': 266, 'score': 0.4995037019252777}, {'corpus_id': 51, 'score': 0.49128687381744385}, {'corpus_id': 324, 'score': 0.4910564124584198}, {'corpus_id': 659, 'score': 0.48840367794036865}, {'corpus_id': 340, 'score': 0.48133450746536255}, {'corpus_id': 837, 'score': 0.48057007789611816}, {'corpus_id': 842, 'score': 0.47911542654037476}, {'corpus_id': 809, 'score': 0.4779476821422577}, {'corpus_id': 657, 'score': 0.4765729010105133}, {'corpus_id': 884, 'score': 0.47410234808921814}, {'corpus_id': 271, 'score': 0.4688253104686737}, {'corpus_id': 725, 'score': 0.463988333940506}, {'corpus_id': 270, 'score': 0.46264612674713135}, {'corpus_id': 419, 'score': 0.46203696727752686}, {'corpus_id': 671, 'score': 0.4600253999233246}, {'corpus_id': 688, 'score': 0.4595084488391876}, {'corpus_id': 105, 'score': 0.45759814977645874}, {'corpus_id': 359, 'score': 0.4572010934352875}, {'corpus_id': 169, 'score': 0.4503503143787384}, {'corpus_id': 481, 'score': 0.4502014219760895}, {'corpus_id': 855, 'score': 0.4495096504688263}, {'corpus_id': 195, 'score': 0.4472551941871643}, {'corpus_id': 815, 'score': 0.44652315974235535}, {'corpus_id': 338, 'score': 0.44625991582870483}, {'corpus_id': 376, 'score': 0.44447365403175354}, {'corpus_id': 593, 'score': 0.44353625178337097}, {'corpus_id': 566, 'score': 0.4418927729129791}, {'corpus_id': 29, 'score': 0.4414895474910736}, {'corpus_id': 244, 'score': 0.44053664803504944}, {'corpus_id': 208, 'score': 0.4403090476989746}, {'corpus_id': 217, 'score': 0.4394841194152832}, {'corpus_id': 751, 'score': 0.43745148181915283}, {'corpus_id': 136, 'score': 0.4371976852416992}, {'corpus_id': 183, 'score': 0.43662482500076294}, {'corpus_id': 596, 'score': 0.4362146258354187}, {'corpus_id': 588, 'score': 0.4328107237815857}, {'corpus_id': 392, 'score': 0.43202489614486694}, {'corpus_id': 518, 'score': 0.43189018964767456}, {'corpus_id': 555, 'score': 0.430509477853775}, {'corpus_id': 54, 'score': 0.42878949642181396}, {'corpus_id': 707, 'score': 0.428395539522171}, {'corpus_id': 277, 'score': 0.4276982545852661}, {'corpus_id': 134, 'score': 0.4272535741329193}, {'corpus_id': 212, 'score': 0.42676636576652527}, {'corpus_id': 186, 'score': 0.42631468176841736}, {'corpus_id': 25, 'score': 0.4262038469314575}, {'corpus_id': 168, 'score': 0.4261415898799896}, {'corpus_id': 534, 'score': 0.4255662262439728}, {'corpus_id': 552, 'score': 0.4250040054321289}, {'corpus_id': 754, 'score': 0.4246120750904083}, {'corpus_id': 602, 'score': 0.4240473508834839}, {'corpus_id': 730, 'score': 0.4237070381641388}, {'corpus_id': 302, 'score': 0.42344599962234497}, {'corpus_id': 456, 'score': 0.4233950078487396}, {'corpus_id': 813, 'score': 0.4233565628528595}, {'corpus_id': 368, 'score': 0.42274871468544006}, {'corpus_id': 191, 'score': 0.42221662402153015}, {'corpus_id': 356, 'score': 0.4216412901878357}, {'corpus_id': 86, 'score': 0.42135190963745117}, {'corpus_id': 238, 'score': 0.4209871292114258}, {'corpus_id': 275, 'score': 0.4208865761756897}, {'corpus_id': 94, 'score': 0.4199831783771515}, {'corpus_id': 237, 'score': 0.4194559156894684}, {'corpus_id': 62, 'score': 0.4182027578353882}, {'corpus_id': 125, 'score': 0.4180695712566376}, {'corpus_id': 528, 'score': 0.4173221290111542}, {'corpus_id': 702, 'score': 0.4169384241104126}, {'corpus_id': 431, 'score': 0.41679245233535767}, {'corpus_id': 432, 'score': 0.41660264134407043}, {'corpus_id': 282, 'score': 0.41635599732398987}, {'corpus_id': 589, 'score': 0.415831983089447}, {'corpus_id': 770, 'score': 0.41529619693756104}, {'corpus_id': 278, 'score': 0.41482803225517273}, {'corpus_id': 272, 'score': 0.41414982080459595}, {'corpus_id': 248, 'score': 0.4139486253261566}, {'corpus_id': 706, 'score': 0.41371622681617737}, {'corpus_id': 2, 'score': 0.41309812664985657}, {'corpus_id': 321, 'score': 0.41270530223846436}, {'corpus_id': 144, 'score': 0.41238224506378174}, {'corpus_id': 733, 'score': 0.41228199005126953}, {'corpus_id': 7, 'score': 0.4119874835014343}, {'corpus_id': 258, 'score': 0.4117403030395508}, {'corpus_id': 635, 'score': 0.4113849103450775}, {'corpus_id': 599, 'score': 0.4113331735134125}, {'corpus_id': 747, 'score': 0.4113219082355499}, {'corpus_id': 425, 'score': 0.4108986258506775}, {'corpus_id': 153, 'score': 0.41089847683906555}, {'corpus_id': 787, 'score': 0.4106958210468292}, {'corpus_id': 177, 'score': 0.410652220249176}, {'corpus_id': 506, 'score': 0.409824401140213}, {'corpus_id': 107, 'score': 0.40968865156173706}, {'corpus_id': 768, 'score': 0.4089100658893585}, {'corpus_id': 597, 'score': 0.40874332189559937}, {'corpus_id': 23, 'score': 0.40855297446250916}, {'corpus_id': 55, 'score': 0.4078931212425232}, {'corpus_id': 9, 'score': 0.40781357884407043}, {'corpus_id': 615, 'score': 0.4075656235218048}, {'corpus_id': 873, 'score': 0.4074152410030365}, {'corpus_id': 756, 'score': 0.40702152252197266}, {'corpus_id': 68, 'score': 0.406916081905365}, {'corpus_id': 497, 'score': 0.40684401988983154}, {'corpus_id': 342, 'score': 0.4063309133052826}, {'corpus_id': 296, 'score': 0.4062039256095886}, {'corpus_id': 193, 'score': 0.4054131507873535}, {'corpus_id': 705, 'score': 0.4053386449813843}, {'corpus_id': 115, 'score': 0.4045582115650177}, {'corpus_id': 604, 'score': 0.4041966199874878}, {'corpus_id': 352, 'score': 0.4036344885826111}, {'corpus_id': 34, 'score': 0.402473121881485}, {'corpus_id': 185, 'score': 0.4016570746898651}, {'corpus_id': 742, 'score': 0.40164482593536377}, {'corpus_id': 762, 'score': 0.4015972912311554}, {'corpus_id': 654, 'score': 0.40146395564079285}, {'corpus_id': 496, 'score': 0.40136346220970154}, {'corpus_id': 314, 'score': 0.40035825967788696}, {'corpus_id': 206, 'score': 0.4000260829925537}, {'corpus_id': 636, 'score': 0.3987372815608978}, {'corpus_id': 182, 'score': 0.3986183702945709}, {'corpus_id': 646, 'score': 0.397976815700531}, {'corpus_id': 434, 'score': 0.397663950920105}, {'corpus_id': 187, 'score': 0.39715564250946045}, {'corpus_id': 332, 'score': 0.3967999219894409}, {'corpus_id': 863, 'score': 0.3967812657356262}, {'corpus_id': 331, 'score': 0.3966473937034607}, {'corpus_id': 716, 'score': 0.3965834975242615}, {'corpus_id': 704, 'score': 0.3963736295700073}, {'corpus_id': 403, 'score': 0.39634498953819275}, {'corpus_id': 590, 'score': 0.39607366919517517}, {'corpus_id': 821, 'score': 0.3958548605442047}, {'corpus_id': 87, 'score': 0.39559346437454224}, {'corpus_id': 866, 'score': 0.39554721117019653}, {'corpus_id': 453, 'score': 0.39530158042907715}, {'corpus_id': 886, 'score': 0.3946809470653534}, {'corpus_id': 389, 'score': 0.3946244716644287}, {'corpus_id': 466, 'score': 0.3946220576763153}, {'corpus_id': 32, 'score': 0.39400649070739746}, {'corpus_id': 488, 'score': 0.39397045969963074}, {'corpus_id': 59, 'score': 0.39291995763778687}, {'corpus_id': 97, 'score': 0.39245283603668213}, {'corpus_id': 17, 'score': 0.3921574354171753}, {'corpus_id': 360, 'score': 0.3919917345046997}, {'corpus_id': 665, 'score': 0.3915632665157318}, {'corpus_id': 828, 'score': 0.3915195167064667}, {'corpus_id': 64, 'score': 0.3911949694156647}, {'corpus_id': 864, 'score': 0.3907325863838196}, {'corpus_id': 118, 'score': 0.39065858721733093}, {'corpus_id': 495, 'score': 0.390319287776947}, {'corpus_id': 243, 'score': 0.3899972438812256}, {'corpus_id': 562, 'score': 0.38973161578178406}, {'corpus_id': 114, 'score': 0.38893935084342957}, {'corpus_id': 740, 'score': 0.388898104429245}, {'corpus_id': 698, 'score': 0.38872116804122925}, {'corpus_id': 388, 'score': 0.38863611221313477}, {'corpus_id': 386, 'score': 0.3885844945907593}, {'corpus_id': 57, 'score': 0.3885433077812195}, {'corpus_id': 121, 'score': 0.38845527172088623}, {'corpus_id': 131, 'score': 0.38817912340164185}, {'corpus_id': 343, 'score': 0.3881419003009796}, {'corpus_id': 450, 'score': 0.3880971670150757}, {'corpus_id': 323, 'score': 0.3879827857017517}, {'corpus_id': 458, 'score': 0.3877470791339874}, {'corpus_id': 218, 'score': 0.38742196559906006}, {'corpus_id': 729, 'score': 0.3874088525772095}, {'corpus_id': 641, 'score': 0.38734981417655945}, {'corpus_id': 328, 'score': 0.3872121572494507}, {'corpus_id': 774, 'score': 0.3871649503707886}, {'corpus_id': 656, 'score': 0.3867834210395813}, {'corpus_id': 887, 'score': 0.3863292634487152}, {'corpus_id': 336, 'score': 0.3861720860004425}, {'corpus_id': 687, 'score': 0.38613858819007874}, {'corpus_id': 824, 'score': 0.3859829604625702}, {'corpus_id': 239, 'score': 0.38588395714759827}, {'corpus_id': 120, 'score': 0.385846883058548}, {'corpus_id': 45, 'score': 0.38572514057159424}, {'corpus_id': 447, 'score': 0.38562607765197754}, {'corpus_id': 541, 'score': 0.38514265418052673}, {'corpus_id': 159, 'score': 0.38470640778541565}, {'corpus_id': 650, 'score': 0.3842087686061859}, {'corpus_id': 540, 'score': 0.3837868273258209}, {'corpus_id': 78, 'score': 0.3837684988975525}, {'corpus_id': 662, 'score': 0.38376230001449585}, {'corpus_id': 284, 'score': 0.38372159004211426}, {'corpus_id': 806, 'score': 0.3836289942264557}, {'corpus_id': 247, 'score': 0.38353317975997925}, {'corpus_id': 535, 'score': 0.38347968459129333}, {'corpus_id': 37, 'score': 0.3833808898925781}, {'corpus_id': 19, 'score': 0.38315021991729736}, {'corpus_id': 474, 'score': 0.38299882411956787}, {'corpus_id': 308, 'score': 0.3829494118690491}, {'corpus_id': 675, 'score': 0.38268595933914185}, {'corpus_id': 735, 'score': 0.38258951902389526}, {'corpus_id': 789, 'score': 0.3825835883617401}, {'corpus_id': 418, 'score': 0.3825055956840515}, {'corpus_id': 194, 'score': 0.38245052099227905}, {'corpus_id': 645, 'score': 0.38240328431129456}, {'corpus_id': 316, 'score': 0.38235974311828613}, {'corpus_id': 838, 'score': 0.38209980726242065}, {'corpus_id': 492, 'score': 0.3820665180683136}, {'corpus_id': 53, 'score': 0.3818760812282562}, {'corpus_id': 696, 'score': 0.38172876834869385}, {'corpus_id': 119, 'score': 0.3813670575618744}, {'corpus_id': 834, 'score': 0.3810765743255615}, {'corpus_id': 371, 'score': 0.3807510733604431}, {'corpus_id': 223, 'score': 0.38023045659065247}, {'corpus_id': 487, 'score': 0.38022732734680176}, {'corpus_id': 499, 'score': 0.38018399477005005}, {'corpus_id': 594, 'score': 0.38004347681999207}, {'corpus_id': 396, 'score': 0.38002902269363403}, {'corpus_id': 346, 'score': 0.3796084225177765}, {'corpus_id': 476, 'score': 0.37924131751060486}, {'corpus_id': 709, 'score': 0.3790993392467499}, {'corpus_id': 184, 'score': 0.3790116310119629}, {'corpus_id': 135, 'score': 0.37900564074516296}, {'corpus_id': 48, 'score': 0.37889695167541504}, {'corpus_id': 672, 'score': 0.3788198232650757}, {'corpus_id': 364, 'score': 0.37873268127441406}, {'corpus_id': 189, 'score': 0.3783857524394989}, {'corpus_id': 846, 'score': 0.3782119154930115}, {'corpus_id': 171, 'score': 0.37767696380615234}, {'corpus_id': 398, 'score': 0.37761250138282776}, {'corpus_id': 205, 'score': 0.3776000440120697}, {'corpus_id': 736, 'score': 0.37741371989250183}, {'corpus_id': 486, 'score': 0.3773701786994934}, {'corpus_id': 236, 'score': 0.3772631585597992}, {'corpus_id': 533, 'score': 0.3768804669380188}, {'corpus_id': 847, 'score': 0.37641677260398865}, {'corpus_id': 280, 'score': 0.37598705291748047}, {'corpus_id': 165, 'score': 0.375899076461792}, {'corpus_id': 231, 'score': 0.37577712535858154}, {'corpus_id': 565, 'score': 0.37559351325035095}, {'corpus_id': 366, 'score': 0.37518179416656494}, {'corpus_id': 712, 'score': 0.37517696619033813}, {'corpus_id': 351, 'score': 0.37495484948158264}, {'corpus_id': 652, 'score': 0.3743889331817627}, {'corpus_id': 222, 'score': 0.3743256628513336}, {'corpus_id': 844, 'score': 0.3741306960582733}, {'corpus_id': 361, 'score': 0.3740786015987396}, {'corpus_id': 605, 'score': 0.3733946979045868}, {'corpus_id': 776, 'score': 0.3732375502586365}, {'corpus_id': 268, 'score': 0.373102605342865}, {'corpus_id': 207, 'score': 0.3730345368385315}, {'corpus_id': 618, 'score': 0.37289172410964966}, {'corpus_id': 520, 'score': 0.3728697896003723}, {'corpus_id': 746, 'score': 0.37268707156181335}, {'corpus_id': 530, 'score': 0.37268608808517456}, {'corpus_id': 391, 'score': 0.3725382089614868}, {'corpus_id': 299, 'score': 0.37224632501602173}, {'corpus_id': 157, 'score': 0.37180295586586}, {'corpus_id': 41, 'score': 0.37174054980278015}, {'corpus_id': 249, 'score': 0.37162062525749207}, {'corpus_id': 124, 'score': 0.3713892102241516}, {'corpus_id': 601, 'score': 0.3711828887462616}, {'corpus_id': 796, 'score': 0.3710881173610687}, {'corpus_id': 202, 'score': 0.3709879219532013}, {'corpus_id': 550, 'score': 0.37081414461135864}, {'corpus_id': 74, 'score': 0.37062203884124756}, {'corpus_id': 88, 'score': 0.37050390243530273}, {'corpus_id': 150, 'score': 0.37028321623802185}, {'corpus_id': 627, 'score': 0.37018677592277527}, {'corpus_id': 180, 'score': 0.37018096446990967}, {'corpus_id': 104, 'score': 0.37015047669410706}, {'corpus_id': 211, 'score': 0.3700696527957916}, {'corpus_id': 781, 'score': 0.36991652846336365}, {'corpus_id': 629, 'score': 0.369894802570343}, {'corpus_id': 868, 'score': 0.3696921467781067}, {'corpus_id': 14, 'score': 0.3694847822189331}, {'corpus_id': 600, 'score': 0.3689842224121094}, {'corpus_id': 72, 'score': 0.36898282170295715}, {'corpus_id': 556, 'score': 0.3687598705291748}, {'corpus_id': 793, 'score': 0.3687162697315216}, {'corpus_id': 780, 'score': 0.3679622709751129}, {'corpus_id': 542, 'score': 0.3677675724029541}, {'corpus_id': 885, 'score': 0.36758163571357727}, {'corpus_id': 853, 'score': 0.367405503988266}, {'corpus_id': 424, 'score': 0.3673652112483978}, {'corpus_id': 598, 'score': 0.36731892824172974}, {'corpus_id': 255, 'score': 0.36731719970703125}, {'corpus_id': 524, 'score': 0.36724627017974854}, {'corpus_id': 80, 'score': 0.3670588731765747}, {'corpus_id': 808, 'score': 0.36694908142089844}, {'corpus_id': 163, 'score': 0.36683544516563416}, {'corpus_id': 500, 'score': 0.36680614948272705}, {'corpus_id': 265, 'score': 0.36668461561203003}, {'corpus_id': 49, 'score': 0.36656349897384644}, {'corpus_id': 471, 'score': 0.36625802516937256}, {'corpus_id': 643, 'score': 0.3660738468170166}, {'corpus_id': 232, 'score': 0.3658435046672821}, {'corpus_id': 622, 'score': 0.3658214807510376}, {'corpus_id': 610, 'score': 0.3657246530056}, {'corpus_id': 874, 'score': 0.36569568514823914}, {'corpus_id': 261, 'score': 0.36569350957870483}, {'corpus_id': 61, 'score': 0.36568593978881836}, {'corpus_id': 433, 'score': 0.36567431688308716}, {'corpus_id': 681, 'score': 0.36524730920791626}, {'corpus_id': 461, 'score': 0.364963561296463}, {'corpus_id': 437, 'score': 0.3643239736557007}, {'corpus_id': 570, 'score': 0.3640654981136322}, {'corpus_id': 644, 'score': 0.364047646522522}, {'corpus_id': 490, 'score': 0.36404097080230713}, {'corpus_id': 309, 'score': 0.3635357618331909}, {'corpus_id': 410, 'score': 0.36324185132980347}, {'corpus_id': 290, 'score': 0.3628971576690674}, {'corpus_id': 810, 'score': 0.3628964424133301}, {'corpus_id': 63, 'score': 0.36275437474250793}, {'corpus_id': 647, 'score': 0.3624844253063202}, {'corpus_id': 545, 'score': 0.3624342679977417}, {'corpus_id': 668, 'score': 0.3620644807815552}, {'corpus_id': 50, 'score': 0.36194539070129395}, {'corpus_id': 692, 'score': 0.3618307113647461}, {'corpus_id': 315, 'score': 0.3616398274898529}, {'corpus_id': 380, 'score': 0.36123690009117126}, {'corpus_id': 204, 'score': 0.36096394062042236}, {'corpus_id': 695, 'score': 0.36091336607933044}, {'corpus_id': 128, 'score': 0.3609122037887573}, {'corpus_id': 660, 'score': 0.3608599007129669}, {'corpus_id': 571, 'score': 0.36061331629753113}, {'corpus_id': 797, 'score': 0.3603370189666748}, {'corpus_id': 819, 'score': 0.36024945974349976}, {'corpus_id': 393, 'score': 0.36010703444480896}, {'corpus_id': 148, 'score': 0.35997337102890015}, {'corpus_id': 31, 'score': 0.35965949296951294}, {'corpus_id': 489, 'score': 0.35945168137550354}, {'corpus_id': 276, 'score': 0.35886165499687195}, {'corpus_id': 160, 'score': 0.35873791575431824}, {'corpus_id': 613, 'score': 0.3585994839668274}, {'corpus_id': 379, 'score': 0.35829219222068787}, {'corpus_id': 527, 'score': 0.358247846364975}, {'corpus_id': 452, 'score': 0.3582155108451843}, {'corpus_id': 394, 'score': 0.35820138454437256}, {'corpus_id': 462, 'score': 0.35804152488708496}, {'corpus_id': 572, 'score': 0.35800644755363464}, {'corpus_id': 264, 'score': 0.35763561725616455}, {'corpus_id': 385, 'score': 0.3576194643974304}, {'corpus_id': 511, 'score': 0.3576001822948456}, {'corpus_id': 699, 'score': 0.35756832361221313}, {'corpus_id': 413, 'score': 0.35740798711776733}, {'corpus_id': 289, 'score': 0.3568967580795288}, {'corpus_id': 292, 'score': 0.356825053691864}, {'corpus_id': 766, 'score': 0.35659700632095337}, {'corpus_id': 741, 'score': 0.3561473488807678}, {'corpus_id': 477, 'score': 0.35591986775398254}, {'corpus_id': 584, 'score': 0.3558683395385742}, {'corpus_id': 832, 'score': 0.3558235466480255}, {'corpus_id': 603, 'score': 0.35557639598846436}, {'corpus_id': 4, 'score': 0.35550421476364136}, {'corpus_id': 242, 'score': 0.3554201126098633}, {'corpus_id': 43, 'score': 0.3553103804588318}, {'corpus_id': 567, 'score': 0.35503190755844116}, {'corpus_id': 560, 'score': 0.3549668490886688}, {'corpus_id': 559, 'score': 0.35496535897254944}, {'corpus_id': 738, 'score': 0.3549402952194214}, {'corpus_id': 727, 'score': 0.3544905483722687}, {'corpus_id': 467, 'score': 0.35417038202285767}, {'corpus_id': 197, 'score': 0.35415118932724}, {'corpus_id': 66, 'score': 0.3541175425052643}, {'corpus_id': 526, 'score': 0.3540365695953369}, {'corpus_id': 494, 'score': 0.3539900779724121}, {'corpus_id': 802, 'score': 0.35395142436027527}, {'corpus_id': 10, 'score': 0.3539283871650696}, {'corpus_id': 714, 'score': 0.35379526019096375}, {'corpus_id': 818, 'score': 0.35375624895095825}, {'corpus_id': 865, 'score': 0.3537442088127136}, {'corpus_id': 60, 'score': 0.3532136082649231}, {'corpus_id': 73, 'score': 0.35320866107940674}, {'corpus_id': 106, 'score': 0.35317960381507874}, {'corpus_id': 286, 'score': 0.35313838720321655}, {'corpus_id': 365, 'score': 0.3527243733406067}, {'corpus_id': 147, 'score': 0.3527110815048218}, {'corpus_id': 113, 'score': 0.3526361286640167}, {'corpus_id': 890, 'score': 0.3525621294975281}, {'corpus_id': 254, 'score': 0.3524867594242096}, {'corpus_id': 606, 'score': 0.35233262181282043}, {'corpus_id': 455, 'score': 0.35218366980552673}, {'corpus_id': 737, 'score': 0.3520497679710388}, {'corpus_id': 869, 'score': 0.3519760072231293}, {'corpus_id': 384, 'score': 0.3519580662250519}, {'corpus_id': 298, 'score': 0.3517068326473236}, {'corpus_id': 621, 'score': 0.3511550724506378}, {'corpus_id': 16, 'score': 0.3510771691799164}, {'corpus_id': 201, 'score': 0.350946843624115}, {'corpus_id': 889, 'score': 0.35068589448928833}, {'corpus_id': 678, 'score': 0.3503161370754242}, {'corpus_id': 867, 'score': 0.3500577509403229}, {'corpus_id': 498, 'score': 0.3498585522174835}, {'corpus_id': 760, 'score': 0.34982767701148987}, {'corpus_id': 849, 'score': 0.34981247782707214}, {'corpus_id': 444, 'score': 0.34958305954933167}, {'corpus_id': 757, 'score': 0.3495332598686218}, {'corpus_id': 728, 'score': 0.34952542185783386}, {'corpus_id': 233, 'score': 0.34924450516700745}, {'corpus_id': 564, 'score': 0.3491460978984833}, {'corpus_id': 123, 'score': 0.34908586740493774}, {'corpus_id': 417, 'score': 0.34885889291763306}, {'corpus_id': 381, 'score': 0.34823623299598694}, {'corpus_id': 700, 'score': 0.3482247591018677}, {'corpus_id': 451, 'score': 0.3482118248939514}, {'corpus_id': 40, 'score': 0.3481943607330322}, {'corpus_id': 640, 'score': 0.34814557433128357}, {'corpus_id': 591, 'score': 0.34801700711250305}, {'corpus_id': 617, 'score': 0.3480149805545807}, {'corpus_id': 75, 'score': 0.34796687960624695}, {'corpus_id': 39, 'score': 0.34793829917907715}, {'corpus_id': 720, 'score': 0.3478616178035736}, {'corpus_id': 642, 'score': 0.3478216826915741}, {'corpus_id': 382, 'score': 0.3477915823459625}, {'corpus_id': 330, 'score': 0.3476351201534271}, {'corpus_id': 525, 'score': 0.3472275733947754}, {'corpus_id': 531, 'score': 0.3470016419887543}, {'corpus_id': 295, 'score': 0.34695854783058167}, {'corpus_id': 287, 'score': 0.3468344509601593}, {'corpus_id': 400, 'score': 0.34668654203414917}, {'corpus_id': 215, 'score': 0.3465377688407898}, {'corpus_id': 827, 'score': 0.3462931513786316}, {'corpus_id': 313, 'score': 0.3462175726890564}, {'corpus_id': 723, 'score': 0.34617406129837036}, {'corpus_id': 430, 'score': 0.34605368971824646}, {'corpus_id': 317, 'score': 0.34582754969596863}, {'corpus_id': 229, 'score': 0.34565478563308716}, {'corpus_id': 689, 'score': 0.3454749286174774}, {'corpus_id': 693, 'score': 0.345440149307251}, {'corpus_id': 420, 'score': 0.34512656927108765}, {'corpus_id': 502, 'score': 0.3450373411178589}, {'corpus_id': 327, 'score': 0.3448852002620697}, {'corpus_id': 221, 'score': 0.3448014557361603}, {'corpus_id': 438, 'score': 0.3445621132850647}, {'corpus_id': 209, 'score': 0.34426796436309814}, {'corpus_id': 624, 'score': 0.34426677227020264}, {'corpus_id': 843, 'score': 0.3441658020019531}, {'corpus_id': 575, 'score': 0.34406578540802}, {'corpus_id': 820, 'score': 0.3440421223640442}, {'corpus_id': 307, 'score': 0.34374070167541504}, {'corpus_id': 142, 'score': 0.3435438275337219}, {'corpus_id': 812, 'score': 0.34349754452705383}, {'corpus_id': 463, 'score': 0.3433108329772949}, {'corpus_id': 538, 'score': 0.34306806325912476}, {'corpus_id': 607, 'score': 0.3430529534816742}, {'corpus_id': 143, 'score': 0.34300339221954346}, {'corpus_id': 256, 'score': 0.34289729595184326}, {'corpus_id': 15, 'score': 0.3427259027957916}, {'corpus_id': 658, 'score': 0.34247225522994995}, {'corpus_id': 18, 'score': 0.34219497442245483}, {'corpus_id': 764, 'score': 0.34210461378097534}, {'corpus_id': 860, 'score': 0.3420772850513458}, {'corpus_id': 825, 'score': 0.34189990162849426}, {'corpus_id': 583, 'score': 0.3418959677219391}, {'corpus_id': 188, 'score': 0.3417978584766388}, {'corpus_id': 227, 'score': 0.3417471647262573}, {'corpus_id': 269, 'score': 0.34166133403778076}, {'corpus_id': 154, 'score': 0.34143921732902527}, {'corpus_id': 771, 'score': 0.3412604033946991}, {'corpus_id': 794, 'score': 0.3411537706851959}, {'corpus_id': 273, 'score': 0.3406493663787842}, {'corpus_id': 167, 'score': 0.34062880277633667}, {'corpus_id': 341, 'score': 0.34060177206993103}, {'corpus_id': 514, 'score': 0.3405958116054535}, {'corpus_id': 377, 'score': 0.3404003977775574}, {'corpus_id': 285, 'score': 0.3403320610523224}, {'corpus_id': 857, 'score': 0.3400043845176697}, {'corpus_id': 563, 'score': 0.3395364284515381}, {'corpus_id': 30, 'score': 0.33925923705101013}, {'corpus_id': 446, 'score': 0.3391079306602478}, {'corpus_id': 574, 'score': 0.3390135169029236}, {'corpus_id': 722, 'score': 0.33898866176605225}, {'corpus_id': 305, 'score': 0.3389440178871155}, {'corpus_id': 288, 'score': 0.3389197289943695}, {'corpus_id': 880, 'score': 0.3389025330543518}, {'corpus_id': 630, 'score': 0.3387875556945801}, {'corpus_id': 158, 'score': 0.3387431204319}, {'corpus_id': 782, 'score': 0.3387168347835541}, {'corpus_id': 651, 'score': 0.33869388699531555}, {'corpus_id': 772, 'score': 0.3385508954524994}, {'corpus_id': 801, 'score': 0.33844810724258423}, {'corpus_id': 334, 'score': 0.33838027715682983}, {'corpus_id': 375, 'score': 0.33827394247055054}, {'corpus_id': 503, 'score': 0.33796659111976624}, {'corpus_id': 152, 'score': 0.3378801941871643}, {'corpus_id': 306, 'score': 0.33780863881111145}, {'corpus_id': 81, 'score': 0.33773934841156006}, {'corpus_id': 122, 'score': 0.3376459777355194}, {'corpus_id': 881, 'score': 0.3376365005970001}, {'corpus_id': 449, 'score': 0.3376198410987854}, {'corpus_id': 429, 'score': 0.33718156814575195}, {'corpus_id': 11, 'score': 0.33713001012802124}, {'corpus_id': 686, 'score': 0.33710867166519165}, {'corpus_id': 200, 'score': 0.3369031846523285}, {'corpus_id': 669, 'score': 0.3368322551250458}, {'corpus_id': 101, 'score': 0.3368013799190521}, {'corpus_id': 871, 'score': 0.33660754561424255}, {'corpus_id': 786, 'score': 0.33657002449035645}, {'corpus_id': 103, 'score': 0.3364444077014923}, {'corpus_id': 126, 'score': 0.3362794816493988}, {'corpus_id': 548, 'score': 0.33561521768569946}, {'corpus_id': 537, 'score': 0.3351236879825592}, {'corpus_id': 814, 'score': 0.335066556930542}, {'corpus_id': 872, 'score': 0.33506131172180176}, {'corpus_id': 783, 'score': 0.33498209714889526}, {'corpus_id': 367, 'score': 0.3348853886127472}, {'corpus_id': 521, 'score': 0.3348376452922821}, {'corpus_id': 576, 'score': 0.3346988558769226}, {'corpus_id': 130, 'score': 0.3346725404262543}, {'corpus_id': 445, 'score': 0.3345138132572174}, {'corpus_id': 620, 'score': 0.33422720432281494}, {'corpus_id': 577, 'score': 0.3340899646282196}, {'corpus_id': 595, 'score': 0.3340463936328888}, {'corpus_id': 684, 'score': 0.3338060677051544}, {'corpus_id': 241, 'score': 0.3338058292865753}, {'corpus_id': 214, 'score': 0.33348548412323}, {'corpus_id': 172, 'score': 0.33339986205101013}, {'corpus_id': 95, 'score': 0.33280470967292786}, {'corpus_id': 92, 'score': 0.3327130079269409}, {'corpus_id': 111, 'score': 0.33270999789237976}, {'corpus_id': 472, 'score': 0.3325630724430084}, {'corpus_id': 676, 'score': 0.33254605531692505}, {'corpus_id': 320, 'score': 0.33252155780792236}, {'corpus_id': 387, 'score': 0.33250290155410767}, {'corpus_id': 761, 'score': 0.3323686718940735}, {'corpus_id': 310, 'score': 0.3320029675960541}, {'corpus_id': 682, 'score': 0.3317132294178009}, {'corpus_id': 132, 'score': 0.3316670358181}, {'corpus_id': 399, 'score': 0.33136701583862305}, {'corpus_id': 281, 'score': 0.33122459053993225}, {'corpus_id': 734, 'score': 0.3311839997768402}, {'corpus_id': 251, 'score': 0.33106863498687744}, {'corpus_id': 667, 'score': 0.3309558629989624}, {'corpus_id': 592, 'score': 0.33090153336524963}, {'corpus_id': 788, 'score': 0.3308795392513275}, {'corpus_id': 638, 'score': 0.33075910806655884}, {'corpus_id': 260, 'score': 0.33056434988975525}, {'corpus_id': 648, 'score': 0.33038273453712463}, {'corpus_id': 442, 'score': 0.33031755685806274}, {'corpus_id': 348, 'score': 0.33019277453422546}, {'corpus_id': 33, 'score': 0.33014240860939026}, {'corpus_id': 505, 'score': 0.32992905378341675}, {'corpus_id': 253, 'score': 0.3298162817955017}, {'corpus_id': 739, 'score': 0.32970866560935974}, {'corpus_id': 362, 'score': 0.3295708894729614}, {'corpus_id': 325, 'score': 0.3292863965034485}, {'corpus_id': 350, 'score': 0.32907748222351074}, {'corpus_id': 701, 'score': 0.32903599739074707}, {'corpus_id': 679, 'score': 0.3285956382751465}, {'corpus_id': 875, 'score': 0.3284277617931366}, {'corpus_id': 404, 'score': 0.3283270001411438}, {'corpus_id': 82, 'score': 0.32803401350975037}, {'corpus_id': 303, 'score': 0.3274802565574646}, {'corpus_id': 301, 'score': 0.3274720311164856}, {'corpus_id': 216, 'score': 0.3273307979106903}, {'corpus_id': 551, 'score': 0.3269796371459961}, {'corpus_id': 263, 'score': 0.3269077241420746}, {'corpus_id': 117, 'score': 0.3265751898288727}, {'corpus_id': 414, 'score': 0.3264716565608978}, {'corpus_id': 798, 'score': 0.3264566659927368}, {'corpus_id': 501, 'score': 0.3263597786426544}, {'corpus_id': 383, 'score': 0.32628706097602844}, {'corpus_id': 409, 'score': 0.32628118991851807}, {'corpus_id': 710, 'score': 0.3261290192604065}, {'corpus_id': 70, 'score': 0.32603004574775696}, {'corpus_id': 166, 'score': 0.3259800374507904}, {'corpus_id': 811, 'score': 0.325710266828537}, {'corpus_id': 210, 'score': 0.32531389594078064}, {'corpus_id': 568, 'score': 0.32530540227890015}, {'corpus_id': 817, 'score': 0.3252522647380829}, {'corpus_id': 335, 'score': 0.325065016746521}, {'corpus_id': 140, 'score': 0.32487937808036804}, {'corpus_id': 1, 'score': 0.3248592019081116}, {'corpus_id': 173, 'score': 0.32483959197998047}, {'corpus_id': 90, 'score': 0.3247595429420471}, {'corpus_id': 468, 'score': 0.32447272539138794}, {'corpus_id': 726, 'score': 0.3240753710269928}, {'corpus_id': 156, 'score': 0.32402610778808594}, {'corpus_id': 405, 'score': 0.32384544610977173}, {'corpus_id': 347, 'score': 0.32309490442276}, {'corpus_id': 691, 'score': 0.32273364067077637}, {'corpus_id': 558, 'score': 0.3225444257259369}, {'corpus_id': 234, 'score': 0.32241198420524597}, {'corpus_id': 26, 'score': 0.32171958684921265}, {'corpus_id': 585, 'score': 0.32144761085510254}, {'corpus_id': 509, 'score': 0.32121768593788147}, {'corpus_id': 862, 'score': 0.3212003707885742}, {'corpus_id': 753, 'score': 0.3210720717906952}, {'corpus_id': 711, 'score': 0.3209892511367798}, {'corpus_id': 24, 'score': 0.320980966091156}, {'corpus_id': 411, 'score': 0.32077234983444214}, {'corpus_id': 852, 'score': 0.32050958275794983}, {'corpus_id': 708, 'score': 0.32029178738594055}, {'corpus_id': 67, 'score': 0.3200557827949524}, {'corpus_id': 870, 'score': 0.31993427872657776}, {'corpus_id': 536, 'score': 0.3199306130409241}, {'corpus_id': 146, 'score': 0.31989407539367676}, {'corpus_id': 633, 'score': 0.31970277428627014}, {'corpus_id': 151, 'score': 0.3194243311882019}, {'corpus_id': 408, 'score': 0.31918811798095703}, {'corpus_id': 89, 'score': 0.31915482878685}, {'corpus_id': 297, 'score': 0.3191221356391907}, {'corpus_id': 879, 'score': 0.31909313797950745}, {'corpus_id': 878, 'score': 0.3188590705394745}, {'corpus_id': 370, 'score': 0.3188190758228302}, {'corpus_id': 8, 'score': 0.31878039240837097}, {'corpus_id': 454, 'score': 0.3185986280441284}, {'corpus_id': 139, 'score': 0.31851333379745483}, {'corpus_id': 162, 'score': 0.3184167742729187}, {'corpus_id': 228, 'score': 0.31800904870033264}, {'corpus_id': 441, 'score': 0.31785038113594055}, {'corpus_id': 719, 'score': 0.31782230734825134}, {'corpus_id': 84, 'score': 0.31777939200401306}, {'corpus_id': 573, 'score': 0.31748726963996887}, {'corpus_id': 508, 'score': 0.3173293471336365}, {'corpus_id': 311, 'score': 0.31727367639541626}, {'corpus_id': 485, 'score': 0.3170144259929657}, {'corpus_id': 246, 'score': 0.31694215536117554}, {'corpus_id': 713, 'score': 0.3166998028755188}, {'corpus_id': 52, 'score': 0.31650763750076294}, {'corpus_id': 752, 'score': 0.3161396086215973}, {'corpus_id': 395, 'score': 0.31612148880958557}, {'corpus_id': 840, 'score': 0.3161161541938782}, {'corpus_id': 112, 'score': 0.3160218596458435}, {'corpus_id': 12, 'score': 0.3157205879688263}, {'corpus_id': 93, 'score': 0.3154184818267822}, {'corpus_id': 267, 'score': 0.315386563539505}, {'corpus_id': 354, 'score': 0.3153257966041565}, {'corpus_id': 661, 'score': 0.31530776619911194}, {'corpus_id': 155, 'score': 0.31524789333343506}, {'corpus_id': 240, 'score': 0.3152046501636505}, {'corpus_id': 683, 'score': 0.31497374176979065}, {'corpus_id': 6, 'score': 0.31453922390937805}, {'corpus_id': 792, 'score': 0.3141426742076874}, {'corpus_id': 664, 'score': 0.31408968567848206}, {'corpus_id': 71, 'score': 0.31394022703170776}, {'corpus_id': 510, 'score': 0.3137422502040863}, {'corpus_id': 230, 'score': 0.31359773874282837}, {'corpus_id': 77, 'score': 0.3133464753627777}, {'corpus_id': 83, 'score': 0.31332388520240784}, {'corpus_id': 436, 'score': 0.3132579028606415}, {'corpus_id': 822, 'score': 0.3132060766220093}, {'corpus_id': 465, 'score': 0.31305840611457825}, {'corpus_id': 680, 'score': 0.3128773868083954}, {'corpus_id': 826, 'score': 0.31279000639915466}, {'corpus_id': 854, 'score': 0.31240904331207275}, {'corpus_id': 749, 'score': 0.31218793988227844}, {'corpus_id': 459, 'score': 0.31213507056236267}, {'corpus_id': 519, 'score': 0.31199324131011963}, {'corpus_id': 460, 'score': 0.3118523359298706}, {'corpus_id': 685, 'score': 0.3118228018283844}, {'corpus_id': 544, 'score': 0.3117910921573639}, {'corpus_id': 724, 'score': 0.3117717504501343}, {'corpus_id': 262, 'score': 0.31168749928474426}, {'corpus_id': 850, 'score': 0.3116709291934967}, {'corpus_id': 609, 'score': 0.311225950717926}, {'corpus_id': 76, 'score': 0.3111964762210846}, {'corpus_id': 799, 'score': 0.3110364079475403}, {'corpus_id': 775, 'score': 0.3107062578201294}, {'corpus_id': 13, 'score': 0.3105907440185547}, {'corpus_id': 138, 'score': 0.31047049164772034}, {'corpus_id': 717, 'score': 0.3102278411388397}, {'corpus_id': 402, 'score': 0.31013888120651245}, {'corpus_id': 653, 'score': 0.3101329505443573}, {'corpus_id': 46, 'score': 0.3099932074546814}, {'corpus_id': 546, 'score': 0.30949005484580994}, {'corpus_id': 631, 'score': 0.30942586064338684}, {'corpus_id': 304, 'score': 0.3088764250278473}, {'corpus_id': 632, 'score': 0.3087880313396454}, {'corpus_id': 804, 'score': 0.30852335691452026}, {'corpus_id': 767, 'score': 0.30843499302864075}, {'corpus_id': 670, 'score': 0.30803507566452026}, {'corpus_id': 473, 'score': 0.30789321660995483}, {'corpus_id': 21, 'score': 0.30782637000083923}, {'corpus_id': 439, 'score': 0.307779461145401}, {'corpus_id': 349, 'score': 0.3076740801334381}, {'corpus_id': 516, 'score': 0.30760735273361206}, {'corpus_id': 523, 'score': 0.30751022696495056}, {'corpus_id': 697, 'score': 0.3074415922164917}, {'corpus_id': 743, 'score': 0.3073882758617401}, {'corpus_id': 547, 'score': 0.30727970600128174}, {'corpus_id': 79, 'score': 0.3071216940879822}, {'corpus_id': 469, 'score': 0.3066491484642029}, {'corpus_id': 861, 'score': 0.3065454363822937}, {'corpus_id': 279, 'score': 0.3064853549003601}, {'corpus_id': 504, 'score': 0.30637359619140625}, {'corpus_id': 715, 'score': 0.3061923384666443}, {'corpus_id': 65, 'score': 0.3061336874961853}, {'corpus_id': 611, 'score': 0.3061291575431824}, {'corpus_id': 363, 'score': 0.30593907833099365}, {'corpus_id': 137, 'score': 0.3057985007762909}, {'corpus_id': 283, 'score': 0.3057808578014374}, {'corpus_id': 378, 'score': 0.30570241808891296}, {'corpus_id': 357, 'score': 0.3054760992527008}, {'corpus_id': 470, 'score': 0.305392861366272}, {'corpus_id': 744, 'score': 0.3053903579711914}, {'corpus_id': 203, 'score': 0.30530399084091187}, {'corpus_id': 830, 'score': 0.30527663230895996}, {'corpus_id': 85, 'score': 0.304896742105484}, {'corpus_id': 483, 'score': 0.3046812415122986}, {'corpus_id': 198, 'score': 0.3045293688774109}, {'corpus_id': 578, 'score': 0.30443763732910156}, {'corpus_id': 549, 'score': 0.30433377623558044}, {'corpus_id': 677, 'score': 0.3042958974838257}, {'corpus_id': 513, 'score': 0.30424514412879944}, {'corpus_id': 47, 'score': 0.30419811606407166}, {'corpus_id': 339, 'score': 0.30415698885917664}, {'corpus_id': 5, 'score': 0.30390244722366333}, {'corpus_id': 344, 'score': 0.30323025584220886}, {'corpus_id': 235, 'score': 0.30270591378211975}, {'corpus_id': 259, 'score': 0.3026345372200012}, {'corpus_id': 882, 'score': 0.30246904492378235}, {'corpus_id': 58, 'score': 0.3024114966392517}, {'corpus_id': 732, 'score': 0.3023882508277893}, {'corpus_id': 161, 'score': 0.3019711375236511}, {'corpus_id': 765, 'score': 0.3019670844078064}, {'corpus_id': 291, 'score': 0.3017531633377075}, {'corpus_id': 800, 'score': 0.3017030954360962}, {'corpus_id': 877, 'score': 0.30141445994377136}, {'corpus_id': 226, 'score': 0.30138155817985535}, {'corpus_id': 807, 'score': 0.30132338404655457}, {'corpus_id': 845, 'score': 0.3012325167655945}, {'corpus_id': 888, 'score': 0.3009844422340393}, {'corpus_id': 663, 'score': 0.3009761571884155}, {'corpus_id': 372, 'score': 0.30076107382774353}, {'corpus_id': 759, 'score': 0.3006446063518524}, {'corpus_id': 329, 'score': 0.30054765939712524}, {'corpus_id': 491, 'score': 0.3000049591064453}, {'corpus_id': 141, 'score': 0.29957354068756104}, {'corpus_id': 415, 'score': 0.2995493710041046}, {'corpus_id': 883, 'score': 0.29917967319488525}, {'corpus_id': 829, 'score': 0.2991147041320801}, {'corpus_id': 435, 'score': 0.29899924993515015}, {'corpus_id': 649, 'score': 0.29867812991142273}, {'corpus_id': 626, 'score': 0.298623263835907}, {'corpus_id': 475, 'score': 0.29859858751296997}, {'corpus_id': 493, 'score': 0.29821473360061646}, {'corpus_id': 426, 'score': 0.29797232151031494}, {'corpus_id': 859, 'score': 0.2978115379810333}, {'corpus_id': 374, 'score': 0.2976054847240448}, {'corpus_id': 612, 'score': 0.2974887788295746}, {'corpus_id': 515, 'score': 0.2973860502243042}, {'corpus_id': 176, 'score': 0.29712411761283875}, {'corpus_id': 758, 'score': 0.29685482382774353}, {'corpus_id': 748, 'score': 0.2963346838951111}, {'corpus_id': 616, 'score': 0.2962779998779297}, {'corpus_id': 478, 'score': 0.2962436378002167}, {'corpus_id': 274, 'score': 0.29619666934013367}, {'corpus_id': 116, 'score': 0.2961869537830353}, {'corpus_id': 440, 'score': 0.2961033582687378}, {'corpus_id': 199, 'score': 0.2958316504955292}, {'corpus_id': 20, 'score': 0.29581180214881897}, {'corpus_id': 355, 'score': 0.2955002784729004}, {'corpus_id': 831, 'score': 0.29536980390548706}, {'corpus_id': 36, 'score': 0.2953491806983948}, {'corpus_id': 539, 'score': 0.2945820689201355}, {'corpus_id': 108, 'score': 0.29458126425743103}, {'corpus_id': 858, 'score': 0.29457223415374756}, {'corpus_id': 784, 'score': 0.29437822103500366}, {'corpus_id': 190, 'score': 0.29435333609580994}, {'corpus_id': 731, 'score': 0.29428479075431824}, {'corpus_id': 532, 'score': 0.294262170791626}, {'corpus_id': 674, 'score': 0.29402676224708557}, {'corpus_id': 164, 'score': 0.29376909136772156}, {'corpus_id': 448, 'score': 0.2937189042568207}, {'corpus_id': 785, 'score': 0.29358088970184326}, {'corpus_id': 174, 'score': 0.29311931133270264}, {'corpus_id': 833, 'score': 0.29274091124534607}, {'corpus_id': 353, 'score': 0.2923119068145752}, {'corpus_id': 553, 'score': 0.2918234169483185}, {'corpus_id': 554, 'score': 0.2914009690284729}, {'corpus_id': 805, 'score': 0.2912009358406067}, {'corpus_id': 639, 'score': 0.2909466624259949}, {'corpus_id': 358, 'score': 0.2908531129360199}, {'corpus_id': 27, 'score': 0.2908381521701813}, {'corpus_id': 763, 'score': 0.29079291224479675}, {'corpus_id': 406, 'score': 0.2907094657421112}, {'corpus_id': 326, 'score': 0.2905592620372772}, {'corpus_id': 3, 'score': 0.2899056077003479}, {'corpus_id': 522, 'score': 0.2898785471916199}, {'corpus_id': 529, 'score': 0.2896137833595276}, {'corpus_id': 407, 'score': 0.28935176134109497}, {'corpus_id': 721, 'score': 0.2891002893447876}, {'corpus_id': 145, 'score': 0.28883931040763855}, {'corpus_id': 625, 'score': 0.2881860136985779}, {'corpus_id': 428, 'score': 0.28800615668296814}, {'corpus_id': 851, 'score': 0.28729191422462463}, {'corpus_id': 608, 'score': 0.28674542903900146}, {'corpus_id': 479, 'score': 0.28637588024139404}, {'corpus_id': 464, 'score': 0.2858688533306122}, {'corpus_id': 835, 'score': 0.28582528233528137}, {'corpus_id': 252, 'score': 0.28529006242752075}, {'corpus_id': 416, 'score': 0.2852027118206024}, {'corpus_id': 482, 'score': 0.2847898304462433}, {'corpus_id': 628, 'score': 0.2844843864440918}, {'corpus_id': 666, 'score': 0.2844339907169342}, {'corpus_id': 795, 'score': 0.2842349112033844}, {'corpus_id': 507, 'score': 0.2842103838920593}, {'corpus_id': 856, 'score': 0.2841935157775879}, {'corpus_id': 96, 'score': 0.28400227427482605}, {'corpus_id': 876, 'score': 0.2839110493659973}, {'corpus_id': 319, 'score': 0.28385984897613525}, {'corpus_id': 100, 'score': 0.28380340337753296}, {'corpus_id': 484, 'score': 0.28376224637031555}, {'corpus_id': 42, 'score': 0.2837301194667816}, {'corpus_id': 250, 'score': 0.2835902273654938}, {'corpus_id': 175, 'score': 0.28348615765571594}, {'corpus_id': 219, 'score': 0.2831801474094391}, {'corpus_id': 755, 'score': 0.28298503160476685}, {'corpus_id': 690, 'score': 0.28274068236351013}, {'corpus_id': 637, 'score': 0.2826235890388489}, {'corpus_id': 300, 'score': 0.2824438512325287}, {'corpus_id': 373, 'score': 0.282335489988327}, {'corpus_id': 224, 'score': 0.28220778703689575}, {'corpus_id': 580, 'score': 0.2820966839790344}, {'corpus_id': 703, 'score': 0.28165119886398315}, {'corpus_id': 401, 'score': 0.2815467119216919}, {'corpus_id': 777, 'score': 0.2814565896987915}, {'corpus_id': 773, 'score': 0.28130143880844116}, {'corpus_id': 44, 'score': 0.2808209955692291}, {'corpus_id': 694, 'score': 0.28068017959594727}, {'corpus_id': 579, 'score': 0.28056928515434265}, {'corpus_id': 294, 'score': 0.2805352210998535}, {'corpus_id': 480, 'score': 0.2800264060497284}, {'corpus_id': 397, 'score': 0.27977192401885986}, {'corpus_id': 345, 'score': 0.2791591286659241}, {'corpus_id': 745, 'score': 0.2782825529575348}, {'corpus_id': 457, 'score': 0.2780565321445465}, {'corpus_id': 245, 'score': 0.27792540192604065}, {'corpus_id': 69, 'score': 0.2778916656970978}, {'corpus_id': 99, 'score': 0.27719053626060486}, {'corpus_id': 133, 'score': 0.27654242515563965}, {'corpus_id': 35, 'score': 0.2756863236427307}, {'corpus_id': 517, 'score': 0.27488163113594055}, {'corpus_id': 587, 'score': 0.2741641104221344}, {'corpus_id': 333, 'score': 0.272967129945755}, {'corpus_id': 841, 'score': 0.2727162539958954}, {'corpus_id': 56, 'score': 0.2701232135295868}, {'corpus_id': 102, 'score': 0.26970040798187256}, {'corpus_id': 655, 'score': 0.26878082752227783}, {'corpus_id': 170, 'score': 0.2669529616832733}, {'corpus_id': 257, 'score': 0.2658868134021759}, {'corpus_id': 412, 'score': 0.26564735174179077}, {'corpus_id': 581, 'score': 0.2655966579914093}, {'corpus_id': 427, 'score': 0.2654648423194885}, {'corpus_id': 109, 'score': 0.26479867100715637}, {'corpus_id': 823, 'score': 0.2645115554332733}, {'corpus_id': 38, 'score': 0.2641209661960602}, {'corpus_id': 192, 'score': 0.263719379901886}, {'corpus_id': 421, 'score': 0.2633693218231201}, {'corpus_id': 614, 'score': 0.2632347047328949}, {'corpus_id': 369, 'score': 0.26308104395866394}, {'corpus_id': 791, 'score': 0.2626824676990509}, {'corpus_id': 673, 'score': 0.2625795304775238}, {'corpus_id': 181, 'score': 0.2617609202861786}, {'corpus_id': 718, 'score': 0.26098132133483887}, {'corpus_id': 848, 'score': 0.26075515151023865}, {'corpus_id': 750, 'score': 0.26056286692619324}, {'corpus_id': 293, 'score': 0.2604343295097351}, {'corpus_id': 318, 'score': 0.25960463285446167}, {'corpus_id': 443, 'score': 0.2595709264278412}, {'corpus_id': 619, 'score': 0.25882869958877563}, {'corpus_id': 423, 'score': 0.2582413852214813}, {'corpus_id': 213, 'score': 0.25771382451057434}, {'corpus_id': 586, 'score': 0.25539642572402954}, {'corpus_id': 220, 'score': 0.2540071904659271}, {'corpus_id': 22, 'score': 0.2535135746002197}, {'corpus_id': 390, 'score': 0.2527342438697815}, {'corpus_id': 322, 'score': 0.25150635838508606}, {'corpus_id': 512, 'score': 0.2505711615085602}, {'corpus_id': 779, 'score': 0.24893809854984283}, {'corpus_id': 623, 'score': 0.24718007445335388}, {'corpus_id': 98, 'score': 0.24580201506614685}, {'corpus_id': 569, 'score': 0.24078145623207092}, {'corpus_id': 543, 'score': 0.24049122631549835}, {'corpus_id': 225, 'score': 0.23944222927093506}, {'corpus_id': 769, 'score': 0.2373875081539154}, {'corpus_id': 816, 'score': 0.2369193136692047}, {'corpus_id': 179, 'score': 0.23610636591911316}, {'corpus_id': 196, 'score': 0.2355312556028366}, {'corpus_id': 129, 'score': 0.23279313743114471}, {'corpus_id': 778, 'score': 0.22779472172260284}, {'corpus_id': 110, 'score': 0.22740650177001953}, {'corpus_id': 149, 'score': 0.2270338088274002}, {'corpus_id': 312, 'score': 0.22574886679649353}, {'corpus_id': 127, 'score': 0.22448797523975372}, {'corpus_id': 790, 'score': 0.22099792957305908}, {'corpus_id': 28, 'score': 0.21925874054431915}, {'corpus_id': 634, 'score': 0.2167419046163559}, {'corpus_id': 803, 'score': 0.21384789049625397}, {'corpus_id': 561, 'score': 0.2112605720758438}, {'corpus_id': 557, 'score': 0.20337693393230438}, {'corpus_id': 91, 'score': 0.20253266394138336}, {'corpus_id': 337, 'score': 0.19800400733947754}, {'corpus_id': 839, 'score': 0.19290675222873688}, {'corpus_id': 422, 'score': 0.18795780837535858}, {'corpus_id': 836, 'score': 0.15069662034511566}]\n"
     ]
    }
   ],
   "source": [
    "print(cos_scores[0])"
   ],
   "metadata": {
    "collapsed": false,
    "ExecuteTime": {
     "end_time": "2024-04-02T21:35:49.584011Z",
     "start_time": "2024-04-02T21:35:49.572588Z"
    }
   },
   "id": "7ca45e65083195ee"
  },
  {
   "cell_type": "code",
   "execution_count": 62,
   "outputs": [],
   "source": [
    "top_k = 5"
   ],
   "metadata": {
    "collapsed": false,
    "ExecuteTime": {
     "end_time": "2024-04-02T21:37:06.812721Z",
     "start_time": "2024-04-02T21:37:06.798297Z"
    }
   },
   "id": "763d8452cfee3ac2"
  },
  {
   "cell_type": "code",
   "execution_count": 63,
   "outputs": [
    {
     "name": "stdout",
     "output_type": "stream",
     "text": [
      "Question:  Какое содержание селена в морской воде?\n",
      "\n",
      "corpus id:  0\n",
      "Document 1: Cosine Similarity is 0.532:\n",
      "\n",
      "Содержание селена в земной коре — около 500 мг/т. Основные черты геохимии селена в земной коре определяются близостью его ионного радиуса к ионному радиусу серы. Селен образует 37 минералов, среди которых в первую очередь должны быть отмечены ашавалит FeSe, клаусталит PbSe, тиманнит HgSe, гуанахуатит Bi2(Se, S)3, хастит CoSe2, платинит PbBi2(S, Se)3, ассоциирующие с различными сульфидами, а иногда также с касситеритом. Изредка встречается самородный селен. Главное промышленное значение на селен имеют сульфидные месторождения. Содержание селена в сульфидах колеблется от 7 до 110 г/т. Концентрация селена в морской воде 4·10−4 мг/л[15]. На территории Кавказских Минеральных Вод встречаются источники с содержанием Se от 50 мкг/дм3.\n",
      "\n",
      "corpus id:  582\n",
      "Document 2: Cosine Similarity is 0.518:\n",
      "\n",
      "К хлоридно-гидрокарбонатно-натриевому типу относится закарпатская вода Драговская с минерализацией 9,6 г/л и краснодарская Горячий ключ с общим содержанием солей в литре 4,5 г солей, но в них хлориды в виде поваренной соли (соответственно 59 и 67 %) превалируют над гидрокарбонатами, которые представлены содой (38 и 32 %). Обе воды безсульфатные. Преобладанием хлоридов над гидрокарбонатами отличается и вода того же типа Челкарская с минерализацией 2,2 г/л. Гидрокарбонаты в виде соды составляют 32, а хлоридов (поваренная соль) — 48 %. Кроме того, в Челкарской есть сульфаты в виде глауберовой соли (20 %).\n",
      "\n",
      "corpus id:  178\n",
      "Document 3: Cosine Similarity is 0.500:\n",
      "\n",
      "Хлоридно-кальциевые воды (горькие и горько-солёные) снижают проницаемость стенок сосудов и оказывают кровоостанавливающее действие. Известны они и в качестве отхаркивающего средства. Назначают эти воды и при лечении органов пищеварения, они повышают ферментативную силу желудочного сока, улучшают белковую функцию печени, усиливают образование мочевины и её выделение с мочой. Благоприятно влияют такие воды и на нервную систему. Чисто хлоридно-кальциевые воды встречаются в природе редко. Среди лечебно-питьевых вод бутылочного разлива этот тип воды представлен источником Лугела , содержащим 5%-ный раствор хлористого кальция.\n",
      "\n",
      "corpus id:  266\n",
      "Document 4: Cosine Similarity is 0.500:\n",
      "\n",
      "Минеральные воды — сложные растворы, в которых вещества содержатся в виде ионов, недиссоциированных молекул, газов, коллоидных частиц. Минеральными природными питьевыми водами называются воды, добытые из водоносных горизонтов или водоносных комплексов, защищённых от антропогенного воздействия, сохраняющих естественный химический состав и относящиеся к пищевым продуктам, а при повышенной минерализации или при повышенном содержании определённых биологически активных компонентов[1] оказывающие лечебно-профилактическое действие[2].\n",
      "\n",
      "corpus id:  51\n",
      "Document 5: Cosine Similarity is 0.491:\n",
      "\n",
      "Натрий (а точнее, его соединения) известен и использовался с давних времён. В Библии, в книге пророка Иеремии, упоминается слово др.-греч. νίτρον — в Септуагинте, а слово лат. nitroet — в Вульгате (Иер. 2:22) как название вещества, это род соды или поташа, который в смеси с маслом, служил моющим средством. В Танахе слову др.-греч. νίτρον соответствуют др.-евр. ברית‎ — мыло и др.-евр. נתר‎ — щёлок (мыльная жидкость) . Сода (натрон), встречается в природе в водах натронных озёр в Египте. Природную соду древние египтяне использовали для бальзамирования, отбеливания холста, при варке пищи, изготовлении красок и глазурей. Плиний Старший пишет, что в дельте Нила соду (в ней была достаточная доля примесей) выделяли из речной воды. Она поступала в продажу в виде крупных кусков, из-за примеси угля окрашенных в серый или даже чёрный цвет.\n"
     ]
    }
   ],
   "source": [
    "print('Question: ', queries[0])\n",
    "print()\n",
    "for no, ir in enumerate(cos_scores[0][:top_k]):\n",
    "    corpus_id = ir[\"corpus_id\"]\n",
    "    print('corpus id: ', corpus_id)\n",
    "    print(f'Document {no + 1}: Cosine Similarity is {ir[\"score\"]:.3f}:\\n\\n{docs[corpus_id]}')\n",
    "    print()"
   ],
   "metadata": {
    "collapsed": false,
    "ExecuteTime": {
     "end_time": "2024-04-02T21:37:07.167185Z",
     "start_time": "2024-04-02T21:37:07.161921Z"
    }
   },
   "id": "99403c3aff491a6e"
  },
  {
   "cell_type": "code",
   "execution_count": 64,
   "outputs": [
    {
     "name": "stdout",
     "output_type": "stream",
     "text": [
      "К хлоридно-гидрокарбонатно-натриевому типу относится закарпатская вода Драговская с минерализацией 9,6 г/л и краснодарская Горячий ключ с общим содержанием солей в литре 4,5 г солей, но в них хлориды в виде поваренной соли (соответственно 59 и 67 %) превалируют над гидрокарбонатами, которые представлены содой (38 и 32 %). Обе воды безсульфатные. Преобладанием хлоридов над гидрокарбонатами отличается и вода того же типа Челкарская с минерализацией 2,2 г/л. Гидрокарбонаты в виде соды составляют 32, а хлоридов (поваренная соль) — 48 %. Кроме того, в Челкарской есть сульфаты в виде глауберовой соли (20 %).\n"
     ]
    }
   ],
   "source": [
    "print(docs[582])"
   ],
   "metadata": {
    "collapsed": false,
    "ExecuteTime": {
     "end_time": "2024-04-02T21:37:21.056632Z",
     "start_time": "2024-04-02T21:37:21.041152Z"
    }
   },
   "id": "a0e0d973ff11df45"
  },
  {
   "cell_type": "code",
   "execution_count": 65,
   "outputs": [
    {
     "name": "stdout",
     "output_type": "stream",
     "text": [
      "891\n"
     ]
    }
   ],
   "source": [
    "n = len(queries)\n",
    "print(n)"
   ],
   "metadata": {
    "collapsed": false,
    "ExecuteTime": {
     "end_time": "2024-04-02T21:37:26.608342Z",
     "start_time": "2024-04-02T21:37:26.601983Z"
    }
   },
   "id": "b04e71c1065b7a8a"
  },
  {
   "cell_type": "code",
   "execution_count": 101,
   "outputs": [],
   "source": [
    "def build_target_mask_for_i(i, n):\n",
    "    target_mask = [False] * n\n",
    "    target_mask[i] = True\n",
    "\n",
    "    return target_mask"
   ],
   "metadata": {
    "collapsed": false,
    "ExecuteTime": {
     "end_time": "2024-04-02T21:59:13.749498Z",
     "start_time": "2024-04-02T21:59:13.728322Z"
    }
   },
   "id": "16d05aeeb2deaede"
  },
  {
   "cell_type": "code",
   "execution_count": 102,
   "outputs": [],
   "source": [
    "def build_pred_mask_for_i(\n",
    "        cos_scores,\n",
    "        i,\n",
    "        n,\n",
    "):\n",
    "    pred_mask = [0.0] * n\n",
    "    qi_scores = cos_scores[i]\n",
    "\n",
    "    for docid_score in qi_scores:\n",
    "        doc_id = docid_score['corpus_id']\n",
    "        score = docid_score['score']\n",
    "        pred_mask[int(doc_id)] = score\n",
    "\n",
    "\n",
    "    return pred_mask"
   ],
   "metadata": {
    "collapsed": false,
    "ExecuteTime": {
     "end_time": "2024-04-02T21:59:14.119634Z",
     "start_time": "2024-04-02T21:59:14.114076Z"
    }
   },
   "id": "dd2db4ba6960637c"
  },
  {
   "cell_type": "code",
   "execution_count": 103,
   "outputs": [],
   "source": [
    "def recall_k(\n",
    "        preds: list,\n",
    "        target: list,\n",
    "        top_k: int,\n",
    "):\n",
    "    preds = torch.Tensor(preds)\n",
    "    target = torch.Tensor(target)\n",
    "\n",
    "    return retrieval_recall(\n",
    "        preds=preds,\n",
    "        target=target,\n",
    "        top_k=top_k,\n",
    "    )"
   ],
   "metadata": {
    "collapsed": false,
    "ExecuteTime": {
     "end_time": "2024-04-02T21:59:19.441284Z",
     "start_time": "2024-04-02T21:59:19.433228Z"
    }
   },
   "id": "d02d5a8793c78173"
  },
  {
   "cell_type": "code",
   "execution_count": 104,
   "outputs": [],
   "source": [
    "r5 = recall_k(\n",
    "    preds=build_pred_mask_for_i(cos_scores, i=0, n=n),\n",
    "    target=build_target_mask_for_i(0, n),\n",
    "    top_k=5,\n",
    ")"
   ],
   "metadata": {
    "collapsed": false,
    "ExecuteTime": {
     "end_time": "2024-04-02T21:59:40.892482Z",
     "start_time": "2024-04-02T21:59:40.864706Z"
    }
   },
   "id": "c583ff3eb336028d"
  },
  {
   "cell_type": "code",
   "execution_count": 105,
   "outputs": [
    {
     "name": "stdout",
     "output_type": "stream",
     "text": [
      "tensor(1.)\n"
     ]
    }
   ],
   "source": [
    "print(r5)"
   ],
   "metadata": {
    "collapsed": false,
    "ExecuteTime": {
     "end_time": "2024-04-02T21:59:41.246179Z",
     "start_time": "2024-04-02T21:59:41.238511Z"
    }
   },
   "id": "c638266075394ad4"
  },
  {
   "cell_type": "code",
   "execution_count": 115,
   "outputs": [
    {
     "name": "stdout",
     "output_type": "stream",
     "text": [
      "mean recall5@891:  0.3838383838383838\n"
     ]
    }
   ],
   "source": [
    "from statistics import mean\n",
    "\n",
    "r5s = []\n",
    "for i in range(n):\n",
    "    pred = build_pred_mask_for_i(cos_scores, i=i, n=n)\n",
    "    target = build_target_mask_for_i(i=i, n=n)\n",
    "    \n",
    "    r5 = recall_k(preds=pred, target=target, top_k=5).item()\n",
    "    r5s.append(r5)\n",
    "\n",
    "print('mean recall5@891: ', mean(r5s))    "
   ],
   "metadata": {
    "collapsed": false,
    "ExecuteTime": {
     "end_time": "2024-04-02T22:07:52.673112Z",
     "start_time": "2024-04-02T22:07:52.400942Z"
    }
   },
   "id": "c8ae12d4c720d7b3"
  },
  {
   "cell_type": "code",
   "execution_count": null,
   "outputs": [],
   "source": [],
   "metadata": {
    "collapsed": false
   },
   "id": "304e051edc41cf66"
  }
 ],
 "metadata": {
  "kernelspec": {
   "display_name": "Python 3",
   "language": "python",
   "name": "python3"
  },
  "language_info": {
   "codemirror_mode": {
    "name": "ipython",
    "version": 2
   },
   "file_extension": ".py",
   "mimetype": "text/x-python",
   "name": "python",
   "nbconvert_exporter": "python",
   "pygments_lexer": "ipython2",
   "version": "2.7.6"
  }
 },
 "nbformat": 4,
 "nbformat_minor": 5
}
