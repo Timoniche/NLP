{
 "cells": [
  {
   "cell_type": "markdown",
   "source": [
    "# Asymetric semantic search\n",
    "## Bi-encoder (RuBert) Fine-tuning using Sentence-Transformers library\n",
    "\n",
    "dataset: https://huggingface.co/datasets/sberquad\n",
    "training overview: https://www.sbert.net/docs/training/overview.html"
   ],
   "metadata": {
    "collapsed": false
   },
   "id": "bed717de4dd09091"
  },
  {
   "cell_type": "code",
   "execution_count": 6,
   "outputs": [
    {
     "name": "stdout",
     "output_type": "stream",
     "text": [
      "mps\n"
     ]
    }
   ],
   "source": [
    "import torch\n",
    "\n",
    "device = 'mps' if torch.backends.mps.is_built() else 'cuda' if torch.cuda.is_available() else 'cpu'\n",
    "\n",
    "print(device)"
   ],
   "metadata": {
    "collapsed": false,
    "ExecuteTime": {
     "end_time": "2024-04-02T21:12:05.977924Z",
     "start_time": "2024-04-02T21:12:05.975005Z"
    }
   },
   "id": "c41ef37d62d2f1e4"
  },
  {
   "cell_type": "code",
   "execution_count": 7,
   "outputs": [],
   "source": [
    "from sentence_transformers import SentenceTransformer, models\n",
    "\n",
    "\n",
    "def raw_bi_encoder():\n",
    "    word_embedding_model = models.Transformer('cointegrated/rubert-tiny2', max_seq_length=256)\n",
    "    pooling_model = models.Pooling(word_embedding_model.get_word_embedding_dimension())\n",
    "\n",
    "    bi_encoder = SentenceTransformer(\n",
    "        modules=[word_embedding_model, pooling_model],\n",
    "        device=device,\n",
    "    )\n",
    "\n",
    "    return bi_encoder"
   ],
   "metadata": {
    "collapsed": false,
    "ExecuteTime": {
     "end_time": "2024-04-02T21:12:06.698794Z",
     "start_time": "2024-04-02T21:12:06.693776Z"
    }
   },
   "id": "4f79ea949682a4bf"
  },
  {
   "cell_type": "code",
   "execution_count": 8,
   "outputs": [
    {
     "name": "stdout",
     "output_type": "stream",
     "text": [
      "SentenceTransformer(\n",
      "  (0): Transformer({'max_seq_length': 256, 'do_lower_case': False}) with Transformer model: BertModel \n",
      "  (1): Pooling({'word_embedding_dimension': 312, 'pooling_mode_cls_token': False, 'pooling_mode_mean_tokens': True, 'pooling_mode_max_tokens': False, 'pooling_mode_mean_sqrt_len_tokens': False, 'pooling_mode_weightedmean_tokens': False, 'pooling_mode_lasttoken': False, 'include_prompt': True})\n",
      ")\n"
     ]
    }
   ],
   "source": [
    "bi_encoder = raw_bi_encoder()\n",
    "\n",
    "print(bi_encoder)"
   ],
   "metadata": {
    "collapsed": false,
    "ExecuteTime": {
     "end_time": "2024-04-02T21:12:09.219259Z",
     "start_time": "2024-04-02T21:12:07.396024Z"
    }
   },
   "id": "8b2f3319e1d0d330"
  },
  {
   "cell_type": "markdown",
   "source": [
    "# Let's make sure it works"
   ],
   "metadata": {
    "collapsed": false
   },
   "id": "293cd2ca419c64c4"
  },
  {
   "cell_type": "code",
   "execution_count": 9,
   "outputs": [
    {
     "data": {
      "text/plain": "0.8660254037844387"
     },
     "execution_count": 9,
     "metadata": {},
     "output_type": "execute_result"
    }
   ],
   "source": [
    "from sentence_transformers import evaluation\n",
    "\n",
    "document_context = [\n",
    "    'Город Байконур и космодром Байконур вместе образуют комплекс Байконур , арендованный Россией у Казахстана на период до 2050 года. Эксплуатация космодрома стоит около 9 млрд рублей в год (стоимость аренды комплекса Байконур составляет 115 млн долларов — около 7,4 млрд рублей в год; ещё около 1,5 млрд рублей в год Россия тратит на поддержание объектов космодрома), что составляет 4,2 % от общего бюджета Роскосмоса на 2012 год. Кроме того, из федерального бюджета России в бюджет города Байконура ежегодно осуществляется безвозмездное поступление в размере 1,16 млрд рублей (по состоянию на 2012 год). В общей сложности космодром и город обходятся бюджету России в 10,16 млрд рублей в год.',\n",
    "\n",
    "    'Скорость света в вакууме — абсолютная величина скорости распространения электромагнитных волн в вакууме. Традиционно обозначается латинской буквой c (произносится как [це]). Скорость света в вакууме — фундаментальная постоянная, не зависящая от выбора инерциальной системы отсчёта (ИСО). Она относится к фундаментальным физическим постоянным, которые характеризуют не просто отдельные тела или поля, а свойства пространства-времени в целом. По современным представлениям, скорость света в вакууме — предельная скорость движения частиц и распространения взаимодействий.',\n",
    "\n",
    "    'Первый троллейбус был создан в Германии инженером Вернером фон Сименсом, вероятно, под влиянием идеи его брата, проживавшего в Англии доктора Вильгельма Сименса, высказанной 18 мая 1881 года на двадцать втором заседании Королевского научного общества. Электросъём осуществлялся восьмиколёсной тележкой (Kontaktwagen), катившейся по двум параллельным контактным проводам. Провода располагались достаточно близко друг от друга, и при сильном ветре нередко перехлёстывались, что приводило к коротким замыканиям. Экспериментальная троллейбусная линия протяжённостью 540 м (591 ярд), открытая компанией Siemens & Halske в предместье Берлина Галензе (Halensee), действовала с 29 апреля по 13 июня 1882.',\n",
    "]\n",
    "\n",
    "question = [\n",
    "    'На какой период был арендован Россией комплекс Байконур',\n",
    "\n",
    "    'Как называется абсолютная величина скорости распространения электромагнитных волн в вакууме?',\n",
    "\n",
    "    'Кем был ослеплен князь Василий Тёмный?',\n",
    "]\n",
    "\n",
    "label = [\n",
    "    1.0,\n",
    "    1.0,\n",
    "    0.0,\n",
    "]\n",
    "\n",
    "evaluator = evaluation.EmbeddingSimilarityEvaluator(question, document_context, label)\n",
    "bi_encoder.evaluate(evaluator)"
   ],
   "metadata": {
    "collapsed": false,
    "ExecuteTime": {
     "end_time": "2024-04-02T21:12:14.650430Z",
     "start_time": "2024-04-02T21:12:12.744579Z"
    }
   },
   "id": "9bd9034e7ec6c06c"
  },
  {
   "cell_type": "markdown",
   "source": [
    "# Evaluate on train-val without Fine-Tuning"
   ],
   "metadata": {
    "collapsed": false
   },
   "id": "48e670125c9e2fd8"
  },
  {
   "cell_type": "code",
   "execution_count": 10,
   "outputs": [],
   "source": [
    "from hw4.data_preparer import trainval_shuffled_data\n",
    "\n",
    "trainval = trainval_shuffled_data(from_file=True)\n",
    "\n",
    "n_samples = 1000\n",
    "questions, document_contexts, coss = zip(*trainval[:n_samples])"
   ],
   "metadata": {
    "collapsed": false,
    "ExecuteTime": {
     "end_time": "2024-04-02T21:12:18.091262Z",
     "start_time": "2024-04-02T21:12:18.018272Z"
    }
   },
   "id": "bd6028294010f8db"
  },
  {
   "cell_type": "code",
   "execution_count": 11,
   "outputs": [],
   "source": [
    "evaluator = evaluation.EmbeddingSimilarityEvaluator(questions, document_contexts, coss)"
   ],
   "metadata": {
    "collapsed": false,
    "ExecuteTime": {
     "end_time": "2024-04-02T21:12:18.636693Z",
     "start_time": "2024-04-02T21:12:18.628372Z"
    }
   },
   "id": "b826e1853b2f3296"
  },
  {
   "cell_type": "code",
   "execution_count": 12,
   "outputs": [],
   "source": [
    "bi_encoder = raw_bi_encoder()"
   ],
   "metadata": {
    "collapsed": false,
    "ExecuteTime": {
     "end_time": "2024-04-02T21:12:19.717659Z",
     "start_time": "2024-04-02T21:12:19.168176Z"
    }
   },
   "id": "8a88b3b4d5cf962d"
  },
  {
   "cell_type": "code",
   "execution_count": 19,
   "outputs": [
    {
     "data": {
      "text/plain": "0.7866959794370026"
     },
     "execution_count": 19,
     "metadata": {},
     "output_type": "execute_result"
    }
   ],
   "source": [
    "bi_encoder.evaluate(evaluator)"
   ],
   "metadata": {
    "collapsed": false,
    "ExecuteTime": {
     "end_time": "2024-04-02T19:40:14.549523Z",
     "start_time": "2024-04-02T19:39:23.705283Z"
    }
   },
   "id": "265a39fd09c9c754"
  },
  {
   "cell_type": "markdown",
   "source": [
    "# Evaluate on test without Fine-Tuning"
   ],
   "metadata": {
    "collapsed": false
   },
   "id": "515bb4fa04e6d00d"
  },
  {
   "cell_type": "code",
   "execution_count": 13,
   "outputs": [],
   "source": [
    "from hw4.data_preparer import test_shuffled_data\n",
    "\n",
    "n_test_samples = 1000\n",
    "test = test_shuffled_data(from_file=True)\n",
    "test_questions, test_document_contexts, test_coss = zip(*test[:n_test_samples])"
   ],
   "metadata": {
    "collapsed": false,
    "ExecuteTime": {
     "end_time": "2024-04-02T21:12:23.404986Z",
     "start_time": "2024-04-02T21:12:23.375038Z"
    }
   },
   "id": "16736fde11f92ec3"
  },
  {
   "cell_type": "code",
   "execution_count": 14,
   "outputs": [],
   "source": [
    "evaluator = evaluation.EmbeddingSimilarityEvaluator(test_questions, test_document_contexts, test_coss)"
   ],
   "metadata": {
    "collapsed": false,
    "ExecuteTime": {
     "end_time": "2024-04-02T21:12:24.515331Z",
     "start_time": "2024-04-02T21:12:24.500432Z"
    }
   },
   "id": "772bd352fc7064b5"
  },
  {
   "cell_type": "code",
   "execution_count": 15,
   "outputs": [],
   "source": [
    "bi_encoder = raw_bi_encoder()"
   ],
   "metadata": {
    "collapsed": false,
    "ExecuteTime": {
     "end_time": "2024-04-02T21:12:25.533403Z",
     "start_time": "2024-04-02T21:12:24.991530Z"
    }
   },
   "id": "cfcf15bf481fccf8"
  },
  {
   "cell_type": "code",
   "execution_count": 12,
   "outputs": [
    {
     "data": {
      "text/plain": "0.8064889530877336"
     },
     "execution_count": 12,
     "metadata": {},
     "output_type": "execute_result"
    }
   ],
   "source": [
    "bi_encoder.evaluate(evaluator)"
   ],
   "metadata": {
    "collapsed": false,
    "ExecuteTime": {
     "end_time": "2024-04-01T17:40:17.833261Z",
     "start_time": "2024-04-01T17:39:41.720228Z"
    }
   },
   "id": "20da8e9aba824094"
  },
  {
   "cell_type": "markdown",
   "source": [
    "# Fine-Tuning"
   ],
   "metadata": {
    "collapsed": false
   },
   "id": "795e93f2090efad5"
  },
  {
   "cell_type": "code",
   "execution_count": 9,
   "outputs": [
    {
     "name": "stdout",
     "output_type": "stream",
     "text": [
      "{'guid': '', 'texts': ['что оказала Заметное, хотя и менее значительное влияние на воззрения Локка', 'Заметное, хотя и менее значительное влияние на воззрения Локка оказала психология Гоббса, у которого заимствован, например, порядок изложения Опыта . Описывая процессы сравнения, Локк следует за Гоббсом; вместе с ним он утверждает, что отношения не принадлежат вещам, а составляют результат сравнения, что отношений бесчисленное множество, что более важные отношения суть тождество и различие, равенство и неравенство, сходство и несходство, смежность по пространству и времени, причина и действие. В трактате о языке, то есть в третьей книге Опыта , Локк развивает мысли Гоббса. В учении о воле Локк находится в сильнейшей зависимости от Гоббса; вместе с последним он учит, что стремление к удовольствию есть единственное проходящее через всю нашу психическую жизнь и что понятие о добре и зле у различных людей совершенно различно. В учении о свободе воли Локк вместе с Гоббсом утверждает, что воля склоняется в сторону сильнейшего желания и что свобода есть сила, принадлежащая душе, а не воле[6].'], 'label': 1.0}\n"
     ]
    }
   ],
   "source": [
    "from hw4.data_preparer import trainval_examples\n",
    "\n",
    "trainval_examples = trainval_examples()[:n_samples]\n",
    "print(trainval_examples[0].__dict__)"
   ],
   "metadata": {
    "collapsed": false,
    "ExecuteTime": {
     "end_time": "2024-04-01T16:39:05.154136Z",
     "start_time": "2024-04-01T16:39:04.846025Z"
    }
   },
   "id": "c9fe58494b846c84"
  },
  {
   "cell_type": "code",
   "execution_count": 10,
   "outputs": [],
   "source": [
    "from torch.utils.data import DataLoader\n",
    "\n",
    "trainval_dataloader_set = DataLoader(trainval_examples, shuffle=True, batch_size=32,\n",
    "                                     collate_fn=bi_encoder.smart_batching_collate)"
   ],
   "metadata": {
    "collapsed": false,
    "ExecuteTime": {
     "end_time": "2024-04-01T16:39:07.385687Z",
     "start_time": "2024-04-01T16:39:07.382911Z"
    }
   },
   "id": "b480dcdedbe1672e"
  },
  {
   "cell_type": "code",
   "execution_count": 11,
   "outputs": [],
   "source": [
    "from sentence_transformers import losses\n",
    "\n",
    "trainval_loss_set = losses.CosineSimilarityLoss(bi_encoder)"
   ],
   "metadata": {
    "collapsed": false,
    "ExecuteTime": {
     "end_time": "2024-04-01T16:39:09.592740Z",
     "start_time": "2024-04-01T16:39:09.575227Z"
    }
   },
   "id": "cbac197651973353"
  },
  {
   "cell_type": "code",
   "execution_count": 12,
   "outputs": [
    {
     "data": {
      "text/plain": "CosineSimilarityLoss(\n  (model): SentenceTransformer(\n    (0): Transformer({'max_seq_length': 256, 'do_lower_case': False}) with Transformer model: BertModel \n    (1): Pooling({'word_embedding_dimension': 312, 'pooling_mode_cls_token': False, 'pooling_mode_mean_tokens': True, 'pooling_mode_max_tokens': False, 'pooling_mode_mean_sqrt_len_tokens': False, 'pooling_mode_weightedmean_tokens': False, 'pooling_mode_lasttoken': False, 'include_prompt': True})\n  )\n  (loss_fct): MSELoss()\n  (cos_score_transformation): Identity()\n)"
     },
     "execution_count": 12,
     "metadata": {},
     "output_type": "execute_result"
    }
   ],
   "source": [
    "trainval_loss_set"
   ],
   "metadata": {
    "collapsed": false,
    "ExecuteTime": {
     "end_time": "2024-04-01T16:39:10.065684Z",
     "start_time": "2024-04-01T16:39:10.063874Z"
    }
   },
   "id": "e70cdccdc091412f"
  },
  {
   "cell_type": "code",
   "execution_count": 13,
   "outputs": [
    {
     "data": {
      "text/plain": "(torch.Size([32, 33]), torch.Size([32, 256]), torch.Size([32]))"
     },
     "execution_count": 13,
     "metadata": {},
     "output_type": "execute_result"
    }
   ],
   "source": [
    "(query_batch, context_batch), labels = next(iter(trainval_dataloader_set))\n",
    "query_batch['input_ids'].shape, context_batch['input_ids'].shape, labels.shape"
   ],
   "metadata": {
    "collapsed": false,
    "ExecuteTime": {
     "end_time": "2024-04-01T16:39:12.677047Z",
     "start_time": "2024-04-01T16:39:12.663427Z"
    }
   },
   "id": "d5172b90c66dfb0b"
  },
  {
   "cell_type": "code",
   "execution_count": 17,
   "outputs": [
    {
     "data": {
      "text/plain": "Epoch:   0%|          | 0/5 [00:00<?, ?it/s]",
      "application/vnd.jupyter.widget-view+json": {
       "version_major": 2,
       "version_minor": 0,
       "model_id": "9057de821cd44cb0b93581071095cd5c"
      }
     },
     "metadata": {},
     "output_type": "display_data"
    },
    {
     "data": {
      "text/plain": "Iteration:   0%|          | 0/32 [00:00<?, ?it/s]",
      "application/vnd.jupyter.widget-view+json": {
       "version_major": 2,
       "version_minor": 0,
       "model_id": "4811a76f6ab34b13966a69c53dc8d6a4"
      }
     },
     "metadata": {},
     "output_type": "display_data"
    },
    {
     "data": {
      "text/plain": "Iteration:   0%|          | 0/32 [00:00<?, ?it/s]",
      "application/vnd.jupyter.widget-view+json": {
       "version_major": 2,
       "version_minor": 0,
       "model_id": "b7afacc7d5b4482890477c11576e438f"
      }
     },
     "metadata": {},
     "output_type": "display_data"
    },
    {
     "data": {
      "text/plain": "Iteration:   0%|          | 0/32 [00:00<?, ?it/s]",
      "application/vnd.jupyter.widget-view+json": {
       "version_major": 2,
       "version_minor": 0,
       "model_id": "da1f9bbeec5e43bab0131513d197642c"
      }
     },
     "metadata": {},
     "output_type": "display_data"
    },
    {
     "data": {
      "text/plain": "Iteration:   0%|          | 0/32 [00:00<?, ?it/s]",
      "application/vnd.jupyter.widget-view+json": {
       "version_major": 2,
       "version_minor": 0,
       "model_id": "e51c660e38254db29004a2e335c66405"
      }
     },
     "metadata": {},
     "output_type": "display_data"
    },
    {
     "data": {
      "text/plain": "Iteration:   0%|          | 0/32 [00:00<?, ?it/s]",
      "application/vnd.jupyter.widget-view+json": {
       "version_major": 2,
       "version_minor": 0,
       "model_id": "32da6f1222844c0b892dd5ffdeae764a"
      }
     },
     "metadata": {},
     "output_type": "display_data"
    }
   ],
   "source": [
    "bi_encoder.fit(\n",
    "    train_objectives=[(trainval_dataloader_set, trainval_loss_set)],\n",
    "    output_path='qa/results',\n",
    "    epochs=5,\n",
    "    evaluator=evaluator,\n",
    ")"
   ],
   "metadata": {
    "collapsed": false,
    "ExecuteTime": {
     "end_time": "2024-04-01T16:43:45.695483Z",
     "start_time": "2024-04-01T16:42:20.415723Z"
    }
   },
   "id": "4199e3da5dbbb45c"
  },
  {
   "cell_type": "markdown",
   "source": [
    "# Loading model from checkpoint"
   ],
   "metadata": {
    "collapsed": false
   },
   "id": "59870fbb589855a"
  },
  {
   "cell_type": "code",
   "execution_count": 16,
   "outputs": [],
   "source": [
    "from sentence_transformers import SentenceTransformer\n",
    "\n",
    "finetuned_bi_encoder = SentenceTransformer('qa/results')"
   ],
   "metadata": {
    "collapsed": false,
    "ExecuteTime": {
     "end_time": "2024-04-02T21:12:29.929938Z",
     "start_time": "2024-04-02T21:12:29.835241Z"
    }
   },
   "id": "cf41141f94c86ed9"
  },
  {
   "cell_type": "code",
   "execution_count": 17,
   "outputs": [
    {
     "data": {
      "text/plain": "0.8099115488020344"
     },
     "execution_count": 17,
     "metadata": {},
     "output_type": "execute_result"
    }
   ],
   "source": [
    "finetuned_bi_encoder.evaluate(evaluator)"
   ],
   "metadata": {
    "collapsed": false,
    "ExecuteTime": {
     "end_time": "2024-04-02T21:13:28.917662Z",
     "start_time": "2024-04-02T21:12:31.675664Z"
    }
   },
   "id": "cc4e88e82db653a0"
  },
  {
   "cell_type": "markdown",
   "source": [
    "# Evaluating on metrics"
   ],
   "metadata": {
    "collapsed": false
   },
   "id": "69064f6f28013986"
  },
  {
   "cell_type": "code",
   "execution_count": 18,
   "outputs": [],
   "source": [
    "from hw4.data_preparer import test_shuffled_data\n",
    "\n",
    "data = test_shuffled_data(from_file=True)"
   ],
   "metadata": {
    "collapsed": false,
    "ExecuteTime": {
     "end_time": "2024-04-02T21:14:01.884100Z",
     "start_time": "2024-04-02T21:14:01.858931Z"
    }
   },
   "id": "d180ba1217f9697f"
  },
  {
   "cell_type": "code",
   "execution_count": 19,
   "outputs": [],
   "source": [
    "n_test_samples = 1000\n",
    "queries, docs, labels = zip(*data[:n_test_samples])"
   ],
   "metadata": {
    "collapsed": false,
    "ExecuteTime": {
     "end_time": "2024-04-02T21:14:02.398122Z",
     "start_time": "2024-04-02T21:14:02.388516Z"
    }
   },
   "id": "78cd4a5b1e62f085"
  },
  {
   "cell_type": "code",
   "execution_count": 20,
   "outputs": [
    {
     "name": "stdout",
     "output_type": "stream",
     "text": [
      "docs count before shrinking:  1000\n"
     ]
    }
   ],
   "source": [
    "print('docs count before shrinking: ', len(docs))"
   ],
   "metadata": {
    "collapsed": false,
    "ExecuteTime": {
     "end_time": "2024-04-02T21:14:03.025279Z",
     "start_time": "2024-04-02T21:14:03.017596Z"
    }
   },
   "id": "cebd3729f023bed6"
  },
  {
   "cell_type": "code",
   "execution_count": 21,
   "outputs": [],
   "source": [
    "docs = list(set(docs))"
   ],
   "metadata": {
    "collapsed": false,
    "ExecuteTime": {
     "end_time": "2024-04-02T21:14:03.481183Z",
     "start_time": "2024-04-02T21:14:03.476257Z"
    }
   },
   "id": "754e4207bf197a60"
  },
  {
   "cell_type": "code",
   "execution_count": 22,
   "outputs": [
    {
     "name": "stdout",
     "output_type": "stream",
     "text": [
      "docs count without duplicates:  891\n"
     ]
    }
   ],
   "source": [
    "print('docs count without duplicates: ', len(docs))"
   ],
   "metadata": {
    "collapsed": false,
    "ExecuteTime": {
     "end_time": "2024-04-02T21:14:04.501858Z",
     "start_time": "2024-04-02T21:14:04.494528Z"
    }
   },
   "id": "50ceb1c1b234955f"
  },
  {
   "cell_type": "code",
   "execution_count": 23,
   "outputs": [
    {
     "data": {
      "text/plain": "Batches:   0%|          | 0/28 [00:00<?, ?it/s]",
      "application/vnd.jupyter.widget-view+json": {
       "version_major": 2,
       "version_minor": 0,
       "model_id": "9215d63946764eeea7b864a5d5887c81"
      }
     },
     "metadata": {},
     "output_type": "display_data"
    }
   ],
   "source": [
    "doc_embs = finetuned_bi_encoder.encode(\n",
    "    docs,\n",
    "    convert_to_tensor=True,\n",
    "    show_progress_bar=True,\n",
    ")"
   ],
   "metadata": {
    "collapsed": false,
    "ExecuteTime": {
     "end_time": "2024-04-02T21:14:22.873981Z",
     "start_time": "2024-04-02T21:14:05.063920Z"
    }
   },
   "id": "7db87e33514e66d"
  },
  {
   "cell_type": "code",
   "execution_count": 24,
   "outputs": [
    {
     "data": {
      "text/plain": "Batches:   0%|          | 0/32 [00:00<?, ?it/s]",
      "application/vnd.jupyter.widget-view+json": {
       "version_major": 2,
       "version_minor": 0,
       "model_id": "9b7df18107504fbbb4daaeaf4fcf9f5e"
      }
     },
     "metadata": {},
     "output_type": "display_data"
    }
   ],
   "source": [
    "query_embs = finetuned_bi_encoder.encode(\n",
    "    queries,\n",
    "    convert_to_tensor=True,\n",
    "    show_progress_bar=True,\n",
    ")"
   ],
   "metadata": {
    "collapsed": false,
    "ExecuteTime": {
     "end_time": "2024-04-02T21:14:40.479801Z",
     "start_time": "2024-04-02T21:14:22.871804Z"
    }
   },
   "id": "bac6843d69ee87d7"
  },
  {
   "cell_type": "code",
   "execution_count": 25,
   "outputs": [],
   "source": [
    "from sentence_transformers import util"
   ],
   "metadata": {
    "collapsed": false,
    "ExecuteTime": {
     "end_time": "2024-04-02T21:14:56.031885Z",
     "start_time": "2024-04-02T21:14:56.024579Z"
    }
   },
   "id": "78ab3b4b0affec85"
  },
  {
   "cell_type": "code",
   "execution_count": 26,
   "outputs": [],
   "source": [
    "cos_sim_score = util.semantic_search(query_embs, doc_embs, top_k=3)"
   ],
   "metadata": {
    "collapsed": false,
    "ExecuteTime": {
     "end_time": "2024-04-02T21:14:56.868028Z",
     "start_time": "2024-04-02T21:14:56.469576Z"
    }
   },
   "id": "c77d5208c1bee93"
  },
  {
   "cell_type": "code",
   "execution_count": 27,
   "outputs": [
    {
     "name": "stdout",
     "output_type": "stream",
     "text": [
      "[{'corpus_id': 592, 'score': 0.5318310856819153}, {'corpus_id': 770, 'score': 0.5177189111709595}, {'corpus_id': 420, 'score': 0.5000532269477844}]\n"
     ]
    }
   ],
   "source": [
    "for_first_query = cos_sim_score[0]\n",
    "print(for_first_query)"
   ],
   "metadata": {
    "collapsed": false,
    "ExecuteTime": {
     "end_time": "2024-04-02T21:14:56.915916Z",
     "start_time": "2024-04-02T21:14:56.913179Z"
    }
   },
   "id": "ec5bdf4b4bbcbae5"
  },
  {
   "cell_type": "code",
   "execution_count": 28,
   "outputs": [
    {
     "name": "stdout",
     "output_type": "stream",
     "text": [
      "Question:  Какое содержание селена в морской воде?\n",
      "\n",
      "corpus id:  592\n",
      "Document 1: Cosine Similarity is 0.532:\n",
      "\n",
      "Содержание селена в земной коре — около 500 мг/т. Основные черты геохимии селена в земной коре определяются близостью его ионного радиуса к ионному радиусу серы. Селен образует 37 минералов, среди которых в первую очередь должны быть отмечены ашавалит FeSe, клаусталит PbSe, тиманнит HgSe, гуанахуатит Bi2(Se, S)3, хастит CoSe2, платинит PbBi2(S, Se)3, ассоциирующие с различными сульфидами, а иногда также с касситеритом. Изредка встречается самородный селен. Главное промышленное значение на селен имеют сульфидные месторождения. Содержание селена в сульфидах колеблется от 7 до 110 г/т. Концентрация селена в морской воде 4·10−4 мг/л[15]. На территории Кавказских Минеральных Вод встречаются источники с содержанием Se от 50 мкг/дм3.\n",
      "\n",
      "corpus id:  770\n",
      "Document 2: Cosine Similarity is 0.518:\n",
      "\n",
      "К хлоридно-гидрокарбонатно-натриевому типу относится закарпатская вода Драговская с минерализацией 9,6 г/л и краснодарская Горячий ключ с общим содержанием солей в литре 4,5 г солей, но в них хлориды в виде поваренной соли (соответственно 59 и 67 %) превалируют над гидрокарбонатами, которые представлены содой (38 и 32 %). Обе воды безсульфатные. Преобладанием хлоридов над гидрокарбонатами отличается и вода того же типа Челкарская с минерализацией 2,2 г/л. Гидрокарбонаты в виде соды составляют 32, а хлоридов (поваренная соль) — 48 %. Кроме того, в Челкарской есть сульфаты в виде глауберовой соли (20 %).\n",
      "\n",
      "corpus id:  420\n",
      "Document 3: Cosine Similarity is 0.500:\n",
      "\n",
      "Хлоридно-кальциевые воды (горькие и горько-солёные) снижают проницаемость стенок сосудов и оказывают кровоостанавливающее действие. Известны они и в качестве отхаркивающего средства. Назначают эти воды и при лечении органов пищеварения, они повышают ферментативную силу желудочного сока, улучшают белковую функцию печени, усиливают образование мочевины и её выделение с мочой. Благоприятно влияют такие воды и на нервную систему. Чисто хлоридно-кальциевые воды встречаются в природе редко. Среди лечебно-питьевых вод бутылочного разлива этот тип воды представлен источником Лугела , содержащим 5%-ный раствор хлористого кальция.\n"
     ]
    }
   ],
   "source": [
    "print('Question: ', queries[0])\n",
    "print()\n",
    "for no, ir in enumerate(cos_sim_score[0]):\n",
    "    corpus_id = ir[\"corpus_id\"]\n",
    "    print('corpus id: ', corpus_id)\n",
    "    print(f'Document {no + 1}: Cosine Similarity is {ir[\"score\"]:.3f}:\\n\\n{docs[corpus_id]}')\n",
    "    print()"
   ],
   "metadata": {
    "collapsed": false,
    "ExecuteTime": {
     "end_time": "2024-04-02T21:14:57.579307Z",
     "start_time": "2024-04-02T21:14:57.572648Z"
    }
   },
   "id": "91acde8789134491"
  },
  {
   "cell_type": "code",
   "execution_count": 30,
   "outputs": [
    {
     "name": "stdout",
     "output_type": "stream",
     "text": [
      "891\n"
     ]
    }
   ],
   "source": [
    "from hw4.data_preparer import shrink_repeated_samples\n",
    "\n",
    "data = test_shuffled_data(from_file=True)\n",
    "n_test_samples = 1000\n",
    "queries, docs, labels = zip(*data[:n_test_samples])\n",
    "\n",
    "queries, docs, labels = shrink_repeated_samples(\n",
    "    queries=queries,\n",
    "    docs=docs,\n",
    "    labels=labels,\n",
    ")\n",
    "print(len(docs))"
   ],
   "metadata": {
    "collapsed": false,
    "ExecuteTime": {
     "end_time": "2024-04-02T21:15:39.728890Z",
     "start_time": "2024-04-02T21:15:39.674590Z"
    }
   },
   "id": "156488993b1a6063"
  },
  {
   "cell_type": "markdown",
   "source": [
    "# Recall@k usage example"
   ],
   "metadata": {
    "collapsed": false
   },
   "id": "f6613ebeef7c2844"
  },
  {
   "cell_type": "code",
   "execution_count": 107,
   "outputs": [
    {
     "name": "stdout",
     "output_type": "stream",
     "text": [
      "tensor(0.5000)\n"
     ]
    }
   ],
   "source": [
    "from torch import tensor\n",
    "from torchmetrics.functional.retrieval.recall import retrieval_recall\n",
    "\n",
    "preds = tensor([0.2, 0.3, 0.5])\n",
    "target = tensor([True, False, True])\n",
    "r2 = retrieval_recall(\n",
    "    preds=preds,\n",
    "    target=target,\n",
    "    top_k=2\n",
    ")\n",
    "print(r2)"
   ],
   "metadata": {
    "collapsed": false,
    "ExecuteTime": {
     "end_time": "2024-04-02T22:00:57.016118Z",
     "start_time": "2024-04-02T22:00:56.992600Z"
    }
   },
   "id": "b1fb0370e73bf80c"
  },
  {
   "cell_type": "markdown",
   "source": [
    "# Obtain preds and targets, Evaluate metrics"
   ],
   "metadata": {
    "collapsed": false
   },
   "id": "1f52aaa19b97faa1"
  },
  {
   "cell_type": "code",
   "execution_count": 34,
   "outputs": [
    {
     "data": {
      "text/plain": "Batches:   0%|          | 0/28 [00:00<?, ?it/s]",
      "application/vnd.jupyter.widget-view+json": {
       "version_major": 2,
       "version_minor": 0,
       "model_id": "a5bef75b7f9148ceb79575e9ff4b3f3b"
      }
     },
     "metadata": {},
     "output_type": "display_data"
    }
   ],
   "source": [
    "doc_embs = finetuned_bi_encoder.encode(\n",
    "    docs,\n",
    "    convert_to_tensor=True,\n",
    "    show_progress_bar=True,\n",
    ")"
   ],
   "metadata": {
    "collapsed": false,
    "ExecuteTime": {
     "end_time": "2024-04-02T21:19:14.257286Z",
     "start_time": "2024-04-02T21:19:11.895624Z"
    }
   },
   "id": "923373b81f184c72"
  },
  {
   "cell_type": "code",
   "execution_count": 35,
   "outputs": [
    {
     "data": {
      "text/plain": "Batches:   0%|          | 0/28 [00:00<?, ?it/s]",
      "application/vnd.jupyter.widget-view+json": {
       "version_major": 2,
       "version_minor": 0,
       "model_id": "f1c49377c14b481d8bfc379a9f92d02e"
      }
     },
     "metadata": {},
     "output_type": "display_data"
    }
   ],
   "source": [
    "query_embs = finetuned_bi_encoder.encode(\n",
    "    queries,\n",
    "    convert_to_tensor=True,\n",
    "    show_progress_bar=True,\n",
    ")"
   ],
   "metadata": {
    "collapsed": false,
    "ExecuteTime": {
     "end_time": "2024-04-02T21:19:17.350414Z",
     "start_time": "2024-04-02T21:19:14.255099Z"
    }
   },
   "id": "be10f0082cbb744d"
  },
  {
   "cell_type": "code",
   "execution_count": 57,
   "outputs": [],
   "source": [
    "cos_scores = util.semantic_search(query_embs, doc_embs, top_k=1e9)"
   ],
   "metadata": {
    "collapsed": false,
    "ExecuteTime": {
     "end_time": "2024-04-02T21:35:47.975751Z",
     "start_time": "2024-04-02T21:35:47.323200Z"
    }
   },
   "id": "e90a38ca75bedebb"
  },
  {
   "cell_type": "code",
   "execution_count": 58,
   "outputs": [
    {
     "name": "stdout",
     "output_type": "stream",
     "text": [
      "891\n"
     ]
    }
   ],
   "source": [
    "print(len(cos_scores))"
   ],
   "metadata": {
    "collapsed": false,
    "ExecuteTime": {
     "end_time": "2024-04-02T21:35:48.782284Z",
     "start_time": "2024-04-02T21:35:48.771793Z"
    }
   },
   "id": "dd9ebb6e3ebc4773"
  },
  {
   "cell_type": "code",
   "execution_count": 116,
   "outputs": [
    {
     "name": "stdout",
     "output_type": "stream",
     "text": [
      "[{'corpus_id': 0, 'score': 0.5318310856819153}, {'corpus_id': 582, 'score': 0.5177189111709595}, {'corpus_id': 178, 'score': 0.5000532269477844}, {'corpus_id': 266, 'score': 0.4995037019252777}, {'corpus_id': 51, 'score': 0.49128687381744385}]\n"
     ]
    }
   ],
   "source": [
    "print(cos_scores[0][:5])"
   ],
   "metadata": {
    "collapsed": false,
    "ExecuteTime": {
     "end_time": "2024-04-02T22:54:42.592297Z",
     "start_time": "2024-04-02T22:54:42.575116Z"
    }
   },
   "id": "7ca45e65083195ee"
  },
  {
   "cell_type": "code",
   "execution_count": 62,
   "outputs": [],
   "source": [
    "top_k = 5"
   ],
   "metadata": {
    "collapsed": false,
    "ExecuteTime": {
     "end_time": "2024-04-02T21:37:06.812721Z",
     "start_time": "2024-04-02T21:37:06.798297Z"
    }
   },
   "id": "763d8452cfee3ac2"
  },
  {
   "cell_type": "code",
   "execution_count": 63,
   "outputs": [
    {
     "name": "stdout",
     "output_type": "stream",
     "text": [
      "Question:  Какое содержание селена в морской воде?\n",
      "\n",
      "corpus id:  0\n",
      "Document 1: Cosine Similarity is 0.532:\n",
      "\n",
      "Содержание селена в земной коре — около 500 мг/т. Основные черты геохимии селена в земной коре определяются близостью его ионного радиуса к ионному радиусу серы. Селен образует 37 минералов, среди которых в первую очередь должны быть отмечены ашавалит FeSe, клаусталит PbSe, тиманнит HgSe, гуанахуатит Bi2(Se, S)3, хастит CoSe2, платинит PbBi2(S, Se)3, ассоциирующие с различными сульфидами, а иногда также с касситеритом. Изредка встречается самородный селен. Главное промышленное значение на селен имеют сульфидные месторождения. Содержание селена в сульфидах колеблется от 7 до 110 г/т. Концентрация селена в морской воде 4·10−4 мг/л[15]. На территории Кавказских Минеральных Вод встречаются источники с содержанием Se от 50 мкг/дм3.\n",
      "\n",
      "corpus id:  582\n",
      "Document 2: Cosine Similarity is 0.518:\n",
      "\n",
      "К хлоридно-гидрокарбонатно-натриевому типу относится закарпатская вода Драговская с минерализацией 9,6 г/л и краснодарская Горячий ключ с общим содержанием солей в литре 4,5 г солей, но в них хлориды в виде поваренной соли (соответственно 59 и 67 %) превалируют над гидрокарбонатами, которые представлены содой (38 и 32 %). Обе воды безсульфатные. Преобладанием хлоридов над гидрокарбонатами отличается и вода того же типа Челкарская с минерализацией 2,2 г/л. Гидрокарбонаты в виде соды составляют 32, а хлоридов (поваренная соль) — 48 %. Кроме того, в Челкарской есть сульфаты в виде глауберовой соли (20 %).\n",
      "\n",
      "corpus id:  178\n",
      "Document 3: Cosine Similarity is 0.500:\n",
      "\n",
      "Хлоридно-кальциевые воды (горькие и горько-солёные) снижают проницаемость стенок сосудов и оказывают кровоостанавливающее действие. Известны они и в качестве отхаркивающего средства. Назначают эти воды и при лечении органов пищеварения, они повышают ферментативную силу желудочного сока, улучшают белковую функцию печени, усиливают образование мочевины и её выделение с мочой. Благоприятно влияют такие воды и на нервную систему. Чисто хлоридно-кальциевые воды встречаются в природе редко. Среди лечебно-питьевых вод бутылочного разлива этот тип воды представлен источником Лугела , содержащим 5%-ный раствор хлористого кальция.\n",
      "\n",
      "corpus id:  266\n",
      "Document 4: Cosine Similarity is 0.500:\n",
      "\n",
      "Минеральные воды — сложные растворы, в которых вещества содержатся в виде ионов, недиссоциированных молекул, газов, коллоидных частиц. Минеральными природными питьевыми водами называются воды, добытые из водоносных горизонтов или водоносных комплексов, защищённых от антропогенного воздействия, сохраняющих естественный химический состав и относящиеся к пищевым продуктам, а при повышенной минерализации или при повышенном содержании определённых биологически активных компонентов[1] оказывающие лечебно-профилактическое действие[2].\n",
      "\n",
      "corpus id:  51\n",
      "Document 5: Cosine Similarity is 0.491:\n",
      "\n",
      "Натрий (а точнее, его соединения) известен и использовался с давних времён. В Библии, в книге пророка Иеремии, упоминается слово др.-греч. νίτρον — в Септуагинте, а слово лат. nitroet — в Вульгате (Иер. 2:22) как название вещества, это род соды или поташа, который в смеси с маслом, служил моющим средством. В Танахе слову др.-греч. νίτρον соответствуют др.-евр. ברית‎ — мыло и др.-евр. נתר‎ — щёлок (мыльная жидкость) . Сода (натрон), встречается в природе в водах натронных озёр в Египте. Природную соду древние египтяне использовали для бальзамирования, отбеливания холста, при варке пищи, изготовлении красок и глазурей. Плиний Старший пишет, что в дельте Нила соду (в ней была достаточная доля примесей) выделяли из речной воды. Она поступала в продажу в виде крупных кусков, из-за примеси угля окрашенных в серый или даже чёрный цвет.\n"
     ]
    }
   ],
   "source": [
    "print('Question: ', queries[0])\n",
    "print()\n",
    "for no, ir in enumerate(cos_scores[0][:top_k]):\n",
    "    corpus_id = ir[\"corpus_id\"]\n",
    "    print('corpus id: ', corpus_id)\n",
    "    print(f'Document {no + 1}: Cosine Similarity is {ir[\"score\"]:.3f}:\\n\\n{docs[corpus_id]}')\n",
    "    print()"
   ],
   "metadata": {
    "collapsed": false,
    "ExecuteTime": {
     "end_time": "2024-04-02T21:37:07.167185Z",
     "start_time": "2024-04-02T21:37:07.161921Z"
    }
   },
   "id": "99403c3aff491a6e"
  },
  {
   "cell_type": "code",
   "execution_count": 64,
   "outputs": [
    {
     "name": "stdout",
     "output_type": "stream",
     "text": [
      "К хлоридно-гидрокарбонатно-натриевому типу относится закарпатская вода Драговская с минерализацией 9,6 г/л и краснодарская Горячий ключ с общим содержанием солей в литре 4,5 г солей, но в них хлориды в виде поваренной соли (соответственно 59 и 67 %) превалируют над гидрокарбонатами, которые представлены содой (38 и 32 %). Обе воды безсульфатные. Преобладанием хлоридов над гидрокарбонатами отличается и вода того же типа Челкарская с минерализацией 2,2 г/л. Гидрокарбонаты в виде соды составляют 32, а хлоридов (поваренная соль) — 48 %. Кроме того, в Челкарской есть сульфаты в виде глауберовой соли (20 %).\n"
     ]
    }
   ],
   "source": [
    "print(docs[582])"
   ],
   "metadata": {
    "collapsed": false,
    "ExecuteTime": {
     "end_time": "2024-04-02T21:37:21.056632Z",
     "start_time": "2024-04-02T21:37:21.041152Z"
    }
   },
   "id": "a0e0d973ff11df45"
  },
  {
   "cell_type": "code",
   "execution_count": 65,
   "outputs": [
    {
     "name": "stdout",
     "output_type": "stream",
     "text": [
      "891\n"
     ]
    }
   ],
   "source": [
    "n = len(queries)\n",
    "print(n)"
   ],
   "metadata": {
    "collapsed": false,
    "ExecuteTime": {
     "end_time": "2024-04-02T21:37:26.608342Z",
     "start_time": "2024-04-02T21:37:26.601983Z"
    }
   },
   "id": "b04e71c1065b7a8a"
  },
  {
   "cell_type": "code",
   "execution_count": 101,
   "outputs": [],
   "source": [
    "def build_target_mask_for_i(i, n):\n",
    "    target_mask = [False] * n\n",
    "    target_mask[i] = True\n",
    "\n",
    "    return target_mask"
   ],
   "metadata": {
    "collapsed": false,
    "ExecuteTime": {
     "end_time": "2024-04-02T21:59:13.749498Z",
     "start_time": "2024-04-02T21:59:13.728322Z"
    }
   },
   "id": "16d05aeeb2deaede"
  },
  {
   "cell_type": "code",
   "execution_count": 118,
   "outputs": [],
   "source": [
    "def build_pred_mask_for_i(\n",
    "        cos_scores,\n",
    "        i,\n",
    "        n,\n",
    "):\n",
    "    pred_mask = [0.0] * n\n",
    "    qi_scores = cos_scores[i]\n",
    "\n",
    "    for docid_score in qi_scores:\n",
    "        doc_id = docid_score['corpus_id']\n",
    "        score = docid_score['score']\n",
    "        pred_mask[int(doc_id)] = score\n",
    "\n",
    "    return pred_mask"
   ],
   "metadata": {
    "collapsed": false,
    "ExecuteTime": {
     "end_time": "2024-04-02T23:51:59.688380Z",
     "start_time": "2024-04-02T23:51:59.672449Z"
    }
   },
   "id": "dd2db4ba6960637c"
  },
  {
   "cell_type": "code",
   "execution_count": 119,
   "outputs": [],
   "source": [
    "r5 = retrieval_recall(\n",
    "    preds=tensor(build_pred_mask_for_i(cos_scores, i=0, n=n)),\n",
    "    target=tensor(build_target_mask_for_i(0, n)),\n",
    "    top_k=5,\n",
    ")"
   ],
   "metadata": {
    "collapsed": false,
    "ExecuteTime": {
     "end_time": "2024-04-02T23:52:00.081418Z",
     "start_time": "2024-04-02T23:52:00.073956Z"
    }
   },
   "id": "c583ff3eb336028d"
  },
  {
   "cell_type": "code",
   "execution_count": 120,
   "outputs": [
    {
     "name": "stdout",
     "output_type": "stream",
     "text": [
      "tensor(1.)\n"
     ]
    }
   ],
   "source": [
    "print(r5)"
   ],
   "metadata": {
    "collapsed": false,
    "ExecuteTime": {
     "end_time": "2024-04-02T23:52:01.603774Z",
     "start_time": "2024-04-02T23:52:01.582650Z"
    }
   },
   "id": "c638266075394ad4"
  },
  {
   "cell_type": "markdown",
   "source": [
    "# Calculating metrics: Recall@5, MRR, MAP, NDCG@10"
   ],
   "metadata": {
    "collapsed": false
   },
   "id": "bb0c4e7784ac8b14"
  },
  {
   "cell_type": "code",
   "execution_count": 125,
   "outputs": [
    {
     "name": "stdout",
     "output_type": "stream",
     "text": [
      "mean recall5@891:  0.3838383838383838\n",
      "mean mrr:  0.32121212144960326\n",
      "mean rmAP:  0.32121212144960326\n",
      "mean ndcg10@891:  0.35279862433839193\n"
     ]
    }
   ],
   "source": [
    "from statistics import mean\n",
    "from torchmetrics.functional.retrieval import retrieval_reciprocal_rank, retrieval_average_precision, \\\n",
    "    retrieval_normalized_dcg\n",
    "\n",
    "r5s = []\n",
    "mrrs = []\n",
    "rmaps = []\n",
    "ndcgs = []\n",
    "for i in range(n):\n",
    "    pred = build_pred_mask_for_i(cos_scores, i=i, n=n)\n",
    "    target = build_target_mask_for_i(i=i, n=n)\n",
    "\n",
    "    pred = tensor(pred)\n",
    "    target = tensor(target)\n",
    "    \n",
    "    r5 = retrieval_recall(preds=pred, target=target, top_k=5).item()\n",
    "    mrr = retrieval_reciprocal_rank(preds=pred, target=target, top_k=5).item()\n",
    "    rmap = retrieval_average_precision(preds=pred, target=target, top_k=5).item()\n",
    "    ndcg = retrieval_normalized_dcg(preds=pred, target=target, top_k=10).item()\n",
    "    \n",
    "    r5s.append(r5)\n",
    "    mrrs.append(mrr)\n",
    "    rmaps.append(rmap)\n",
    "    ndcgs.append(ndcg)\n",
    "\n",
    "print('mean recall5@891: ', mean(r5s))\n",
    "print('mean mrr: ', mean(mrrs))\n",
    "print('mean rmAP: ', mean(rmaps))\n",
    "print('mean ndcg10@891: ', mean(ndcgs))"
   ],
   "metadata": {
    "collapsed": false,
    "ExecuteTime": {
     "end_time": "2024-04-02T23:57:58.375775Z",
     "start_time": "2024-04-02T23:57:57.845311Z"
    }
   },
   "id": "c8ae12d4c720d7b3"
  },
  {
   "cell_type": "code",
   "execution_count": null,
   "outputs": [],
   "source": [],
   "metadata": {
    "collapsed": false
   },
   "id": "bfe686fad84a958b"
  }
 ],
 "metadata": {
  "kernelspec": {
   "display_name": "Python 3",
   "language": "python",
   "name": "python3"
  },
  "language_info": {
   "codemirror_mode": {
    "name": "ipython",
    "version": 2
   },
   "file_extension": ".py",
   "mimetype": "text/x-python",
   "name": "python",
   "nbconvert_exporter": "python",
   "pygments_lexer": "ipython2",
   "version": "2.7.6"
  }
 },
 "nbformat": 4,
 "nbformat_minor": 5
}
