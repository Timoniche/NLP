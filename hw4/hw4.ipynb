{
 "cells": [
  {
   "cell_type": "markdown",
   "source": [
    "# Asymetric semantic search\n",
    "## Bi-encoder (RuBert) Fine-tuning using Sentence-Transformers library\n",
    "\n",
    "dataset: https://huggingface.co/datasets/sberquad\n",
    "training overview: https://www.sbert.net/docs/training/overview.html"
   ],
   "metadata": {
    "collapsed": false
   },
   "id": "bed717de4dd09091"
  },
  {
   "cell_type": "code",
   "execution_count": 1,
   "outputs": [
    {
     "name": "stdout",
     "output_type": "stream",
     "text": [
      "mps\n"
     ]
    }
   ],
   "source": [
    "import torch\n",
    "\n",
    "device = 'mps' if torch.backends.mps.is_built() else 'cuda' if torch.cuda.is_available() else 'cpu'\n",
    "\n",
    "print(device)"
   ],
   "metadata": {
    "collapsed": false,
    "ExecuteTime": {
     "end_time": "2024-04-01T16:37:57.777194Z",
     "start_time": "2024-04-01T16:37:56.961322Z"
    }
   },
   "id": "c41ef37d62d2f1e4"
  },
  {
   "cell_type": "code",
   "execution_count": 2,
   "outputs": [
    {
     "name": "stderr",
     "output_type": "stream",
     "text": [
      "/Users/timoniche/PycharmProjects/NLP/.venv/lib/python3.9/site-packages/urllib3/__init__.py:35: NotOpenSSLWarning: urllib3 v2 only supports OpenSSL 1.1.1+, currently the 'ssl' module is compiled with 'LibreSSL 2.8.3'. See: https://github.com/urllib3/urllib3/issues/3020\n",
      "  warnings.warn(\n"
     ]
    }
   ],
   "source": [
    "from sentence_transformers import SentenceTransformer, models\n",
    "\n",
    "\n",
    "def raw_bi_encoder():\n",
    "    word_embedding_model = models.Transformer('cointegrated/rubert-tiny2', max_seq_length=256)\n",
    "    pooling_model = models.Pooling(word_embedding_model.get_word_embedding_dimension())\n",
    "\n",
    "    bi_encoder = SentenceTransformer(\n",
    "        modules=[word_embedding_model, pooling_model],\n",
    "        device=device,\n",
    "    )\n",
    "\n",
    "    return bi_encoder"
   ],
   "metadata": {
    "collapsed": false,
    "ExecuteTime": {
     "end_time": "2024-04-01T16:37:58.633469Z",
     "start_time": "2024-04-01T16:37:58.293543Z"
    }
   },
   "id": "4f79ea949682a4bf"
  },
  {
   "cell_type": "code",
   "execution_count": 3,
   "outputs": [
    {
     "name": "stdout",
     "output_type": "stream",
     "text": [
      "SentenceTransformer(\n",
      "  (0): Transformer({'max_seq_length': 256, 'do_lower_case': False}) with Transformer model: BertModel \n",
      "  (1): Pooling({'word_embedding_dimension': 312, 'pooling_mode_cls_token': False, 'pooling_mode_mean_tokens': True, 'pooling_mode_max_tokens': False, 'pooling_mode_mean_sqrt_len_tokens': False, 'pooling_mode_weightedmean_tokens': False, 'pooling_mode_lasttoken': False, 'include_prompt': True})\n",
      ")\n"
     ]
    }
   ],
   "source": [
    "bi_encoder = raw_bi_encoder()\n",
    "\n",
    "print(bi_encoder)"
   ],
   "metadata": {
    "collapsed": false,
    "ExecuteTime": {
     "end_time": "2024-04-01T16:38:00.748388Z",
     "start_time": "2024-04-01T16:37:59.201217Z"
    }
   },
   "id": "8b2f3319e1d0d330"
  },
  {
   "cell_type": "markdown",
   "source": [
    "# Let's make sure it works"
   ],
   "metadata": {
    "collapsed": false
   },
   "id": "293cd2ca419c64c4"
  },
  {
   "cell_type": "code",
   "execution_count": 4,
   "outputs": [
    {
     "data": {
      "text/plain": "0.8660254037844387"
     },
     "execution_count": 4,
     "metadata": {},
     "output_type": "execute_result"
    }
   ],
   "source": [
    "from sentence_transformers import evaluation\n",
    "\n",
    "document_context = [\n",
    "    'Город Байконур и космодром Байконур вместе образуют комплекс Байконур , арендованный Россией у Казахстана на период до 2050 года. Эксплуатация космодрома стоит около 9 млрд рублей в год (стоимость аренды комплекса Байконур составляет 115 млн долларов — около 7,4 млрд рублей в год; ещё около 1,5 млрд рублей в год Россия тратит на поддержание объектов космодрома), что составляет 4,2 % от общего бюджета Роскосмоса на 2012 год. Кроме того, из федерального бюджета России в бюджет города Байконура ежегодно осуществляется безвозмездное поступление в размере 1,16 млрд рублей (по состоянию на 2012 год). В общей сложности космодром и город обходятся бюджету России в 10,16 млрд рублей в год.',\n",
    "\n",
    "    'Скорость света в вакууме — абсолютная величина скорости распространения электромагнитных волн в вакууме. Традиционно обозначается латинской буквой c (произносится как [це]). Скорость света в вакууме — фундаментальная постоянная, не зависящая от выбора инерциальной системы отсчёта (ИСО). Она относится к фундаментальным физическим постоянным, которые характеризуют не просто отдельные тела или поля, а свойства пространства-времени в целом. По современным представлениям, скорость света в вакууме — предельная скорость движения частиц и распространения взаимодействий.',\n",
    "\n",
    "    'Первый троллейбус был создан в Германии инженером Вернером фон Сименсом, вероятно, под влиянием идеи его брата, проживавшего в Англии доктора Вильгельма Сименса, высказанной 18 мая 1881 года на двадцать втором заседании Королевского научного общества. Электросъём осуществлялся восьмиколёсной тележкой (Kontaktwagen), катившейся по двум параллельным контактным проводам. Провода располагались достаточно близко друг от друга, и при сильном ветре нередко перехлёстывались, что приводило к коротким замыканиям. Экспериментальная троллейбусная линия протяжённостью 540 м (591 ярд), открытая компанией Siemens & Halske в предместье Берлина Галензе (Halensee), действовала с 29 апреля по 13 июня 1882.',\n",
    "]\n",
    "\n",
    "question = [\n",
    "    'На какой период был арендован Россией комплекс Байконур',\n",
    "\n",
    "    'Как называется абсолютная величина скорости распространения электромагнитных волн в вакууме?',\n",
    "\n",
    "    'Кем был ослеплен князь Василий Тёмный?',\n",
    "]\n",
    "\n",
    "label = [\n",
    "    1.0,\n",
    "    1.0,\n",
    "    0.0,\n",
    "]\n",
    "\n",
    "evaluator = evaluation.EmbeddingSimilarityEvaluator(question, document_context, label)\n",
    "bi_encoder.evaluate(evaluator)"
   ],
   "metadata": {
    "collapsed": false,
    "ExecuteTime": {
     "end_time": "2024-04-01T16:38:07.087200Z",
     "start_time": "2024-04-01T16:38:05.125839Z"
    }
   },
   "id": "9bd9034e7ec6c06c"
  },
  {
   "cell_type": "markdown",
   "source": [
    "# Evaluate on train-val without Fine-Tuning"
   ],
   "metadata": {
    "collapsed": false
   },
   "id": "48e670125c9e2fd8"
  },
  {
   "cell_type": "code",
   "execution_count": 5,
   "outputs": [],
   "source": [
    "from hw4.data_preparer import trainval_shuffled_data\n",
    "\n",
    "trainval = trainval_shuffled_data(from_file=True)\n",
    "\n",
    "n_samples = 1000\n",
    "questions, document_contexts, coss = zip(*trainval[:n_samples])"
   ],
   "metadata": {
    "collapsed": false,
    "ExecuteTime": {
     "end_time": "2024-04-01T16:38:08.614453Z",
     "start_time": "2024-04-01T16:38:08.419656Z"
    }
   },
   "id": "bd6028294010f8db"
  },
  {
   "cell_type": "code",
   "execution_count": 6,
   "outputs": [],
   "source": [
    "evaluator = evaluation.EmbeddingSimilarityEvaluator(questions, document_contexts, coss)"
   ],
   "metadata": {
    "collapsed": false,
    "ExecuteTime": {
     "end_time": "2024-04-01T16:38:09.276743Z",
     "start_time": "2024-04-01T16:38:09.274153Z"
    }
   },
   "id": "b826e1853b2f3296"
  },
  {
   "cell_type": "code",
   "execution_count": 7,
   "outputs": [],
   "source": [
    "bi_encoder = raw_bi_encoder()"
   ],
   "metadata": {
    "collapsed": false,
    "ExecuteTime": {
     "end_time": "2024-04-01T16:38:10.368990Z",
     "start_time": "2024-04-01T16:38:09.796940Z"
    }
   },
   "id": "8a88b3b4d5cf962d"
  },
  {
   "cell_type": "code",
   "execution_count": 8,
   "outputs": [
    {
     "data": {
      "text/plain": "0.7866959794370026"
     },
     "execution_count": 8,
     "metadata": {},
     "output_type": "execute_result"
    }
   ],
   "source": [
    "bi_encoder.evaluate(evaluator)"
   ],
   "metadata": {
    "collapsed": false,
    "ExecuteTime": {
     "end_time": "2024-04-01T16:39:01.374085Z",
     "start_time": "2024-04-01T16:38:11.005549Z"
    }
   },
   "id": "265a39fd09c9c754"
  },
  {
   "cell_type": "markdown",
   "source": [
    "# Fine-Tuning"
   ],
   "metadata": {
    "collapsed": false
   },
   "id": "795e93f2090efad5"
  },
  {
   "cell_type": "code",
   "execution_count": 9,
   "outputs": [
    {
     "name": "stdout",
     "output_type": "stream",
     "text": [
      "{'guid': '', 'texts': ['что оказала Заметное, хотя и менее значительное влияние на воззрения Локка', 'Заметное, хотя и менее значительное влияние на воззрения Локка оказала психология Гоббса, у которого заимствован, например, порядок изложения Опыта . Описывая процессы сравнения, Локк следует за Гоббсом; вместе с ним он утверждает, что отношения не принадлежат вещам, а составляют результат сравнения, что отношений бесчисленное множество, что более важные отношения суть тождество и различие, равенство и неравенство, сходство и несходство, смежность по пространству и времени, причина и действие. В трактате о языке, то есть в третьей книге Опыта , Локк развивает мысли Гоббса. В учении о воле Локк находится в сильнейшей зависимости от Гоббса; вместе с последним он учит, что стремление к удовольствию есть единственное проходящее через всю нашу психическую жизнь и что понятие о добре и зле у различных людей совершенно различно. В учении о свободе воли Локк вместе с Гоббсом утверждает, что воля склоняется в сторону сильнейшего желания и что свобода есть сила, принадлежащая душе, а не воле[6].'], 'label': 1.0}\n"
     ]
    }
   ],
   "source": [
    "from hw4.data_preparer import trainval_examples\n",
    "\n",
    "trainval_examples = trainval_examples()[:n_samples]\n",
    "print(trainval_examples[0].__dict__)"
   ],
   "metadata": {
    "collapsed": false,
    "ExecuteTime": {
     "end_time": "2024-04-01T16:39:05.154136Z",
     "start_time": "2024-04-01T16:39:04.846025Z"
    }
   },
   "id": "c9fe58494b846c84"
  },
  {
   "cell_type": "code",
   "execution_count": 10,
   "outputs": [],
   "source": [
    "from torch.utils.data import DataLoader\n",
    "\n",
    "trainval_dataloader_set = DataLoader(trainval_examples, shuffle=True, batch_size=32, collate_fn=bi_encoder.smart_batching_collate)"
   ],
   "metadata": {
    "collapsed": false,
    "ExecuteTime": {
     "end_time": "2024-04-01T16:39:07.385687Z",
     "start_time": "2024-04-01T16:39:07.382911Z"
    }
   },
   "id": "b480dcdedbe1672e"
  },
  {
   "cell_type": "code",
   "execution_count": 11,
   "outputs": [],
   "source": [
    "from sentence_transformers import losses\n",
    "\n",
    "trainval_loss_set = losses.CosineSimilarityLoss(bi_encoder)"
   ],
   "metadata": {
    "collapsed": false,
    "ExecuteTime": {
     "end_time": "2024-04-01T16:39:09.592740Z",
     "start_time": "2024-04-01T16:39:09.575227Z"
    }
   },
   "id": "cbac197651973353"
  },
  {
   "cell_type": "code",
   "execution_count": 12,
   "outputs": [
    {
     "data": {
      "text/plain": "CosineSimilarityLoss(\n  (model): SentenceTransformer(\n    (0): Transformer({'max_seq_length': 256, 'do_lower_case': False}) with Transformer model: BertModel \n    (1): Pooling({'word_embedding_dimension': 312, 'pooling_mode_cls_token': False, 'pooling_mode_mean_tokens': True, 'pooling_mode_max_tokens': False, 'pooling_mode_mean_sqrt_len_tokens': False, 'pooling_mode_weightedmean_tokens': False, 'pooling_mode_lasttoken': False, 'include_prompt': True})\n  )\n  (loss_fct): MSELoss()\n  (cos_score_transformation): Identity()\n)"
     },
     "execution_count": 12,
     "metadata": {},
     "output_type": "execute_result"
    }
   ],
   "source": [
    "trainval_loss_set"
   ],
   "metadata": {
    "collapsed": false,
    "ExecuteTime": {
     "end_time": "2024-04-01T16:39:10.065684Z",
     "start_time": "2024-04-01T16:39:10.063874Z"
    }
   },
   "id": "e70cdccdc091412f"
  },
  {
   "cell_type": "code",
   "execution_count": 13,
   "outputs": [
    {
     "data": {
      "text/plain": "(torch.Size([32, 33]), torch.Size([32, 256]), torch.Size([32]))"
     },
     "execution_count": 13,
     "metadata": {},
     "output_type": "execute_result"
    }
   ],
   "source": [
    "(query_batch, context_batch), labels = next(iter(trainval_dataloader_set))\n",
    "query_batch['input_ids'].shape, context_batch['input_ids'].shape, labels.shape"
   ],
   "metadata": {
    "collapsed": false,
    "ExecuteTime": {
     "end_time": "2024-04-01T16:39:12.677047Z",
     "start_time": "2024-04-01T16:39:12.663427Z"
    }
   },
   "id": "d5172b90c66dfb0b"
  },
  {
   "cell_type": "code",
   "execution_count": 17,
   "outputs": [
    {
     "data": {
      "text/plain": "Epoch:   0%|          | 0/5 [00:00<?, ?it/s]",
      "application/vnd.jupyter.widget-view+json": {
       "version_major": 2,
       "version_minor": 0,
       "model_id": "9057de821cd44cb0b93581071095cd5c"
      }
     },
     "metadata": {},
     "output_type": "display_data"
    },
    {
     "data": {
      "text/plain": "Iteration:   0%|          | 0/32 [00:00<?, ?it/s]",
      "application/vnd.jupyter.widget-view+json": {
       "version_major": 2,
       "version_minor": 0,
       "model_id": "4811a76f6ab34b13966a69c53dc8d6a4"
      }
     },
     "metadata": {},
     "output_type": "display_data"
    },
    {
     "data": {
      "text/plain": "Iteration:   0%|          | 0/32 [00:00<?, ?it/s]",
      "application/vnd.jupyter.widget-view+json": {
       "version_major": 2,
       "version_minor": 0,
       "model_id": "b7afacc7d5b4482890477c11576e438f"
      }
     },
     "metadata": {},
     "output_type": "display_data"
    },
    {
     "data": {
      "text/plain": "Iteration:   0%|          | 0/32 [00:00<?, ?it/s]",
      "application/vnd.jupyter.widget-view+json": {
       "version_major": 2,
       "version_minor": 0,
       "model_id": "da1f9bbeec5e43bab0131513d197642c"
      }
     },
     "metadata": {},
     "output_type": "display_data"
    },
    {
     "data": {
      "text/plain": "Iteration:   0%|          | 0/32 [00:00<?, ?it/s]",
      "application/vnd.jupyter.widget-view+json": {
       "version_major": 2,
       "version_minor": 0,
       "model_id": "e51c660e38254db29004a2e335c66405"
      }
     },
     "metadata": {},
     "output_type": "display_data"
    },
    {
     "data": {
      "text/plain": "Iteration:   0%|          | 0/32 [00:00<?, ?it/s]",
      "application/vnd.jupyter.widget-view+json": {
       "version_major": 2,
       "version_minor": 0,
       "model_id": "32da6f1222844c0b892dd5ffdeae764a"
      }
     },
     "metadata": {},
     "output_type": "display_data"
    }
   ],
   "source": [
    "bi_encoder.fit(\n",
    "    train_objectives=[(trainval_dataloader_set, trainval_loss_set)],\n",
    "    output_path='qa/results',\n",
    "    epochs=5,\n",
    "    evaluator=evaluator,\n",
    ")"
   ],
   "metadata": {
    "collapsed": false,
    "ExecuteTime": {
     "end_time": "2024-04-01T16:43:45.695483Z",
     "start_time": "2024-04-01T16:42:20.415723Z"
    }
   },
   "id": "4199e3da5dbbb45c"
  },
  {
   "cell_type": "code",
   "execution_count": 18,
   "outputs": [
    {
     "data": {
      "text/plain": "0.7925156846997037"
     },
     "execution_count": 18,
     "metadata": {},
     "output_type": "execute_result"
    }
   ],
   "source": [
    "bi_encoder.evaluate(evaluator)"
   ],
   "metadata": {
    "collapsed": false,
    "ExecuteTime": {
     "end_time": "2024-04-01T16:43:47.363843Z",
     "start_time": "2024-04-01T16:43:45.698155Z"
    }
   },
   "id": "cc4e88e82db653a0"
  },
  {
   "cell_type": "code",
   "execution_count": null,
   "outputs": [],
   "source": [],
   "metadata": {
    "collapsed": false
   },
   "id": "d180ba1217f9697f"
  }
 ],
 "metadata": {
  "kernelspec": {
   "display_name": "Python 3",
   "language": "python",
   "name": "python3"
  },
  "language_info": {
   "codemirror_mode": {
    "name": "ipython",
    "version": 2
   },
   "file_extension": ".py",
   "mimetype": "text/x-python",
   "name": "python",
   "nbconvert_exporter": "python",
   "pygments_lexer": "ipython2",
   "version": "2.7.6"
  }
 },
 "nbformat": 4,
 "nbformat_minor": 5
}
