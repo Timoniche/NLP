{
 "cells": [
  {
   "cell_type": "markdown",
   "source": [
    "# Asymetric semantic search\n",
    "## Bi-encoder (RuBert) Fine-tuning using Sentence-Transformers library\n",
    "\n",
    "dataset: https://huggingface.co/datasets/sberquad\n",
    "training overview: https://www.sbert.net/docs/training/overview.html"
   ],
   "metadata": {
    "collapsed": false
   },
   "id": "bed717de4dd09091"
  },
  {
   "cell_type": "code",
   "execution_count": 12,
   "outputs": [
    {
     "name": "stdout",
     "output_type": "stream",
     "text": [
      "mps\n"
     ]
    }
   ],
   "source": [
    "import torch\n",
    "\n",
    "device = 'mps' if torch.backends.mps.is_built() else 'cuda' if torch.cuda.is_available() else 'cpu'\n",
    "\n",
    "print(device)"
   ],
   "metadata": {
    "collapsed": false,
    "ExecuteTime": {
     "end_time": "2024-04-02T19:39:14.806211Z",
     "start_time": "2024-04-02T19:39:14.802102Z"
    }
   },
   "id": "c41ef37d62d2f1e4"
  },
  {
   "cell_type": "code",
   "execution_count": 13,
   "outputs": [],
   "source": [
    "from sentence_transformers import SentenceTransformer, models\n",
    "\n",
    "\n",
    "def raw_bi_encoder():\n",
    "    word_embedding_model = models.Transformer('cointegrated/rubert-tiny2', max_seq_length=256)\n",
    "    pooling_model = models.Pooling(word_embedding_model.get_word_embedding_dimension())\n",
    "\n",
    "    bi_encoder = SentenceTransformer(\n",
    "        modules=[word_embedding_model, pooling_model],\n",
    "        device=device,\n",
    "    )\n",
    "\n",
    "    return bi_encoder"
   ],
   "metadata": {
    "collapsed": false,
    "ExecuteTime": {
     "end_time": "2024-04-02T19:39:15.241069Z",
     "start_time": "2024-04-02T19:39:15.237853Z"
    }
   },
   "id": "4f79ea949682a4bf"
  },
  {
   "cell_type": "code",
   "execution_count": 14,
   "outputs": [
    {
     "name": "stdout",
     "output_type": "stream",
     "text": [
      "SentenceTransformer(\n",
      "  (0): Transformer({'max_seq_length': 256, 'do_lower_case': False}) with Transformer model: BertModel \n",
      "  (1): Pooling({'word_embedding_dimension': 312, 'pooling_mode_cls_token': False, 'pooling_mode_mean_tokens': True, 'pooling_mode_max_tokens': False, 'pooling_mode_mean_sqrt_len_tokens': False, 'pooling_mode_weightedmean_tokens': False, 'pooling_mode_lasttoken': False, 'include_prompt': True})\n",
      ")\n"
     ]
    }
   ],
   "source": [
    "bi_encoder = raw_bi_encoder()\n",
    "\n",
    "print(bi_encoder)"
   ],
   "metadata": {
    "collapsed": false,
    "ExecuteTime": {
     "end_time": "2024-04-02T19:39:17.324382Z",
     "start_time": "2024-04-02T19:39:15.698299Z"
    }
   },
   "id": "8b2f3319e1d0d330"
  },
  {
   "cell_type": "markdown",
   "source": [
    "# Let's make sure it works"
   ],
   "metadata": {
    "collapsed": false
   },
   "id": "293cd2ca419c64c4"
  },
  {
   "cell_type": "code",
   "execution_count": 15,
   "outputs": [
    {
     "data": {
      "text/plain": "0.8660254037844387"
     },
     "execution_count": 15,
     "metadata": {},
     "output_type": "execute_result"
    }
   ],
   "source": [
    "from sentence_transformers import evaluation\n",
    "\n",
    "document_context = [\n",
    "    'Город Байконур и космодром Байконур вместе образуют комплекс Байконур , арендованный Россией у Казахстана на период до 2050 года. Эксплуатация космодрома стоит около 9 млрд рублей в год (стоимость аренды комплекса Байконур составляет 115 млн долларов — около 7,4 млрд рублей в год; ещё около 1,5 млрд рублей в год Россия тратит на поддержание объектов космодрома), что составляет 4,2 % от общего бюджета Роскосмоса на 2012 год. Кроме того, из федерального бюджета России в бюджет города Байконура ежегодно осуществляется безвозмездное поступление в размере 1,16 млрд рублей (по состоянию на 2012 год). В общей сложности космодром и город обходятся бюджету России в 10,16 млрд рублей в год.',\n",
    "\n",
    "    'Скорость света в вакууме — абсолютная величина скорости распространения электромагнитных волн в вакууме. Традиционно обозначается латинской буквой c (произносится как [це]). Скорость света в вакууме — фундаментальная постоянная, не зависящая от выбора инерциальной системы отсчёта (ИСО). Она относится к фундаментальным физическим постоянным, которые характеризуют не просто отдельные тела или поля, а свойства пространства-времени в целом. По современным представлениям, скорость света в вакууме — предельная скорость движения частиц и распространения взаимодействий.',\n",
    "\n",
    "    'Первый троллейбус был создан в Германии инженером Вернером фон Сименсом, вероятно, под влиянием идеи его брата, проживавшего в Англии доктора Вильгельма Сименса, высказанной 18 мая 1881 года на двадцать втором заседании Королевского научного общества. Электросъём осуществлялся восьмиколёсной тележкой (Kontaktwagen), катившейся по двум параллельным контактным проводам. Провода располагались достаточно близко друг от друга, и при сильном ветре нередко перехлёстывались, что приводило к коротким замыканиям. Экспериментальная троллейбусная линия протяжённостью 540 м (591 ярд), открытая компанией Siemens & Halske в предместье Берлина Галензе (Halensee), действовала с 29 апреля по 13 июня 1882.',\n",
    "]\n",
    "\n",
    "question = [\n",
    "    'На какой период был арендован Россией комплекс Байконур',\n",
    "\n",
    "    'Как называется абсолютная величина скорости распространения электромагнитных волн в вакууме?',\n",
    "\n",
    "    'Кем был ослеплен князь Василий Тёмный?',\n",
    "]\n",
    "\n",
    "label = [\n",
    "    1.0,\n",
    "    1.0,\n",
    "    0.0,\n",
    "]\n",
    "\n",
    "evaluator = evaluation.EmbeddingSimilarityEvaluator(question, document_context, label)\n",
    "bi_encoder.evaluate(evaluator)"
   ],
   "metadata": {
    "collapsed": false,
    "ExecuteTime": {
     "end_time": "2024-04-02T19:39:19.325988Z",
     "start_time": "2024-04-02T19:39:17.324233Z"
    }
   },
   "id": "9bd9034e7ec6c06c"
  },
  {
   "cell_type": "markdown",
   "source": [
    "# Evaluate on train-val without Fine-Tuning"
   ],
   "metadata": {
    "collapsed": false
   },
   "id": "48e670125c9e2fd8"
  },
  {
   "cell_type": "code",
   "execution_count": 16,
   "outputs": [],
   "source": [
    "from hw4.data_preparer import trainval_shuffled_data\n",
    "\n",
    "trainval = trainval_shuffled_data(from_file=True)\n",
    "\n",
    "n_samples = 1000\n",
    "questions, document_contexts, coss = zip(*trainval[:n_samples])"
   ],
   "metadata": {
    "collapsed": false,
    "ExecuteTime": {
     "end_time": "2024-04-02T19:39:21.673848Z",
     "start_time": "2024-04-02T19:39:21.602999Z"
    }
   },
   "id": "bd6028294010f8db"
  },
  {
   "cell_type": "code",
   "execution_count": 17,
   "outputs": [],
   "source": [
    "evaluator = evaluation.EmbeddingSimilarityEvaluator(questions, document_contexts, coss)"
   ],
   "metadata": {
    "collapsed": false,
    "ExecuteTime": {
     "end_time": "2024-04-02T19:39:22.252156Z",
     "start_time": "2024-04-02T19:39:22.247016Z"
    }
   },
   "id": "b826e1853b2f3296"
  },
  {
   "cell_type": "code",
   "execution_count": 18,
   "outputs": [],
   "source": [
    "bi_encoder = raw_bi_encoder()"
   ],
   "metadata": {
    "collapsed": false,
    "ExecuteTime": {
     "end_time": "2024-04-02T19:39:23.295782Z",
     "start_time": "2024-04-02T19:39:22.711102Z"
    }
   },
   "id": "8a88b3b4d5cf962d"
  },
  {
   "cell_type": "code",
   "execution_count": 19,
   "outputs": [
    {
     "data": {
      "text/plain": "0.7866959794370026"
     },
     "execution_count": 19,
     "metadata": {},
     "output_type": "execute_result"
    }
   ],
   "source": [
    "bi_encoder.evaluate(evaluator)"
   ],
   "metadata": {
    "collapsed": false,
    "ExecuteTime": {
     "end_time": "2024-04-02T19:40:14.549523Z",
     "start_time": "2024-04-02T19:39:23.705283Z"
    }
   },
   "id": "265a39fd09c9c754"
  },
  {
   "cell_type": "markdown",
   "source": [
    "# Evaluate on test without Fine-Tuning"
   ],
   "metadata": {
    "collapsed": false
   },
   "id": "515bb4fa04e6d00d"
  },
  {
   "cell_type": "code",
   "execution_count": 20,
   "outputs": [],
   "source": [
    "from hw4.data_preparer import test_shuffled_data\n",
    "\n",
    "n_test_samples = 1000\n",
    "test = test_shuffled_data(from_file=True)\n",
    "test_questions, test_document_contexts, test_coss = zip(*test[:n_test_samples])"
   ],
   "metadata": {
    "collapsed": false,
    "ExecuteTime": {
     "end_time": "2024-04-02T19:40:14.669326Z",
     "start_time": "2024-04-02T19:40:14.547087Z"
    }
   },
   "id": "16736fde11f92ec3"
  },
  {
   "cell_type": "code",
   "execution_count": 21,
   "outputs": [],
   "source": [
    "evaluator = evaluation.EmbeddingSimilarityEvaluator(test_questions, test_document_contexts, test_coss)"
   ],
   "metadata": {
    "collapsed": false,
    "ExecuteTime": {
     "end_time": "2024-04-02T19:40:14.674232Z",
     "start_time": "2024-04-02T19:40:14.669776Z"
    }
   },
   "id": "772bd352fc7064b5"
  },
  {
   "cell_type": "code",
   "execution_count": 11,
   "outputs": [],
   "source": [
    "bi_encoder = raw_bi_encoder()"
   ],
   "metadata": {
    "collapsed": false,
    "ExecuteTime": {
     "end_time": "2024-04-01T17:39:41.719208Z",
     "start_time": "2024-04-01T17:39:41.080635Z"
    }
   },
   "id": "cfcf15bf481fccf8"
  },
  {
   "cell_type": "code",
   "execution_count": 12,
   "outputs": [
    {
     "data": {
      "text/plain": "0.8064889530877336"
     },
     "execution_count": 12,
     "metadata": {},
     "output_type": "execute_result"
    }
   ],
   "source": [
    "bi_encoder.evaluate(evaluator)"
   ],
   "metadata": {
    "collapsed": false,
    "ExecuteTime": {
     "end_time": "2024-04-01T17:40:17.833261Z",
     "start_time": "2024-04-01T17:39:41.720228Z"
    }
   },
   "id": "20da8e9aba824094"
  },
  {
   "cell_type": "markdown",
   "source": [
    "# Fine-Tuning"
   ],
   "metadata": {
    "collapsed": false
   },
   "id": "795e93f2090efad5"
  },
  {
   "cell_type": "code",
   "execution_count": 9,
   "outputs": [
    {
     "name": "stdout",
     "output_type": "stream",
     "text": [
      "{'guid': '', 'texts': ['что оказала Заметное, хотя и менее значительное влияние на воззрения Локка', 'Заметное, хотя и менее значительное влияние на воззрения Локка оказала психология Гоббса, у которого заимствован, например, порядок изложения Опыта . Описывая процессы сравнения, Локк следует за Гоббсом; вместе с ним он утверждает, что отношения не принадлежат вещам, а составляют результат сравнения, что отношений бесчисленное множество, что более важные отношения суть тождество и различие, равенство и неравенство, сходство и несходство, смежность по пространству и времени, причина и действие. В трактате о языке, то есть в третьей книге Опыта , Локк развивает мысли Гоббса. В учении о воле Локк находится в сильнейшей зависимости от Гоббса; вместе с последним он учит, что стремление к удовольствию есть единственное проходящее через всю нашу психическую жизнь и что понятие о добре и зле у различных людей совершенно различно. В учении о свободе воли Локк вместе с Гоббсом утверждает, что воля склоняется в сторону сильнейшего желания и что свобода есть сила, принадлежащая душе, а не воле[6].'], 'label': 1.0}\n"
     ]
    }
   ],
   "source": [
    "from hw4.data_preparer import trainval_examples\n",
    "\n",
    "trainval_examples = trainval_examples()[:n_samples]\n",
    "print(trainval_examples[0].__dict__)"
   ],
   "metadata": {
    "collapsed": false,
    "ExecuteTime": {
     "end_time": "2024-04-01T16:39:05.154136Z",
     "start_time": "2024-04-01T16:39:04.846025Z"
    }
   },
   "id": "c9fe58494b846c84"
  },
  {
   "cell_type": "code",
   "execution_count": 10,
   "outputs": [],
   "source": [
    "from torch.utils.data import DataLoader\n",
    "\n",
    "trainval_dataloader_set = DataLoader(trainval_examples, shuffle=True, batch_size=32,\n",
    "                                     collate_fn=bi_encoder.smart_batching_collate)"
   ],
   "metadata": {
    "collapsed": false,
    "ExecuteTime": {
     "end_time": "2024-04-01T16:39:07.385687Z",
     "start_time": "2024-04-01T16:39:07.382911Z"
    }
   },
   "id": "b480dcdedbe1672e"
  },
  {
   "cell_type": "code",
   "execution_count": 11,
   "outputs": [],
   "source": [
    "from sentence_transformers import losses\n",
    "\n",
    "trainval_loss_set = losses.CosineSimilarityLoss(bi_encoder)"
   ],
   "metadata": {
    "collapsed": false,
    "ExecuteTime": {
     "end_time": "2024-04-01T16:39:09.592740Z",
     "start_time": "2024-04-01T16:39:09.575227Z"
    }
   },
   "id": "cbac197651973353"
  },
  {
   "cell_type": "code",
   "execution_count": 12,
   "outputs": [
    {
     "data": {
      "text/plain": "CosineSimilarityLoss(\n  (model): SentenceTransformer(\n    (0): Transformer({'max_seq_length': 256, 'do_lower_case': False}) with Transformer model: BertModel \n    (1): Pooling({'word_embedding_dimension': 312, 'pooling_mode_cls_token': False, 'pooling_mode_mean_tokens': True, 'pooling_mode_max_tokens': False, 'pooling_mode_mean_sqrt_len_tokens': False, 'pooling_mode_weightedmean_tokens': False, 'pooling_mode_lasttoken': False, 'include_prompt': True})\n  )\n  (loss_fct): MSELoss()\n  (cos_score_transformation): Identity()\n)"
     },
     "execution_count": 12,
     "metadata": {},
     "output_type": "execute_result"
    }
   ],
   "source": [
    "trainval_loss_set"
   ],
   "metadata": {
    "collapsed": false,
    "ExecuteTime": {
     "end_time": "2024-04-01T16:39:10.065684Z",
     "start_time": "2024-04-01T16:39:10.063874Z"
    }
   },
   "id": "e70cdccdc091412f"
  },
  {
   "cell_type": "code",
   "execution_count": 13,
   "outputs": [
    {
     "data": {
      "text/plain": "(torch.Size([32, 33]), torch.Size([32, 256]), torch.Size([32]))"
     },
     "execution_count": 13,
     "metadata": {},
     "output_type": "execute_result"
    }
   ],
   "source": [
    "(query_batch, context_batch), labels = next(iter(trainval_dataloader_set))\n",
    "query_batch['input_ids'].shape, context_batch['input_ids'].shape, labels.shape"
   ],
   "metadata": {
    "collapsed": false,
    "ExecuteTime": {
     "end_time": "2024-04-01T16:39:12.677047Z",
     "start_time": "2024-04-01T16:39:12.663427Z"
    }
   },
   "id": "d5172b90c66dfb0b"
  },
  {
   "cell_type": "code",
   "execution_count": 17,
   "outputs": [
    {
     "data": {
      "text/plain": "Epoch:   0%|          | 0/5 [00:00<?, ?it/s]",
      "application/vnd.jupyter.widget-view+json": {
       "version_major": 2,
       "version_minor": 0,
       "model_id": "9057de821cd44cb0b93581071095cd5c"
      }
     },
     "metadata": {},
     "output_type": "display_data"
    },
    {
     "data": {
      "text/plain": "Iteration:   0%|          | 0/32 [00:00<?, ?it/s]",
      "application/vnd.jupyter.widget-view+json": {
       "version_major": 2,
       "version_minor": 0,
       "model_id": "4811a76f6ab34b13966a69c53dc8d6a4"
      }
     },
     "metadata": {},
     "output_type": "display_data"
    },
    {
     "data": {
      "text/plain": "Iteration:   0%|          | 0/32 [00:00<?, ?it/s]",
      "application/vnd.jupyter.widget-view+json": {
       "version_major": 2,
       "version_minor": 0,
       "model_id": "b7afacc7d5b4482890477c11576e438f"
      }
     },
     "metadata": {},
     "output_type": "display_data"
    },
    {
     "data": {
      "text/plain": "Iteration:   0%|          | 0/32 [00:00<?, ?it/s]",
      "application/vnd.jupyter.widget-view+json": {
       "version_major": 2,
       "version_minor": 0,
       "model_id": "da1f9bbeec5e43bab0131513d197642c"
      }
     },
     "metadata": {},
     "output_type": "display_data"
    },
    {
     "data": {
      "text/plain": "Iteration:   0%|          | 0/32 [00:00<?, ?it/s]",
      "application/vnd.jupyter.widget-view+json": {
       "version_major": 2,
       "version_minor": 0,
       "model_id": "e51c660e38254db29004a2e335c66405"
      }
     },
     "metadata": {},
     "output_type": "display_data"
    },
    {
     "data": {
      "text/plain": "Iteration:   0%|          | 0/32 [00:00<?, ?it/s]",
      "application/vnd.jupyter.widget-view+json": {
       "version_major": 2,
       "version_minor": 0,
       "model_id": "32da6f1222844c0b892dd5ffdeae764a"
      }
     },
     "metadata": {},
     "output_type": "display_data"
    }
   ],
   "source": [
    "bi_encoder.fit(\n",
    "    train_objectives=[(trainval_dataloader_set, trainval_loss_set)],\n",
    "    output_path='qa/results',\n",
    "    epochs=5,\n",
    "    evaluator=evaluator,\n",
    ")"
   ],
   "metadata": {
    "collapsed": false,
    "ExecuteTime": {
     "end_time": "2024-04-01T16:43:45.695483Z",
     "start_time": "2024-04-01T16:42:20.415723Z"
    }
   },
   "id": "4199e3da5dbbb45c"
  },
  {
   "cell_type": "markdown",
   "source": [
    "# Loading model from checkpoint"
   ],
   "metadata": {
    "collapsed": false
   },
   "id": "59870fbb589855a"
  },
  {
   "cell_type": "code",
   "execution_count": 22,
   "outputs": [],
   "source": [
    "from sentence_transformers import SentenceTransformer\n",
    "\n",
    "finetuned_bi_encoder = SentenceTransformer('qa/results')"
   ],
   "metadata": {
    "collapsed": false,
    "ExecuteTime": {
     "end_time": "2024-04-02T19:40:27.480939Z",
     "start_time": "2024-04-02T19:40:27.326801Z"
    }
   },
   "id": "cf41141f94c86ed9"
  },
  {
   "cell_type": "code",
   "execution_count": 23,
   "outputs": [
    {
     "data": {
      "text/plain": "0.8099115488020344"
     },
     "execution_count": 23,
     "metadata": {},
     "output_type": "execute_result"
    }
   ],
   "source": [
    "finetuned_bi_encoder.evaluate(evaluator)"
   ],
   "metadata": {
    "collapsed": false,
    "ExecuteTime": {
     "end_time": "2024-04-02T19:41:05.283991Z",
     "start_time": "2024-04-02T19:40:28.078510Z"
    }
   },
   "id": "cc4e88e82db653a0"
  },
  {
   "cell_type": "markdown",
   "source": [
    "# Evaluating on metrics"
   ],
   "metadata": {
    "collapsed": false
   },
   "id": "69064f6f28013986"
  },
  {
   "cell_type": "code",
   "execution_count": 25,
   "outputs": [],
   "source": [
    "from hw4.data_preparer import test_shuffled_data\n",
    "\n",
    "data = test_shuffled_data(from_file=True)"
   ],
   "metadata": {
    "collapsed": false,
    "ExecuteTime": {
     "end_time": "2024-04-02T19:41:39.685900Z",
     "start_time": "2024-04-02T19:41:39.654540Z"
    }
   },
   "id": "d180ba1217f9697f"
  },
  {
   "cell_type": "code",
   "execution_count": 27,
   "outputs": [],
   "source": [
    "n_test_samples = 1000\n",
    "queries, docs, labels = zip(*data[:n_test_samples])"
   ],
   "metadata": {
    "collapsed": false,
    "ExecuteTime": {
     "end_time": "2024-04-02T19:41:50.099142Z",
     "start_time": "2024-04-02T19:41:50.096864Z"
    }
   },
   "id": "78cd4a5b1e62f085"
  },
  {
   "cell_type": "code",
   "execution_count": 28,
   "outputs": [
    {
     "name": "stdout",
     "output_type": "stream",
     "text": [
      "docs count before shrinking:  1000\n"
     ]
    }
   ],
   "source": [
    "print('docs count before shrinking: ', len(docs))"
   ],
   "metadata": {
    "collapsed": false,
    "ExecuteTime": {
     "end_time": "2024-04-02T19:42:35.282881Z",
     "start_time": "2024-04-02T19:42:35.273633Z"
    }
   },
   "id": "cebd3729f023bed6"
  },
  {
   "cell_type": "code",
   "execution_count": 31,
   "outputs": [],
   "source": [
    "docs = list(set(docs))"
   ],
   "metadata": {
    "collapsed": false,
    "ExecuteTime": {
     "end_time": "2024-04-02T19:43:44.103660Z",
     "start_time": "2024-04-02T19:43:44.091103Z"
    }
   },
   "id": "754e4207bf197a60"
  },
  {
   "cell_type": "code",
   "execution_count": 32,
   "outputs": [
    {
     "name": "stdout",
     "output_type": "stream",
     "text": [
      "docs count without duplicates:  891\n"
     ]
    }
   ],
   "source": [
    "print('docs count without duplicates: ', len(docs))"
   ],
   "metadata": {
    "collapsed": false,
    "ExecuteTime": {
     "end_time": "2024-04-02T19:44:00.356263Z",
     "start_time": "2024-04-02T19:44:00.345520Z"
    }
   },
   "id": "50ceb1c1b234955f"
  },
  {
   "cell_type": "code",
   "execution_count": 33,
   "outputs": [
    {
     "data": {
      "text/plain": "Batches:   0%|          | 0/28 [00:00<?, ?it/s]",
      "application/vnd.jupyter.widget-view+json": {
       "version_major": 2,
       "version_minor": 0,
       "model_id": "df393ca00099493eaffc5ca1d52120e6"
      }
     },
     "metadata": {},
     "output_type": "display_data"
    }
   ],
   "source": [
    "doc_embs = finetuned_bi_encoder.encode(\n",
    "    docs,\n",
    "    convert_to_tensor=True,\n",
    "    show_progress_bar=True,\n",
    ")"
   ],
   "metadata": {
    "collapsed": false,
    "ExecuteTime": {
     "end_time": "2024-04-02T19:46:14.545107Z",
     "start_time": "2024-04-02T19:45:54.017471Z"
    }
   },
   "id": "7db87e33514e66d"
  },
  {
   "cell_type": "code",
   "execution_count": 36,
   "outputs": [
    {
     "data": {
      "text/plain": "Batches:   0%|          | 0/32 [00:00<?, ?it/s]",
      "application/vnd.jupyter.widget-view+json": {
       "version_major": 2,
       "version_minor": 0,
       "model_id": "16d6b3425a6d46eb920c33568c8253e4"
      }
     },
     "metadata": {},
     "output_type": "display_data"
    }
   ],
   "source": [
    "query_embs = finetuned_bi_encoder.encode(\n",
    "    queries,\n",
    "    convert_to_tensor=True,\n",
    "    show_progress_bar=True,\n",
    ")"
   ],
   "metadata": {
    "collapsed": false,
    "ExecuteTime": {
     "end_time": "2024-04-02T19:50:02.361640Z",
     "start_time": "2024-04-02T19:50:02.014172Z"
    }
   },
   "id": "bac6843d69ee87d7"
  },
  {
   "cell_type": "code",
   "execution_count": 38,
   "outputs": [],
   "source": [
    "from sentence_transformers import util"
   ],
   "metadata": {
    "collapsed": false,
    "ExecuteTime": {
     "end_time": "2024-04-02T19:54:32.351234Z",
     "start_time": "2024-04-02T19:54:32.338409Z"
    }
   },
   "id": "78ab3b4b0affec85"
  },
  {
   "cell_type": "code",
   "execution_count": 39,
   "outputs": [],
   "source": [
    "cos_sim_score = util.semantic_search(query_embs, doc_embs, top_k=3)"
   ],
   "metadata": {
    "collapsed": false,
    "ExecuteTime": {
     "end_time": "2024-04-02T19:54:33.294197Z",
     "start_time": "2024-04-02T19:54:32.718151Z"
    }
   },
   "id": "c77d5208c1bee93"
  },
  {
   "cell_type": "code",
   "execution_count": 41,
   "outputs": [
    {
     "name": "stdout",
     "output_type": "stream",
     "text": [
      "[{'corpus_id': 0, 'score': 0.5318310856819153}, {'corpus_id': 382, 'score': 0.5177189111709595}, {'corpus_id': 739, 'score': 0.5000532269477844}]\n"
     ]
    }
   ],
   "source": [
    "for_first_query = cos_sim_score[0]\n",
    "print(for_first_query)"
   ],
   "metadata": {
    "collapsed": false,
    "ExecuteTime": {
     "end_time": "2024-04-02T19:55:43.458055Z",
     "start_time": "2024-04-02T19:55:43.451832Z"
    }
   },
   "id": "ec5bdf4b4bbcbae5"
  },
  {
   "cell_type": "code",
   "execution_count": 51,
   "outputs": [
    {
     "name": "stdout",
     "output_type": "stream",
     "text": [
      "Question:  Какое содержание селена в морской воде?\n",
      "\n",
      "corpus id:  0\n",
      "Document 1: Cosine Similarity is 0.532:\n",
      "\n",
      "Содержание селена в земной коре — около 500 мг/т. Основные черты геохимии селена в земной коре определяются близостью его ионного радиуса к ионному радиусу серы. Селен образует 37 минералов, среди которых в первую очередь должны быть отмечены ашавалит FeSe, клаусталит PbSe, тиманнит HgSe, гуанахуатит Bi2(Se, S)3, хастит CoSe2, платинит PbBi2(S, Se)3, ассоциирующие с различными сульфидами, а иногда также с касситеритом. Изредка встречается самородный селен. Главное промышленное значение на селен имеют сульфидные месторождения. Содержание селена в сульфидах колеблется от 7 до 110 г/т. Концентрация селена в морской воде 4·10−4 мг/л[15]. На территории Кавказских Минеральных Вод встречаются источники с содержанием Se от 50 мкг/дм3.\n",
      "\n",
      "corpus id:  382\n",
      "Document 2: Cosine Similarity is 0.518:\n",
      "\n",
      "К хлоридно-гидрокарбонатно-натриевому типу относится закарпатская вода Драговская с минерализацией 9,6 г/л и краснодарская Горячий ключ с общим содержанием солей в литре 4,5 г солей, но в них хлориды в виде поваренной соли (соответственно 59 и 67 %) превалируют над гидрокарбонатами, которые представлены содой (38 и 32 %). Обе воды безсульфатные. Преобладанием хлоридов над гидрокарбонатами отличается и вода того же типа Челкарская с минерализацией 2,2 г/л. Гидрокарбонаты в виде соды составляют 32, а хлоридов (поваренная соль) — 48 %. Кроме того, в Челкарской есть сульфаты в виде глауберовой соли (20 %).\n",
      "\n",
      "corpus id:  739\n",
      "Document 3: Cosine Similarity is 0.500:\n",
      "\n",
      "Хлоридно-кальциевые воды (горькие и горько-солёные) снижают проницаемость стенок сосудов и оказывают кровоостанавливающее действие. Известны они и в качестве отхаркивающего средства. Назначают эти воды и при лечении органов пищеварения, они повышают ферментативную силу желудочного сока, улучшают белковую функцию печени, усиливают образование мочевины и её выделение с мочой. Благоприятно влияют такие воды и на нервную систему. Чисто хлоридно-кальциевые воды встречаются в природе редко. Среди лечебно-питьевых вод бутылочного разлива этот тип воды представлен источником Лугела , содержащим 5%-ный раствор хлористого кальция.\n"
     ]
    }
   ],
   "source": [
    "print('Question: ', queries[0])\n",
    "print()\n",
    "for no, ir in enumerate(cos_sim_score[0]):\n",
    "    corpus_id = ir[\"corpus_id\"]\n",
    "    print('corpus id: ', corpus_id)\n",
    "    print(f'Document {no + 1}: Cosine Similarity is {ir[\"score\"]:.3f}:\\n\\n{docs[corpus_id]}')\n",
    "    print()"
   ],
   "metadata": {
    "collapsed": false,
    "ExecuteTime": {
     "end_time": "2024-04-02T20:02:31.210771Z",
     "start_time": "2024-04-02T20:02:31.198775Z"
    }
   },
   "id": "91acde8789134491"
  },
  {
   "cell_type": "code",
   "execution_count": null,
   "outputs": [],
   "source": [],
   "metadata": {
    "collapsed": false
   },
   "id": "fd19d1d12af7685e"
  }
 ],
 "metadata": {
  "kernelspec": {
   "display_name": "Python 3",
   "language": "python",
   "name": "python3"
  },
  "language_info": {
   "codemirror_mode": {
    "name": "ipython",
    "version": 2
   },
   "file_extension": ".py",
   "mimetype": "text/x-python",
   "name": "python",
   "nbconvert_exporter": "python",
   "pygments_lexer": "ipython2",
   "version": "2.7.6"
  }
 },
 "nbformat": 4,
 "nbformat_minor": 5
}
