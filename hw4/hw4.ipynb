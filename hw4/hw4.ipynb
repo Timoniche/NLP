{
 "cells": [
  {
   "cell_type": "markdown",
   "source": [
    "# Loading SberQuAD dataset"
   ],
   "metadata": {
    "collapsed": false
   },
   "id": "2e3dd85e06f5ce2c"
  },
  {
   "cell_type": "code",
   "execution_count": 2,
   "outputs": [
    {
     "name": "stderr",
     "output_type": "stream",
     "text": [
      "\n",
      "KeyboardInterrupt\n",
      "\n"
     ]
    }
   ],
   "source": [
    "pass"
   ],
   "metadata": {
    "collapsed": true,
    "ExecuteTime": {
     "end_time": "2024-03-31T22:44:25.649827Z",
     "start_time": "2024-03-31T22:44:20.586337Z"
    }
   },
   "id": "initial_id"
  },
  {
   "cell_type": "markdown",
   "source": [
    "# Asymetric semantic search\n",
    "## Bi-encoder (RuBert) Fine-tuning using Sentence-Transformers library\n",
    "\n",
    "dataset: https://huggingface.co/datasets/sberquad\n",
    "training overview: https://www.sbert.net/docs/training/overview.html"
   ],
   "metadata": {
    "collapsed": false
   },
   "id": "bed717de4dd09091"
  },
  {
   "cell_type": "code",
   "execution_count": 10,
   "outputs": [
    {
     "name": "stdout",
     "output_type": "stream",
     "text": [
      "SentenceTransformer(\n",
      "  (0): Transformer({'max_seq_length': 256, 'do_lower_case': False}) with Transformer model: BertModel \n",
      "  (1): Pooling({'word_embedding_dimension': 312, 'pooling_mode_cls_token': False, 'pooling_mode_mean_tokens': True, 'pooling_mode_max_tokens': False, 'pooling_mode_mean_sqrt_len_tokens': False, 'pooling_mode_weightedmean_tokens': False, 'pooling_mode_lasttoken': False, 'include_prompt': True})\n",
      ")\n"
     ]
    }
   ],
   "source": [
    "from sentence_transformers import SentenceTransformer, models\n",
    "\n",
    "word_embedding_model = models.Transformer('cointegrated/rubert-tiny2', max_seq_length=256)\n",
    "pooling_model = models.Pooling(word_embedding_model.get_word_embedding_dimension())\n",
    "\n",
    "bi_encoder = SentenceTransformer(modules=[word_embedding_model, pooling_model])\n",
    "\n",
    "print(bi_encoder)"
   ],
   "metadata": {
    "collapsed": false,
    "ExecuteTime": {
     "end_time": "2024-04-01T00:22:18.816980Z",
     "start_time": "2024-04-01T00:22:17.798381Z"
    }
   },
   "id": "8b2f3319e1d0d330"
  },
  {
   "cell_type": "markdown",
   "source": [
    "# Let's make sure it works"
   ],
   "metadata": {
    "collapsed": false
   },
   "id": "293cd2ca419c64c4"
  },
  {
   "cell_type": "code",
   "execution_count": 9,
   "outputs": [
    {
     "data": {
      "text/plain": "0.8660254037844387"
     },
     "execution_count": 9,
     "metadata": {},
     "output_type": "execute_result"
    }
   ],
   "source": [
    "from sentence_transformers import evaluation\n",
    "\n",
    "document_context = [\n",
    "    'Город Байконур и космодром Байконур вместе образуют комплекс Байконур , арендованный Россией у Казахстана на период до 2050 года. Эксплуатация космодрома стоит около 9 млрд рублей в год (стоимость аренды комплекса Байконур составляет 115 млн долларов — около 7,4 млрд рублей в год; ещё около 1,5 млрд рублей в год Россия тратит на поддержание объектов космодрома), что составляет 4,2 % от общего бюджета Роскосмоса на 2012 год. Кроме того, из федерального бюджета России в бюджет города Байконура ежегодно осуществляется безвозмездное поступление в размере 1,16 млрд рублей (по состоянию на 2012 год). В общей сложности космодром и город обходятся бюджету России в 10,16 млрд рублей в год.',\n",
    "    \n",
    "    'Скорость света в вакууме — абсолютная величина скорости распространения электромагнитных волн в вакууме. Традиционно обозначается латинской буквой c (произносится как [це]). Скорость света в вакууме — фундаментальная постоянная, не зависящая от выбора инерциальной системы отсчёта (ИСО). Она относится к фундаментальным физическим постоянным, которые характеризуют не просто отдельные тела или поля, а свойства пространства-времени в целом. По современным представлениям, скорость света в вакууме — предельная скорость движения частиц и распространения взаимодействий.',\n",
    "    \n",
    "    'Первый троллейбус был создан в Германии инженером Вернером фон Сименсом, вероятно, под влиянием идеи его брата, проживавшего в Англии доктора Вильгельма Сименса, высказанной 18 мая 1881 года на двадцать втором заседании Королевского научного общества. Электросъём осуществлялся восьмиколёсной тележкой (Kontaktwagen), катившейся по двум параллельным контактным проводам. Провода располагались достаточно близко друг от друга, и при сильном ветре нередко перехлёстывались, что приводило к коротким замыканиям. Экспериментальная троллейбусная линия протяжённостью 540 м (591 ярд), открытая компанией Siemens & Halske в предместье Берлина Галензе (Halensee), действовала с 29 апреля по 13 июня 1882.',\n",
    "]\n",
    "\n",
    "question = [\n",
    "    'На какой период был арендован Россией комплекс Байконур',\n",
    "    \n",
    "    'Как называется абсолютная величина скорости распространения электромагнитных волн в вакууме?',\n",
    "    \n",
    "    'Кем был ослеплен князь Василий Тёмный?',\n",
    "]\n",
    "\n",
    "label = [\n",
    "    1.0, \n",
    "    1.0,\n",
    "    0.0,\n",
    "]\n",
    "\n",
    "evaluator = evaluation.EmbeddingSimilarityEvaluator(question, document_context, label)\n",
    "bi_encoder.evaluate(evaluator)"
   ],
   "metadata": {
    "collapsed": false,
    "ExecuteTime": {
     "end_time": "2024-04-01T00:20:00.696055Z",
     "start_time": "2024-04-01T00:19:59.110456Z"
    }
   },
   "id": "9bd9034e7ec6c06c"
  },
  {
   "cell_type": "code",
   "execution_count": null,
   "outputs": [],
   "source": [],
   "metadata": {
    "collapsed": false
   },
   "id": "bd6028294010f8db"
  }
 ],
 "metadata": {
  "kernelspec": {
   "display_name": "Python 3",
   "language": "python",
   "name": "python3"
  },
  "language_info": {
   "codemirror_mode": {
    "name": "ipython",
    "version": 2
   },
   "file_extension": ".py",
   "mimetype": "text/x-python",
   "name": "python",
   "nbconvert_exporter": "python",
   "pygments_lexer": "ipython2",
   "version": "2.7.6"
  }
 },
 "nbformat": 4,
 "nbformat_minor": 5
}
